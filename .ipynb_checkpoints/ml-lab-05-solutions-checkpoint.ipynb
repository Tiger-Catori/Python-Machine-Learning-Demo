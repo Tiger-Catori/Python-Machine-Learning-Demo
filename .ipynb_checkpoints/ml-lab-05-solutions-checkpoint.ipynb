{
 "cells": [
  {
   "cell_type": "markdown",
   "metadata": {},
   "source": [
    "# ML Lab 05 \"solutions\"\n",
    "\n",
    "Regression.\n",
    "\n",
    "## Imports"
   ]
  },
  {
   "cell_type": "code",
   "execution_count": 1,
   "metadata": {
    "ExecuteTime": {
     "end_time": "2021-10-29T12:48:09.027485Z",
     "start_time": "2021-10-29T12:48:07.622623Z"
    }
   },
   "outputs": [],
   "source": [
    "# Data and Datasets\n",
    "import pandas as pd\n",
    "from sklearn.datasets import load_boston\n",
    "\n",
    "# Data processing\n",
    "from sklearn.preprocessing import PolynomialFeatures\n",
    "from sklearn.compose import TransformedTargetRegressor\n",
    "from sklearn.preprocessing import QuantileTransformer, quantile_transform\n",
    "\n",
    "# Validation methods\n",
    "from sklearn.model_selection import train_test_split\n",
    "\n",
    "# Metrics package\n",
    "from sklearn import metrics\n",
    "\n",
    "# Regression metrics\n",
    "from sklearn.metrics import mean_squared_error\n",
    "from sklearn.metrics import mean_absolute_error\n",
    "from sklearn.metrics import max_error\n",
    "\n",
    "# Regressors\n",
    "from sklearn.linear_model import LinearRegression\n",
    "from sklearn.tree import DecisionTreeRegressor\n",
    "\n",
    "# Visualisation\n",
    "import matplotlib.pyplot as plt\n",
    "import seaborn as sns\n",
    "from IPython.display import SVG\n",
    "from graphviz import Source\n",
    "from IPython.display import display\n",
    "from sklearn.tree import export_graphviz\n",
    "\n",
    "# Utils\n",
    "from sklearn.pipeline import Pipeline\n",
    "import pprint\n",
    "import numpy as np\n",
    "from time import time"
   ]
  },
  {
   "cell_type": "markdown",
   "metadata": {},
   "source": [
    "## Utility functions"
   ]
  },
  {
   "cell_type": "markdown",
   "metadata": {},
   "source": [
    "### Evaluation Function\n",
    "\n",
    "Introduced this function, to save on repetitive code. In summary, what this function does:\n",
    "\n",
    "* Takes as input arguments: a dataset (X and y), name of a model, a model object, and number of times to run hold-out evaluation\n",
    "* It then does hold-out validation, for each run, training and testing the model\n",
    "* It finally returns three arrays with the performance metrics from each hold-out validation run\n",
    "  - Mean Squared Error\n",
    "  - Mean Absolute Error\n",
    "  - Maximum Error"
   ]
  },
  {
   "cell_type": "code",
   "execution_count": 2,
   "metadata": {
    "ExecuteTime": {
     "end_time": "2021-10-29T12:48:09.035329Z",
     "start_time": "2021-10-29T12:48:09.029732Z"
    }
   },
   "outputs": [],
   "source": [
    "def validate_model(X, y, model, num_runs=1000, test_size=0.2):\n",
    "    \"\"\"\n",
    "    Performs hold-out validation of a given model on the dataset provided (X, y).\n",
    "    The default number of runs is 1000, and the default training/test split is 80/20.\n",
    "    \"\"\"\n",
    "    \n",
    "    # arrays for storing performance metrics\n",
    "    mse_list = np.array([])\n",
    "    mae_list = np.array([])\n",
    "    me_list = np.array([])\n",
    "    \n",
    "    for x in range(num_runs):\n",
    "        # Hold-out validation - 80% training and 20% testing\n",
    "        X_train, X_test, y_train, y_test = train_test_split(X, y, test_size=test_size, random_state=None)\n",
    "\n",
    "        # Training and testing the model\n",
    "        model.fit(X_train, y_train)\n",
    "        y_pred = model.predict(X_test)\n",
    "\n",
    "        # Appending performance metrics to arrays created above\n",
    "        mse_list = np.append(mse_list, mean_squared_error(y_test, y_pred))\n",
    "        mae_list = np.append(mae_list, mean_absolute_error(y_test, y_pred))\n",
    "        me_list = np.append(me_list, max_error(y_test, y_pred))\n",
    "    \n",
    "    return mse_list, mae_list, me_list"
   ]
  },
  {
   "cell_type": "markdown",
   "metadata": {},
   "source": [
    "### Result function\n",
    "\n",
    "To save and present results in a nice manner, the following code sets up a DataFrame for results and a function to add data to it, which we'll use further below when we're testing the different regression models. "
   ]
  },
  {
   "cell_type": "code",
   "execution_count": 3,
   "metadata": {
    "ExecuteTime": {
     "end_time": "2021-10-29T12:48:09.045299Z",
     "start_time": "2021-10-29T12:48:09.039006Z"
    }
   },
   "outputs": [],
   "source": [
    "result_df = pd.DataFrame(columns=['Model','MSE','MAE','ME'])\n",
    "\n",
    "def add_result(model_name, mse_list, mae_list, me_list):\n",
    "    \"\"\"\n",
    "    Add a result row to a pandas dataframe (created above) for a model with name (model_name).\n",
    "    mse_list, mae_list and me_list are array lists of performance results from different hold-out validation runs,\n",
    "    coming from the validate_model() function, above.\n",
    "    \"\"\"\n",
    "    global result_df # doing this to be able to access the gloval dataframe defined above the function\n",
    "    \n",
    "    new_row = {'Model':model_name, 'MSE':mse_list.mean(), 'MAE':mae_list.mean(), 'ME':me_list.mean()}\n",
    "    result_df = result_df.append(new_row, ignore_index=True)\n",
    "    \n",
    "    return result_df"
   ]
  },
  {
   "cell_type": "markdown",
   "metadata": {},
   "source": [
    "### Default variables"
   ]
  },
  {
   "cell_type": "code",
   "execution_count": 4,
   "metadata": {
    "ExecuteTime": {
     "end_time": "2021-10-29T12:48:09.050745Z",
     "start_time": "2021-10-29T12:48:09.048227Z"
    }
   },
   "outputs": [],
   "source": [
    "# sets the number of runs of hold-out validation below (from which we get mean and stdev statistics)\n",
    "num_runs = 100"
   ]
  },
  {
   "cell_type": "markdown",
   "metadata": {},
   "source": [
    "## Loading dataset"
   ]
  },
  {
   "cell_type": "code",
   "execution_count": 5,
   "metadata": {
    "ExecuteTime": {
     "end_time": "2021-10-29T12:48:09.062484Z",
     "start_time": "2021-10-29T12:48:09.052715Z"
    }
   },
   "outputs": [
    {
     "name": "stdout",
     "output_type": "stream",
     "text": [
      ".. _boston_dataset:\n",
      "\n",
      "Boston house prices dataset\n",
      "---------------------------\n",
      "\n",
      "**Data Set Characteristics:**  \n",
      "\n",
      "    :Number of Instances: 506 \n",
      "\n",
      "    :Number of Attributes: 13 numeric/categorical predictive. Median Value (attribute 14) is usually the target.\n",
      "\n",
      "    :Attribute Information (in order):\n",
      "        - CRIM     per capita crime rate by town\n",
      "        - ZN       proportion of residential land zoned for lots over 25,000 sq.ft.\n",
      "        - INDUS    proportion of non-retail business acres per town\n",
      "        - CHAS     Charles River dummy variable (= 1 if tract bounds river; 0 otherwise)\n",
      "        - NOX      nitric oxides concentration (parts per 10 million)\n",
      "        - RM       average number of rooms per dwelling\n",
      "        - AGE      proportion of owner-occupied units built prior to 1940\n",
      "        - DIS      weighted distances to five Boston employment centres\n",
      "        - RAD      index of accessibility to radial highways\n",
      "        - TAX      full-value property-tax rate per $10,000\n",
      "        - PTRATIO  pupil-teacher ratio by town\n",
      "        - B        1000(Bk - 0.63)^2 where Bk is the proportion of blacks by town\n",
      "        - LSTAT    % lower status of the population\n",
      "        - MEDV     Median value of owner-occupied homes in $1000's\n",
      "\n",
      "    :Missing Attribute Values: None\n",
      "\n",
      "    :Creator: Harrison, D. and Rubinfeld, D.L.\n",
      "\n",
      "This is a copy of UCI ML housing dataset.\n",
      "https://archive.ics.uci.edu/ml/machine-learning-databases/housing/\n",
      "\n",
      "\n",
      "This dataset was taken from the StatLib library which is maintained at Carnegie Mellon University.\n",
      "\n",
      "The Boston house-price data of Harrison, D. and Rubinfeld, D.L. 'Hedonic\n",
      "prices and the demand for clean air', J. Environ. Economics & Management,\n",
      "vol.5, 81-102, 1978.   Used in Belsley, Kuh & Welsch, 'Regression diagnostics\n",
      "...', Wiley, 1980.   N.B. Various transformations are used in the table on\n",
      "pages 244-261 of the latter.\n",
      "\n",
      "The Boston house-price data has been used in many machine learning papers that address regression\n",
      "problems.   \n",
      "     \n",
      ".. topic:: References\n",
      "\n",
      "   - Belsley, Kuh & Welsch, 'Regression diagnostics: Identifying Influential Data and Sources of Collinearity', Wiley, 1980. 244-261.\n",
      "   - Quinlan,R. (1993). Combining Instance-Based and Model-Based Learning. In Proceedings on the Tenth International Conference of Machine Learning, 236-243, University of Massachusetts, Amherst. Morgan Kaufmann.\n",
      "\n"
     ]
    }
   ],
   "source": [
    "# Loading the dataset\n",
    "dataset = load_boston()\n",
    "\n",
    "print(dataset['DESCR'])"
   ]
  },
  {
   "cell_type": "code",
   "execution_count": 6,
   "metadata": {
    "ExecuteTime": {
     "end_time": "2021-10-29T12:48:09.085407Z",
     "start_time": "2021-10-29T12:48:09.064357Z"
    }
   },
   "outputs": [
    {
     "data": {
      "text/html": [
       "<div>\n",
       "<style scoped>\n",
       "    .dataframe tbody tr th:only-of-type {\n",
       "        vertical-align: middle;\n",
       "    }\n",
       "\n",
       "    .dataframe tbody tr th {\n",
       "        vertical-align: top;\n",
       "    }\n",
       "\n",
       "    .dataframe thead th {\n",
       "        text-align: right;\n",
       "    }\n",
       "</style>\n",
       "<table border=\"1\" class=\"dataframe\">\n",
       "  <thead>\n",
       "    <tr style=\"text-align: right;\">\n",
       "      <th></th>\n",
       "      <th>CRIM</th>\n",
       "      <th>ZN</th>\n",
       "      <th>INDUS</th>\n",
       "      <th>CHAS</th>\n",
       "      <th>NOX</th>\n",
       "      <th>RM</th>\n",
       "      <th>AGE</th>\n",
       "      <th>DIS</th>\n",
       "      <th>RAD</th>\n",
       "      <th>TAX</th>\n",
       "      <th>PTRATIO</th>\n",
       "      <th>B</th>\n",
       "      <th>LSTAT</th>\n",
       "      <th>target</th>\n",
       "    </tr>\n",
       "  </thead>\n",
       "  <tbody>\n",
       "    <tr>\n",
       "      <th>0</th>\n",
       "      <td>0.00632</td>\n",
       "      <td>18.0</td>\n",
       "      <td>2.31</td>\n",
       "      <td>0.0</td>\n",
       "      <td>0.538</td>\n",
       "      <td>6.575</td>\n",
       "      <td>65.2</td>\n",
       "      <td>4.0900</td>\n",
       "      <td>1.0</td>\n",
       "      <td>296.0</td>\n",
       "      <td>15.3</td>\n",
       "      <td>396.90</td>\n",
       "      <td>4.98</td>\n",
       "      <td>24.0</td>\n",
       "    </tr>\n",
       "    <tr>\n",
       "      <th>1</th>\n",
       "      <td>0.02731</td>\n",
       "      <td>0.0</td>\n",
       "      <td>7.07</td>\n",
       "      <td>0.0</td>\n",
       "      <td>0.469</td>\n",
       "      <td>6.421</td>\n",
       "      <td>78.9</td>\n",
       "      <td>4.9671</td>\n",
       "      <td>2.0</td>\n",
       "      <td>242.0</td>\n",
       "      <td>17.8</td>\n",
       "      <td>396.90</td>\n",
       "      <td>9.14</td>\n",
       "      <td>21.6</td>\n",
       "    </tr>\n",
       "    <tr>\n",
       "      <th>2</th>\n",
       "      <td>0.02729</td>\n",
       "      <td>0.0</td>\n",
       "      <td>7.07</td>\n",
       "      <td>0.0</td>\n",
       "      <td>0.469</td>\n",
       "      <td>7.185</td>\n",
       "      <td>61.1</td>\n",
       "      <td>4.9671</td>\n",
       "      <td>2.0</td>\n",
       "      <td>242.0</td>\n",
       "      <td>17.8</td>\n",
       "      <td>392.83</td>\n",
       "      <td>4.03</td>\n",
       "      <td>34.7</td>\n",
       "    </tr>\n",
       "    <tr>\n",
       "      <th>3</th>\n",
       "      <td>0.03237</td>\n",
       "      <td>0.0</td>\n",
       "      <td>2.18</td>\n",
       "      <td>0.0</td>\n",
       "      <td>0.458</td>\n",
       "      <td>6.998</td>\n",
       "      <td>45.8</td>\n",
       "      <td>6.0622</td>\n",
       "      <td>3.0</td>\n",
       "      <td>222.0</td>\n",
       "      <td>18.7</td>\n",
       "      <td>394.63</td>\n",
       "      <td>2.94</td>\n",
       "      <td>33.4</td>\n",
       "    </tr>\n",
       "    <tr>\n",
       "      <th>4</th>\n",
       "      <td>0.06905</td>\n",
       "      <td>0.0</td>\n",
       "      <td>2.18</td>\n",
       "      <td>0.0</td>\n",
       "      <td>0.458</td>\n",
       "      <td>7.147</td>\n",
       "      <td>54.2</td>\n",
       "      <td>6.0622</td>\n",
       "      <td>3.0</td>\n",
       "      <td>222.0</td>\n",
       "      <td>18.7</td>\n",
       "      <td>396.90</td>\n",
       "      <td>5.33</td>\n",
       "      <td>36.2</td>\n",
       "    </tr>\n",
       "  </tbody>\n",
       "</table>\n",
       "</div>"
      ],
      "text/plain": [
       "      CRIM    ZN  INDUS  CHAS    NOX     RM   AGE     DIS  RAD    TAX  \\\n",
       "0  0.00632  18.0   2.31   0.0  0.538  6.575  65.2  4.0900  1.0  296.0   \n",
       "1  0.02731   0.0   7.07   0.0  0.469  6.421  78.9  4.9671  2.0  242.0   \n",
       "2  0.02729   0.0   7.07   0.0  0.469  7.185  61.1  4.9671  2.0  242.0   \n",
       "3  0.03237   0.0   2.18   0.0  0.458  6.998  45.8  6.0622  3.0  222.0   \n",
       "4  0.06905   0.0   2.18   0.0  0.458  7.147  54.2  6.0622  3.0  222.0   \n",
       "\n",
       "   PTRATIO       B  LSTAT  target  \n",
       "0     15.3  396.90   4.98    24.0  \n",
       "1     17.8  396.90   9.14    21.6  \n",
       "2     17.8  392.83   4.03    34.7  \n",
       "3     18.7  394.63   2.94    33.4  \n",
       "4     18.7  396.90   5.33    36.2  "
      ]
     },
     "execution_count": 6,
     "metadata": {},
     "output_type": "execute_result"
    }
   ],
   "source": [
    "# Convert to Pandas DataFrame\n",
    "boston_df = pd.DataFrame(dataset.data,columns=dataset.feature_names)\n",
    "boston_df['target'] = dataset.target  # Median value of owner-occupied homes in $1000's\n",
    "\n",
    "# Storing references to feature names\n",
    "features = dataset['feature_names']\n",
    "\n",
    "# Get the X (feature matrix) and y (target vector) from the data\n",
    "X, y = dataset.data, dataset.target\n",
    "\n",
    "# And just to ensure we've loaded what we expect..\n",
    "boston_df.head()"
   ]
  },
  {
   "cell_type": "markdown",
   "metadata": {},
   "source": [
    "## Linear Regression vs Polynomial Regression vs CART\n",
    "\n",
    "Linear Regression: https://scikit-learn.org/stable/modules/generated/sklearn.linear_model.LinearRegression.html\n",
    "\n",
    "Polynomial Regression: https://scikit-learn.org/stable/modules/linear_model.html#polynomial-regression-extending-linear-models-with-basis-functions\n",
    "\n",
    "CART: https://scikit-learn.org/stable/modules/generated/sklearn.tree.DecisionTreeRegressor.html\n",
    "\n",
    "Metrics: https://scikit-learn.org/stable/modules/model_evaluation.html#regression-metrics"
   ]
  },
  {
   "cell_type": "markdown",
   "metadata": {},
   "source": [
    "### Linear Regression"
   ]
  },
  {
   "cell_type": "code",
   "execution_count": 7,
   "metadata": {
    "ExecuteTime": {
     "end_time": "2021-10-29T12:48:09.205855Z",
     "start_time": "2021-10-29T12:48:09.087063Z"
    }
   },
   "outputs": [
    {
     "name": "stdout",
     "output_type": "stream",
     "text": [
      "MSE:  24.13 (+/- 12.58)\n",
      "MAE:  3.41  (+/- 0.64)\n",
      "ME:   20.86 (+/- 11.26)\n"
     ]
    }
   ],
   "source": [
    "# Instantiate model\n",
    "lireg_model = LinearRegression()\n",
    "\n",
    "# arrays for storing performance metrics\n",
    "mse_list, mae_list, me_list = validate_model(X, y, lireg_model, num_runs)\n",
    "\n",
    "# save the result\n",
    "add_result('Linear Regression', mse_list, mae_list, me_list)\n",
    "\n",
    "# printing out the performance metrics (mean + standard deviation)\n",
    "print(\"MSE:  %0.2f (+/- %0.2f)\" % (mse_list.mean(), mse_list.std() * 2))\n",
    "print(\"MAE:  %0.2f  (+/- %0.2f)\" % (mae_list.mean(), mae_list.std() * 2))\n",
    "print(\"ME:   %0.2f (+/- %0.2f)\" % (me_list.mean(), me_list.std() * 2))"
   ]
  },
  {
   "cell_type": "markdown",
   "metadata": {},
   "source": [
    "### Polynomial Regression\n",
    "\n",
    "Doing 1st, 2nd and 3rd order polynomials here, in each respective cell below."
   ]
  },
  {
   "cell_type": "code",
   "execution_count": 8,
   "metadata": {
    "ExecuteTime": {
     "end_time": "2021-10-29T12:48:09.354314Z",
     "start_time": "2021-10-29T12:48:09.209028Z"
    }
   },
   "outputs": [
    {
     "name": "stdout",
     "output_type": "stream",
     "text": [
      "MSE:  22.99 (+/- 9.69)\n",
      "MAE:  3.36  (+/- 0.54)\n",
      "ME:   20.25 (+/- 11.13)\n"
     ]
    }
   ],
   "source": [
    "# Instantiate model\n",
    "poly_model = Pipeline([('poly', PolynomialFeatures(degree=1)),\n",
    "                       ('linear', LinearRegression())])\n",
    "\n",
    "# arrays for storing performance metrics\n",
    "mse_list, mae_list, me_list = validate_model(X, y, poly_model, num_runs)\n",
    "\n",
    "# save the result\n",
    "add_result('Polynomial Regression (1st Order)', mse_list, mae_list, me_list)\n",
    "\n",
    "# printing out the performance metrics (mean + standard deviation)\n",
    "print(\"MSE:  %0.2f (+/- %0.2f)\" % (mse_list.mean(), mse_list.std() * 2))\n",
    "print(\"MAE:  %0.2f  (+/- %0.2f)\" % (mae_list.mean(), mae_list.std() * 2))\n",
    "print(\"ME:   %0.2f (+/- %0.2f)\" % (me_list.mean(), me_list.std() * 2))"
   ]
  },
  {
   "cell_type": "code",
   "execution_count": 9,
   "metadata": {
    "ExecuteTime": {
     "end_time": "2021-10-29T12:48:10.039448Z",
     "start_time": "2021-10-29T12:48:09.357439Z"
    }
   },
   "outputs": [
    {
     "name": "stdout",
     "output_type": "stream",
     "text": [
      "MSE:  31.59 (+/- 120.09)\n",
      "MAE:  3.36  (+/- 3.32)\n",
      "ME:   23.99 (+/- 32.22)\n"
     ]
    }
   ],
   "source": [
    "# Instantiate model\n",
    "poly_model = Pipeline([('poly', PolynomialFeatures(degree=2)),\n",
    "                       ('linear', LinearRegression())])\n",
    "#('linear', LinearRegression(fit_intercept=False))])\n",
    "\n",
    "# arrays for storing performance metrics\n",
    "mse_list, mae_list, me_list = validate_model(X, y, poly_model, num_runs)\n",
    "\n",
    "# save the result\n",
    "add_result('Polynomial Regression (2nd Order)', mse_list, mae_list, me_list)\n",
    "\n",
    "# printing out the performance metrics (mean + standard deviation)\n",
    "print(\"MSE:  %0.2f (+/- %0.2f)\" % (mse_list.mean(), mse_list.std() * 2))\n",
    "print(\"MAE:  %0.2f  (+/- %0.2f)\" % (mae_list.mean(), mae_list.std() * 2))\n",
    "print(\"ME:   %0.2f (+/- %0.2f)\" % (me_list.mean(), me_list.std() * 2))"
   ]
  },
  {
   "cell_type": "code",
   "execution_count": 10,
   "metadata": {
    "ExecuteTime": {
     "end_time": "2021-10-29T12:48:13.465279Z",
     "start_time": "2021-10-29T12:48:10.041560Z"
    }
   },
   "outputs": [
    {
     "name": "stdout",
     "output_type": "stream",
     "text": [
      "MSE:  961922.86 (+/- 8131033.23)\n",
      "MAE:  230.54  (+/- 319.88)\n",
      "ME:   4870.26 (+/- 14153.84)\n"
     ]
    }
   ],
   "source": [
    "# Instantiate model\n",
    "poly_model = Pipeline([('poly', PolynomialFeatures(degree=3)),\n",
    "                       ('linear', LinearRegression())])\n",
    "#('linear', LinearRegression(fit_intercept=False))])\n",
    "\n",
    "# arrays for storing performance metrics\n",
    "mse_list, mae_list, me_list = validate_model(X, y, poly_model, num_runs)\n",
    "\n",
    "# save the result\n",
    "add_result('Polynomial Regression (3rd Order)', mse_list, mae_list, me_list)\n",
    "\n",
    "# printing out the performance metrics (mean + standard deviation)\n",
    "print(\"MSE:  %0.2f (+/- %0.2f)\" % (mse_list.mean(), mse_list.std() * 2))\n",
    "print(\"MAE:  %0.2f  (+/- %0.2f)\" % (mae_list.mean(), mae_list.std() * 2))\n",
    "print(\"ME:   %0.2f (+/- %0.2f)\" % (me_list.mean(), me_list.std() * 2))"
   ]
  },
  {
   "cell_type": "markdown",
   "metadata": {},
   "source": [
    "### CART"
   ]
  },
  {
   "cell_type": "code",
   "execution_count": 11,
   "metadata": {
    "ExecuteTime": {
     "end_time": "2021-10-29T12:48:13.801795Z",
     "start_time": "2021-10-29T12:48:13.467384Z"
    }
   },
   "outputs": [
    {
     "name": "stdout",
     "output_type": "stream",
     "text": [
      "MSE:  20.95 (+/- 17.09)\n",
      "MAE:  2.99  (+/- 0.70)\n",
      "ME:   21.06 (+/- 16.42)\n"
     ]
    }
   ],
   "source": [
    "# Instantiate model\n",
    "cart_model = DecisionTreeRegressor()\n",
    "\n",
    "# arrays for storing performance metrics\n",
    "mse_list, mae_list, me_list = validate_model(X, y, cart_model, num_runs)\n",
    "\n",
    "# save the result\n",
    "add_result('CART', mse_list, mae_list, me_list)\n",
    "\n",
    "# printing out the performance metrics (mean + standard deviation)\n",
    "print(\"MSE:  %0.2f (+/- %0.2f)\" % (mse_list.mean(), mse_list.std() * 2))\n",
    "print(\"MAE:  %0.2f  (+/- %0.2f)\" % (mae_list.mean(), mae_list.std() * 2))\n",
    "print(\"ME:   %0.2f (+/- %0.2f)\" % (me_list.mean(), me_list.std() * 2))"
   ]
  },
  {
   "cell_type": "markdown",
   "metadata": {},
   "source": [
    "### Results\n",
    "\n",
    "Which model appears to be best? and, is it best according to all metrics?\n",
    "\n",
    "In a test run, one model was best on all metrics. But for 2nd and 3rd, it depended on the metric."
   ]
  },
  {
   "cell_type": "code",
   "execution_count": 12,
   "metadata": {
    "ExecuteTime": {
     "end_time": "2021-10-29T12:48:13.810632Z",
     "start_time": "2021-10-29T12:48:13.803679Z"
    }
   },
   "outputs": [
    {
     "data": {
      "text/html": [
       "<div>\n",
       "<style scoped>\n",
       "    .dataframe tbody tr th:only-of-type {\n",
       "        vertical-align: middle;\n",
       "    }\n",
       "\n",
       "    .dataframe tbody tr th {\n",
       "        vertical-align: top;\n",
       "    }\n",
       "\n",
       "    .dataframe thead th {\n",
       "        text-align: right;\n",
       "    }\n",
       "</style>\n",
       "<table border=\"1\" class=\"dataframe\">\n",
       "  <thead>\n",
       "    <tr style=\"text-align: right;\">\n",
       "      <th></th>\n",
       "      <th>Model</th>\n",
       "      <th>MSE</th>\n",
       "      <th>MAE</th>\n",
       "      <th>ME</th>\n",
       "    </tr>\n",
       "  </thead>\n",
       "  <tbody>\n",
       "    <tr>\n",
       "      <th>0</th>\n",
       "      <td>Linear Regression</td>\n",
       "      <td>24.125089</td>\n",
       "      <td>3.406108</td>\n",
       "      <td>20.859647</td>\n",
       "    </tr>\n",
       "    <tr>\n",
       "      <th>1</th>\n",
       "      <td>Polynomial Regression (1st Order)</td>\n",
       "      <td>22.991484</td>\n",
       "      <td>3.361561</td>\n",
       "      <td>20.250564</td>\n",
       "    </tr>\n",
       "    <tr>\n",
       "      <th>2</th>\n",
       "      <td>Polynomial Regression (2nd Order)</td>\n",
       "      <td>31.590153</td>\n",
       "      <td>3.364170</td>\n",
       "      <td>23.994600</td>\n",
       "    </tr>\n",
       "    <tr>\n",
       "      <th>3</th>\n",
       "      <td>Polynomial Regression (3rd Order)</td>\n",
       "      <td>961922.858771</td>\n",
       "      <td>230.541461</td>\n",
       "      <td>4870.261883</td>\n",
       "    </tr>\n",
       "    <tr>\n",
       "      <th>4</th>\n",
       "      <td>CART</td>\n",
       "      <td>20.952360</td>\n",
       "      <td>2.989598</td>\n",
       "      <td>21.062000</td>\n",
       "    </tr>\n",
       "  </tbody>\n",
       "</table>\n",
       "</div>"
      ],
      "text/plain": [
       "                               Model            MSE         MAE           ME\n",
       "0                  Linear Regression      24.125089    3.406108    20.859647\n",
       "1  Polynomial Regression (1st Order)      22.991484    3.361561    20.250564\n",
       "2  Polynomial Regression (2nd Order)      31.590153    3.364170    23.994600\n",
       "3  Polynomial Regression (3rd Order)  961922.858771  230.541461  4870.261883\n",
       "4                               CART      20.952360    2.989598    21.062000"
      ]
     },
     "execution_count": 12,
     "metadata": {},
     "output_type": "execute_result"
    }
   ],
   "source": [
    "result_df"
   ]
  },
  {
   "cell_type": "markdown",
   "metadata": {},
   "source": [
    "## Data transformation of target\n",
    "\n",
    "Using a quantile transformer here, based on [[this](https://scikit-learn.org/stable/auto_examples/compose/plot_transformed_target.html#sphx-glr-auto-examples-compose-plot-transformed-target-py)] article from Scikit-Learn.\n",
    "\n",
    "### Training and testing the models"
   ]
  },
  {
   "cell_type": "code",
   "execution_count": 13,
   "metadata": {
    "ExecuteTime": {
     "end_time": "2021-10-29T12:48:14.170384Z",
     "start_time": "2021-10-29T12:48:13.812391Z"
    }
   },
   "outputs": [
    {
     "name": "stdout",
     "output_type": "stream",
     "text": [
      "MSE:  27.16 (+/- 11.88)\n",
      "MAE:  3.45  (+/- 0.63)\n",
      "ME:   23.51 (+/- 9.70)\n"
     ]
    }
   ],
   "source": [
    "# Instantiate model\n",
    "lireg_model_trans = TransformedTargetRegressor(\n",
    "    regressor=LinearRegression(),\n",
    "    transformer=QuantileTransformer(n_quantiles=200,\n",
    "                                    output_distribution='normal'))\n",
    "\n",
    "# arrays for storing performance metrics\n",
    "mse_list, mae_list, me_list = validate_model(X, y, lireg_model_trans, num_runs)\n",
    "\n",
    "# save the result\n",
    "add_result('Linear Regression (trans)', mse_list, mae_list, me_list)\n",
    "\n",
    "# printing out the performance metrics (mean + standard deviation)\n",
    "print(\"MSE:  %0.2f (+/- %0.2f)\" % (mse_list.mean(), mse_list.std() * 2))\n",
    "print(\"MAE:  %0.2f  (+/- %0.2f)\" % (mae_list.mean(), mae_list.std() * 2))\n",
    "print(\"ME:   %0.2f (+/- %0.2f)\" % (me_list.mean(), me_list.std() * 2))"
   ]
  },
  {
   "cell_type": "code",
   "execution_count": 14,
   "metadata": {
    "ExecuteTime": {
     "end_time": "2021-10-29T12:48:14.577631Z",
     "start_time": "2021-10-29T12:48:14.172126Z"
    }
   },
   "outputs": [
    {
     "name": "stdout",
     "output_type": "stream",
     "text": [
      "MSE:  27.47 (+/- 14.74)\n",
      "MAE:  3.52  (+/- 0.78)\n",
      "ME:   22.41 (+/- 10.25)\n"
     ]
    }
   ],
   "source": [
    "# Instantiate model\n",
    "poly_model_trans = TransformedTargetRegressor(\n",
    "    regressor=Pipeline([('poly', PolynomialFeatures(degree=1)),\n",
    "                       ('linear', LinearRegression())]),\n",
    "    transformer=QuantileTransformer(n_quantiles=200,\n",
    "                                    output_distribution='normal'))\n",
    "\n",
    "# arrays for storing performance metrics\n",
    "mse_list, mae_list, me_list = validate_model(X, y, poly_model_trans, num_runs)\n",
    "\n",
    "# save the result\n",
    "add_result('Polynomial Regression (1st Order) (trans)', mse_list, mae_list, me_list)\n",
    "\n",
    "# printing out the performance metrics (mean + standard deviation)\n",
    "print(\"MSE:  %0.2f (+/- %0.2f)\" % (mse_list.mean(), mse_list.std() * 2))\n",
    "print(\"MAE:  %0.2f  (+/- %0.2f)\" % (mae_list.mean(), mae_list.std() * 2))\n",
    "print(\"ME:   %0.2f (+/- %0.2f)\" % (me_list.mean(), me_list.std() * 2))"
   ]
  },
  {
   "cell_type": "code",
   "execution_count": 15,
   "metadata": {
    "ExecuteTime": {
     "end_time": "2021-10-29T12:48:15.488020Z",
     "start_time": "2021-10-29T12:48:14.579870Z"
    }
   },
   "outputs": [
    {
     "name": "stdout",
     "output_type": "stream",
     "text": [
      "MSE:  39.46 (+/- 97.16)\n",
      "MAE:  3.86  (+/- 3.74)\n",
      "ME:   25.44 (+/- 13.45)\n"
     ]
    }
   ],
   "source": [
    "# Instantiate model\n",
    "poly_model_trans = TransformedTargetRegressor(\n",
    "    regressor=Pipeline([('poly', PolynomialFeatures(degree=2)),\n",
    "                       ('linear', LinearRegression())]),\n",
    "    transformer=QuantileTransformer(n_quantiles=200,\n",
    "                                    output_distribution='normal'))\n",
    "\n",
    "# arrays for storing performance metrics\n",
    "mse_list, mae_list, me_list = validate_model(X, y, poly_model_trans, num_runs)\n",
    "\n",
    "# save the result\n",
    "add_result('Polynomial Regression (2nd Order) (trans)', mse_list, mae_list, me_list)\n",
    "\n",
    "# printing out the performance metrics (mean + standard deviation)\n",
    "print(\"MSE:  %0.2f (+/- %0.2f)\" % (mse_list.mean(), mse_list.std() * 2))\n",
    "print(\"MAE:  %0.2f  (+/- %0.2f)\" % (mae_list.mean(), mae_list.std() * 2))\n",
    "print(\"ME:   %0.2f (+/- %0.2f)\" % (me_list.mean(), me_list.std() * 2))"
   ]
  },
  {
   "cell_type": "code",
   "execution_count": 16,
   "metadata": {
    "ExecuteTime": {
     "end_time": "2021-10-29T12:48:19.777043Z",
     "start_time": "2021-10-29T12:48:15.490392Z"
    }
   },
   "outputs": [
    {
     "name": "stdout",
     "output_type": "stream",
     "text": [
      "MSE:  484.01 (+/- 124.38)\n",
      "MAE:  18.98  (+/- 3.35)\n",
      "ME:   44.26 (+/- 3.35)\n"
     ]
    }
   ],
   "source": [
    "# Instantiate model\n",
    "poly_model_trans = TransformedTargetRegressor(\n",
    "    regressor=Pipeline([('poly', PolynomialFeatures(degree=3)),\n",
    "                       ('linear', LinearRegression())]),\n",
    "    transformer=QuantileTransformer(n_quantiles=200,\n",
    "                                    output_distribution='normal'))\n",
    "\n",
    "# arrays for storing performance metrics\n",
    "mse_list, mae_list, me_list = validate_model(X, y, poly_model_trans, num_runs)\n",
    "\n",
    "# save the result\n",
    "add_result('Polynomial Regression (3rd Order) (trans)', mse_list, mae_list, me_list)\n",
    "\n",
    "# printing out the performance metrics (mean + standard deviation)\n",
    "print(\"MSE:  %0.2f (+/- %0.2f)\" % (mse_list.mean(), mse_list.std() * 2))\n",
    "print(\"MAE:  %0.2f  (+/- %0.2f)\" % (mae_list.mean(), mae_list.std() * 2))\n",
    "print(\"ME:   %0.2f (+/- %0.2f)\" % (me_list.mean(), me_list.std() * 2))"
   ]
  },
  {
   "cell_type": "code",
   "execution_count": 17,
   "metadata": {
    "ExecuteTime": {
     "end_time": "2021-10-29T12:48:20.452688Z",
     "start_time": "2021-10-29T12:48:19.779332Z"
    }
   },
   "outputs": [
    {
     "name": "stdout",
     "output_type": "stream",
     "text": [
      "MSE:  18.30 (+/- 12.09)\n",
      "MAE:  2.95  (+/- 0.63)\n",
      "ME:   17.84 (+/- 12.37)\n"
     ]
    }
   ],
   "source": [
    "# Instantiate model\n",
    "cart_model_trans = TransformedTargetRegressor(\n",
    "    regressor=DecisionTreeRegressor(),\n",
    "    transformer=QuantileTransformer(n_quantiles=200,\n",
    "                                    output_distribution='normal'))\n",
    "\n",
    "# arrays for storing performance metrics\n",
    "mse_list, mae_list, me_list = validate_model(X, y, cart_model_trans, num_runs)\n",
    "\n",
    "# save the result\n",
    "add_result('CART (trans)', mse_list, mae_list, me_list)\n",
    "\n",
    "# printing out the performance metrics (mean + standard deviation)\n",
    "print(\"MSE:  %0.2f (+/- %0.2f)\" % (mse_list.mean(), mse_list.std() * 2))\n",
    "print(\"MAE:  %0.2f  (+/- %0.2f)\" % (mae_list.mean(), mae_list.std() * 2))\n",
    "print(\"ME:   %0.2f (+/- %0.2f)\" % (me_list.mean(), me_list.std() * 2))"
   ]
  },
  {
   "cell_type": "markdown",
   "metadata": {
    "ExecuteTime": {
     "end_time": "2021-10-25T14:24:16.118588Z",
     "start_time": "2021-10-25T14:24:16.111527Z"
    }
   },
   "source": [
    "### Results\n",
    "\n",
    "Did the performance of any of the models improve when transforming the target values?"
   ]
  },
  {
   "cell_type": "code",
   "execution_count": 18,
   "metadata": {
    "ExecuteTime": {
     "end_time": "2021-10-29T12:48:20.463734Z",
     "start_time": "2021-10-29T12:48:20.454392Z"
    }
   },
   "outputs": [
    {
     "data": {
      "text/html": [
       "<div>\n",
       "<style scoped>\n",
       "    .dataframe tbody tr th:only-of-type {\n",
       "        vertical-align: middle;\n",
       "    }\n",
       "\n",
       "    .dataframe tbody tr th {\n",
       "        vertical-align: top;\n",
       "    }\n",
       "\n",
       "    .dataframe thead th {\n",
       "        text-align: right;\n",
       "    }\n",
       "</style>\n",
       "<table border=\"1\" class=\"dataframe\">\n",
       "  <thead>\n",
       "    <tr style=\"text-align: right;\">\n",
       "      <th></th>\n",
       "      <th>Model</th>\n",
       "      <th>MSE</th>\n",
       "      <th>MAE</th>\n",
       "      <th>ME</th>\n",
       "    </tr>\n",
       "  </thead>\n",
       "  <tbody>\n",
       "    <tr>\n",
       "      <th>0</th>\n",
       "      <td>Linear Regression</td>\n",
       "      <td>24.125089</td>\n",
       "      <td>3.406108</td>\n",
       "      <td>20.859647</td>\n",
       "    </tr>\n",
       "    <tr>\n",
       "      <th>1</th>\n",
       "      <td>Polynomial Regression (1st Order)</td>\n",
       "      <td>22.991484</td>\n",
       "      <td>3.361561</td>\n",
       "      <td>20.250564</td>\n",
       "    </tr>\n",
       "    <tr>\n",
       "      <th>2</th>\n",
       "      <td>Polynomial Regression (2nd Order)</td>\n",
       "      <td>31.590153</td>\n",
       "      <td>3.364170</td>\n",
       "      <td>23.994600</td>\n",
       "    </tr>\n",
       "    <tr>\n",
       "      <th>3</th>\n",
       "      <td>Polynomial Regression (3rd Order)</td>\n",
       "      <td>961922.858771</td>\n",
       "      <td>230.541461</td>\n",
       "      <td>4870.261883</td>\n",
       "    </tr>\n",
       "    <tr>\n",
       "      <th>4</th>\n",
       "      <td>CART</td>\n",
       "      <td>20.952360</td>\n",
       "      <td>2.989598</td>\n",
       "      <td>21.062000</td>\n",
       "    </tr>\n",
       "    <tr>\n",
       "      <th>5</th>\n",
       "      <td>Linear Regression (trans)</td>\n",
       "      <td>27.164105</td>\n",
       "      <td>3.446642</td>\n",
       "      <td>23.509452</td>\n",
       "    </tr>\n",
       "    <tr>\n",
       "      <th>6</th>\n",
       "      <td>Polynomial Regression (1st Order) (trans)</td>\n",
       "      <td>27.474923</td>\n",
       "      <td>3.517479</td>\n",
       "      <td>22.412078</td>\n",
       "    </tr>\n",
       "    <tr>\n",
       "      <th>7</th>\n",
       "      <td>Polynomial Regression (2nd Order) (trans)</td>\n",
       "      <td>39.458678</td>\n",
       "      <td>3.860435</td>\n",
       "      <td>25.442411</td>\n",
       "    </tr>\n",
       "    <tr>\n",
       "      <th>8</th>\n",
       "      <td>Polynomial Regression (3rd Order) (trans)</td>\n",
       "      <td>484.014130</td>\n",
       "      <td>18.977420</td>\n",
       "      <td>44.260893</td>\n",
       "    </tr>\n",
       "    <tr>\n",
       "      <th>9</th>\n",
       "      <td>CART (trans)</td>\n",
       "      <td>18.298357</td>\n",
       "      <td>2.950196</td>\n",
       "      <td>17.843000</td>\n",
       "    </tr>\n",
       "  </tbody>\n",
       "</table>\n",
       "</div>"
      ],
      "text/plain": [
       "                                       Model            MSE         MAE  \\\n",
       "0                          Linear Regression      24.125089    3.406108   \n",
       "1          Polynomial Regression (1st Order)      22.991484    3.361561   \n",
       "2          Polynomial Regression (2nd Order)      31.590153    3.364170   \n",
       "3          Polynomial Regression (3rd Order)  961922.858771  230.541461   \n",
       "4                                       CART      20.952360    2.989598   \n",
       "5                  Linear Regression (trans)      27.164105    3.446642   \n",
       "6  Polynomial Regression (1st Order) (trans)      27.474923    3.517479   \n",
       "7  Polynomial Regression (2nd Order) (trans)      39.458678    3.860435   \n",
       "8  Polynomial Regression (3rd Order) (trans)     484.014130   18.977420   \n",
       "9                               CART (trans)      18.298357    2.950196   \n",
       "\n",
       "            ME  \n",
       "0    20.859647  \n",
       "1    20.250564  \n",
       "2    23.994600  \n",
       "3  4870.261883  \n",
       "4    21.062000  \n",
       "5    23.509452  \n",
       "6    22.412078  \n",
       "7    25.442411  \n",
       "8    44.260893  \n",
       "9    17.843000  "
      ]
     },
     "execution_count": 18,
     "metadata": {},
     "output_type": "execute_result"
    }
   ],
   "source": [
    "result_df"
   ]
  },
  {
   "cell_type": "code",
   "execution_count": null,
   "metadata": {},
   "outputs": [],
   "source": []
  }
 ],
 "metadata": {
  "kernelspec": {
   "display_name": "Python 3",
   "language": "python",
   "name": "python3"
  },
  "language_info": {
   "codemirror_mode": {
    "name": "ipython",
    "version": 3
   },
   "file_extension": ".py",
   "mimetype": "text/x-python",
   "name": "python",
   "nbconvert_exporter": "python",
   "pygments_lexer": "ipython3",
   "version": "3.8.8"
  },
  "toc": {
   "base_numbering": 1,
   "nav_menu": {},
   "number_sections": true,
   "sideBar": true,
   "skip_h1_title": false,
   "title_cell": "Table of Contents",
   "title_sidebar": "Contents",
   "toc_cell": false,
   "toc_position": {},
   "toc_section_display": true,
   "toc_window_display": true
  },
  "varInspector": {
   "cols": {
    "lenName": 16,
    "lenType": 16,
    "lenVar": 40
   },
   "kernels_config": {
    "python": {
     "delete_cmd_postfix": "",
     "delete_cmd_prefix": "del ",
     "library": "var_list.py",
     "varRefreshCmd": "print(var_dic_list())"
    },
    "r": {
     "delete_cmd_postfix": ") ",
     "delete_cmd_prefix": "rm(",
     "library": "var_list.r",
     "varRefreshCmd": "cat(var_dic_list()) "
    }
   },
   "types_to_exclude": [
    "module",
    "function",
    "builtin_function_or_method",
    "instance",
    "_Feature"
   ],
   "window_display": false
  }
 },
 "nbformat": 4,
 "nbformat_minor": 4
}
