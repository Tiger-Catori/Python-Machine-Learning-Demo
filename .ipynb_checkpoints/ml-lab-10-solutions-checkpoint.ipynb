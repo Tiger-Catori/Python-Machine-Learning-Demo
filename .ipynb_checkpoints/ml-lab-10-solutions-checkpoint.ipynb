{
 "cells": [
  {
   "cell_type": "markdown",
   "metadata": {},
   "source": [
    "# Machine Learning Lab 10 - Solutions\n",
    "\n",
    "## Imports"
   ]
  },
  {
   "cell_type": "code",
   "execution_count": 1,
   "metadata": {
    "ExecuteTime": {
     "end_time": "2021-12-01T11:35:29.211029Z",
     "start_time": "2021-12-01T11:35:26.990120Z"
    }
   },
   "outputs": [],
   "source": [
    "# Data and Datasets\n",
    "import pandas as pd\n",
    "from sklearn.datasets import load_iris\n",
    "from sklearn.datasets import load_wine\n",
    "\n",
    "# Validation methods\n",
    "from sklearn.model_selection import train_test_split\n",
    "from sklearn.model_selection import cross_val_score\n",
    "from sklearn.model_selection import cross_validate\n",
    "from sklearn.model_selection import StratifiedKFold\n",
    "\n",
    "# Metrics\n",
    "from sklearn import metrics\n",
    "from sklearn.metrics import make_scorer\n",
    "from sklearn.metrics import accuracy_score\n",
    "from sklearn.metrics import precision_score\n",
    "from sklearn.metrics import recall_score\n",
    "\n",
    "# Classifiers\n",
    "from sklearn import tree\n",
    "from sklearn.tree import DecisionTreeClassifier\n",
    "from sklearn.ensemble import RandomForestClassifier\n",
    "from sklearn.naive_bayes import GaussianNB\n",
    "from sklearn.naive_bayes import MultinomialNB\n",
    "from sklearn.naive_bayes import BernoulliNB\n",
    "\n",
    "# Hyper-parameter optimisation\n",
    "from sklearn.model_selection import GridSearchCV\n",
    "from sklearn.model_selection import RandomizedSearchCV\n",
    "\n",
    "# Feature selection & feature engineering\n",
    "from sklearn.feature_selection import RFE\n",
    "from sklearn.feature_selection import RFECV\n",
    "from sklearn.decomposition import PCA\n",
    "\n",
    "# Stats\n",
    "from scipy.stats import randint as sp_randint\n",
    "from scipy.stats import pearsonr\n",
    "from scipy.stats import spearmanr\n",
    "from scipy.stats import shapiro     # Shapiro Wilk\n",
    "from scipy.stats import normaltest  # D’Agostino’s K^2\n",
    "from scipy.stats import anderson    # Anderson-Darling\n",
    "from scipy.stats import ttest_ind    # independent student t-test; assumes normality\n",
    "from scipy.stats import mannwhitneyu # non-parametric; doesn't assume normality\n",
    "\n",
    "# Visualisation\n",
    "import matplotlib.pyplot as plt\n",
    "import seaborn as sns\n",
    "from IPython.display import SVG\n",
    "from graphviz import Source\n",
    "from IPython.display import display\n",
    "from sklearn.tree import export_graphviz\n",
    "\n",
    "# Utils\n",
    "import pprint\n",
    "import numpy as np\n",
    "from time import time"
   ]
  },
  {
   "cell_type": "markdown",
   "metadata": {},
   "source": [
    "## Loading wine dataset"
   ]
  },
  {
   "cell_type": "code",
   "execution_count": 20,
   "metadata": {
    "ExecuteTime": {
     "end_time": "2021-12-01T11:36:44.021999Z",
     "start_time": "2021-12-01T11:36:43.996435Z"
    }
   },
   "outputs": [
    {
     "name": "stdout",
     "output_type": "stream",
     "text": [
      "Shape of feature matrix: (178, 13)\n"
     ]
    },
    {
     "data": {
      "text/html": [
       "<div>\n",
       "<style scoped>\n",
       "    .dataframe tbody tr th:only-of-type {\n",
       "        vertical-align: middle;\n",
       "    }\n",
       "\n",
       "    .dataframe tbody tr th {\n",
       "        vertical-align: top;\n",
       "    }\n",
       "\n",
       "    .dataframe thead th {\n",
       "        text-align: right;\n",
       "    }\n",
       "</style>\n",
       "<table border=\"1\" class=\"dataframe\">\n",
       "  <thead>\n",
       "    <tr style=\"text-align: right;\">\n",
       "      <th></th>\n",
       "      <th>alcohol</th>\n",
       "      <th>malic_acid</th>\n",
       "      <th>ash</th>\n",
       "      <th>alcalinity_of_ash</th>\n",
       "      <th>magnesium</th>\n",
       "      <th>total_phenols</th>\n",
       "      <th>flavanoids</th>\n",
       "      <th>nonflavanoid_phenols</th>\n",
       "      <th>proanthocyanins</th>\n",
       "      <th>color_intensity</th>\n",
       "      <th>hue</th>\n",
       "      <th>od280/od315_of_diluted_wines</th>\n",
       "      <th>proline</th>\n",
       "      <th>target</th>\n",
       "    </tr>\n",
       "  </thead>\n",
       "  <tbody>\n",
       "    <tr>\n",
       "      <th>0</th>\n",
       "      <td>14.23</td>\n",
       "      <td>1.71</td>\n",
       "      <td>2.43</td>\n",
       "      <td>15.6</td>\n",
       "      <td>127.0</td>\n",
       "      <td>2.80</td>\n",
       "      <td>3.06</td>\n",
       "      <td>0.28</td>\n",
       "      <td>2.29</td>\n",
       "      <td>5.64</td>\n",
       "      <td>1.04</td>\n",
       "      <td>3.92</td>\n",
       "      <td>1065.0</td>\n",
       "      <td>0</td>\n",
       "    </tr>\n",
       "    <tr>\n",
       "      <th>1</th>\n",
       "      <td>13.20</td>\n",
       "      <td>1.78</td>\n",
       "      <td>2.14</td>\n",
       "      <td>11.2</td>\n",
       "      <td>100.0</td>\n",
       "      <td>2.65</td>\n",
       "      <td>2.76</td>\n",
       "      <td>0.26</td>\n",
       "      <td>1.28</td>\n",
       "      <td>4.38</td>\n",
       "      <td>1.05</td>\n",
       "      <td>3.40</td>\n",
       "      <td>1050.0</td>\n",
       "      <td>0</td>\n",
       "    </tr>\n",
       "    <tr>\n",
       "      <th>2</th>\n",
       "      <td>13.16</td>\n",
       "      <td>2.36</td>\n",
       "      <td>2.67</td>\n",
       "      <td>18.6</td>\n",
       "      <td>101.0</td>\n",
       "      <td>2.80</td>\n",
       "      <td>3.24</td>\n",
       "      <td>0.30</td>\n",
       "      <td>2.81</td>\n",
       "      <td>5.68</td>\n",
       "      <td>1.03</td>\n",
       "      <td>3.17</td>\n",
       "      <td>1185.0</td>\n",
       "      <td>0</td>\n",
       "    </tr>\n",
       "    <tr>\n",
       "      <th>3</th>\n",
       "      <td>14.37</td>\n",
       "      <td>1.95</td>\n",
       "      <td>2.50</td>\n",
       "      <td>16.8</td>\n",
       "      <td>113.0</td>\n",
       "      <td>3.85</td>\n",
       "      <td>3.49</td>\n",
       "      <td>0.24</td>\n",
       "      <td>2.18</td>\n",
       "      <td>7.80</td>\n",
       "      <td>0.86</td>\n",
       "      <td>3.45</td>\n",
       "      <td>1480.0</td>\n",
       "      <td>0</td>\n",
       "    </tr>\n",
       "    <tr>\n",
       "      <th>4</th>\n",
       "      <td>13.24</td>\n",
       "      <td>2.59</td>\n",
       "      <td>2.87</td>\n",
       "      <td>21.0</td>\n",
       "      <td>118.0</td>\n",
       "      <td>2.80</td>\n",
       "      <td>2.69</td>\n",
       "      <td>0.39</td>\n",
       "      <td>1.82</td>\n",
       "      <td>4.32</td>\n",
       "      <td>1.04</td>\n",
       "      <td>2.93</td>\n",
       "      <td>735.0</td>\n",
       "      <td>0</td>\n",
       "    </tr>\n",
       "  </tbody>\n",
       "</table>\n",
       "</div>"
      ],
      "text/plain": [
       "   alcohol  malic_acid   ash  alcalinity_of_ash  magnesium  total_phenols  \\\n",
       "0    14.23        1.71  2.43               15.6      127.0           2.80   \n",
       "1    13.20        1.78  2.14               11.2      100.0           2.65   \n",
       "2    13.16        2.36  2.67               18.6      101.0           2.80   \n",
       "3    14.37        1.95  2.50               16.8      113.0           3.85   \n",
       "4    13.24        2.59  2.87               21.0      118.0           2.80   \n",
       "\n",
       "   flavanoids  nonflavanoid_phenols  proanthocyanins  color_intensity   hue  \\\n",
       "0        3.06                  0.28             2.29             5.64  1.04   \n",
       "1        2.76                  0.26             1.28             4.38  1.05   \n",
       "2        3.24                  0.30             2.81             5.68  1.03   \n",
       "3        3.49                  0.24             2.18             7.80  0.86   \n",
       "4        2.69                  0.39             1.82             4.32  1.04   \n",
       "\n",
       "   od280/od315_of_diluted_wines  proline  target  \n",
       "0                          3.92   1065.0       0  \n",
       "1                          3.40   1050.0       0  \n",
       "2                          3.17   1185.0       0  \n",
       "3                          3.45   1480.0       0  \n",
       "4                          2.93    735.0       0  "
      ]
     },
     "execution_count": 20,
     "metadata": {},
     "output_type": "execute_result"
    }
   ],
   "source": [
    "# Loading the dataset\n",
    "dataset = load_wine()\n",
    "\n",
    "# Convert to Pandas DataFrame\n",
    "dataset_df = pd.DataFrame(data=np.c_[dataset['data'], dataset['target']],\n",
    "                     columns=dataset['feature_names'] + ['target'])\n",
    "\n",
    "# Converting class labels to int\n",
    "dataset_df['target'] = dataset_df['target'].astype('int')\n",
    "\n",
    "# Storing references to feature names and (unique) class labels\n",
    "feature_names = dataset['feature_names']\n",
    "class_labels = dataset_df['target'].unique().astype('str')\n",
    "\n",
    "# Get the X (feature matrix) and y (class label vector) from the data\n",
    "X, y = dataset.data, dataset.target\n",
    "\n",
    "print(\"Shape of feature matrix:\", X.shape)\n",
    "\n",
    "# And just to ensure we've loaded what we expect..\n",
    "dataset_df.head()"
   ]
  },
  {
   "cell_type": "markdown",
   "metadata": {},
   "source": [
    "## Utility functions"
   ]
  },
  {
   "cell_type": "code",
   "execution_count": 18,
   "metadata": {
    "ExecuteTime": {
     "end_time": "2021-12-01T11:36:20.269122Z",
     "start_time": "2021-12-01T11:36:20.265801Z"
    }
   },
   "outputs": [],
   "source": [
    "# Visualising the Decision Tree\n",
    "def visualise_tree(model, feature_names, class_labels):\n",
    "    \"\"\"\n",
    "    A function to visualise a decision tree model. This requires graphviz to be installed.\n",
    "    :param model: the decision tree model\n",
    "    :param feature_list: a list of names for the features\n",
    "    :param class_labels: a list of names for the class labels\n",
    "    \"\"\"\n",
    "    graph = Source(tree.export_graphviz(model, out_file=None\n",
    "       , feature_names=feature_names, class_names=class_labels\n",
    "       , filled = True))\n",
    "    graph_svg = SVG(graph.pipe(format='svg'))\n",
    "    display(graph_svg)"
   ]
  },
  {
   "cell_type": "code",
   "execution_count": 19,
   "metadata": {
    "ExecuteTime": {
     "end_time": "2021-12-01T11:36:29.359897Z",
     "start_time": "2021-12-01T11:36:29.353203Z"
    }
   },
   "outputs": [],
   "source": [
    "# Utility function to report best scores\n",
    "def report(results, rank_metric='score', n_top=3):\n",
    "    \"\"\"\n",
    "    Utility function to report best scores.\n",
    "    :param results: the cv_results_ data structure from the optimisation algorithm\n",
    "    :param rank_metric: name of the metric to report results for\n",
    "    :param n_top: the number of top results to report\n",
    "    \"\"\"\n",
    "    print(\"\\nModels ranked according to\", rank_metric)\n",
    "    for i in range(1, n_top + 1):\n",
    "        candidates = np.flatnonzero(results[\"rank_test_\" + rank_metric] == i)\n",
    "        for candidate in candidates:\n",
    "            print(\"Model with rank: {0}\".format(i))\n",
    "            print(\"Mean validation score: {0:.2f} (+/- {1:.2f})\".format(\n",
    "                  results[\"mean_test_\" + rank_metric][candidate],\n",
    "                  results[\"std_test_\" + rank_metric][candidate]*2))\n",
    "            print(\"Params: {0}\".format(results['params'][candidate]))\n",
    "            print(\"\")"
   ]
  },
  {
   "cell_type": "markdown",
   "metadata": {},
   "source": [
    "## Manual hyper-parameter optimisation"
   ]
  },
  {
   "cell_type": "code",
   "execution_count": 21,
   "metadata": {
    "ExecuteTime": {
     "end_time": "2021-12-01T11:36:56.587054Z",
     "start_time": "2021-12-01T11:36:56.320189Z"
    }
   },
   "outputs": [
    {
     "name": "stdout",
     "output_type": "stream",
     "text": [
      "Accuracy: 0.90 (+/- 0.21)\n"
     ]
    },
    {
     "data": {
      "image/svg+xml": [
       "<svg xmlns=\"http://www.w3.org/2000/svg\" xmlns:xlink=\"http://www.w3.org/1999/xlink\" width=\"555pt\" height=\"314pt\" viewBox=\"0.00 0.00 554.50 314.00\">\n",
       "<g id=\"graph0\" class=\"graph\" transform=\"scale(1 1) rotate(0) translate(4 310)\">\n",
       "<title>Tree</title>\n",
       "<polygon fill=\"white\" stroke=\"transparent\" points=\"-4,4 -4,-310 550.5,-310 550.5,4 -4,4\"/>\n",
       "<!-- 0 -->\n",
       "<g id=\"node1\" class=\"node\">\n",
       "<title>0</title>\n",
       "<polygon fill=\"#ebfcf2\" stroke=\"black\" points=\"342,-306 203,-306 203,-223 342,-223 342,-306\"/>\n",
       "<text text-anchor=\"middle\" x=\"272.5\" y=\"-290.8\" font-family=\"Helvetica,sans-Serif\" font-size=\"14.00\">flavanoids &lt;= 1.575</text>\n",
       "<text text-anchor=\"middle\" x=\"272.5\" y=\"-275.8\" font-family=\"Helvetica,sans-Serif\" font-size=\"14.00\">entropy = 1.566</text>\n",
       "<text text-anchor=\"middle\" x=\"272.5\" y=\"-260.8\" font-family=\"Helvetica,sans-Serif\" font-size=\"14.00\">samples = 160</text>\n",
       "<text text-anchor=\"middle\" x=\"272.5\" y=\"-245.8\" font-family=\"Helvetica,sans-Serif\" font-size=\"14.00\">value = [53, 64, 43]</text>\n",
       "<text text-anchor=\"middle\" x=\"272.5\" y=\"-230.8\" font-family=\"Helvetica,sans-Serif\" font-size=\"14.00\">class = 1</text>\n",
       "</g>\n",
       "<!-- 1 -->\n",
       "<g id=\"node2\" class=\"node\">\n",
       "<title>1</title>\n",
       "<polygon fill=\"#a16cec\" stroke=\"black\" points=\"273,-187 108,-187 108,-104 273,-104 273,-187\"/>\n",
       "<text text-anchor=\"middle\" x=\"190.5\" y=\"-171.8\" font-family=\"Helvetica,sans-Serif\" font-size=\"14.00\">color_intensity &lt;= 3.825</text>\n",
       "<text text-anchor=\"middle\" x=\"190.5\" y=\"-156.8\" font-family=\"Helvetica,sans-Serif\" font-size=\"14.00\">entropy = 0.729</text>\n",
       "<text text-anchor=\"middle\" x=\"190.5\" y=\"-141.8\" font-family=\"Helvetica,sans-Serif\" font-size=\"14.00\">samples = 54</text>\n",
       "<text text-anchor=\"middle\" x=\"190.5\" y=\"-126.8\" font-family=\"Helvetica,sans-Serif\" font-size=\"14.00\">value = [0, 11, 43]</text>\n",
       "<text text-anchor=\"middle\" x=\"190.5\" y=\"-111.8\" font-family=\"Helvetica,sans-Serif\" font-size=\"14.00\">class = 2</text>\n",
       "</g>\n",
       "<!-- 0&#45;&gt;1 -->\n",
       "<g id=\"edge1\" class=\"edge\">\n",
       "<title>0-&gt;1</title>\n",
       "<path fill=\"none\" stroke=\"black\" d=\"M244.05,-222.91C237.82,-214.01 231.16,-204.51 224.72,-195.33\"/>\n",
       "<polygon fill=\"black\" stroke=\"black\" points=\"227.5,-193.2 218.9,-187.02 221.77,-197.22 227.5,-193.2\"/>\n",
       "<text text-anchor=\"middle\" x=\"214.57\" y=\"-207.94\" font-family=\"Helvetica,sans-Serif\" font-size=\"14.00\">True</text>\n",
       "</g>\n",
       "<!-- 4 -->\n",
       "<g id=\"node5\" class=\"node\">\n",
       "<title>4</title>\n",
       "<polygon fill=\"#ffffff\" stroke=\"black\" points=\"419.5,-187 291.5,-187 291.5,-104 419.5,-104 419.5,-187\"/>\n",
       "<text text-anchor=\"middle\" x=\"355.5\" y=\"-171.8\" font-family=\"Helvetica,sans-Serif\" font-size=\"14.00\">proline &lt;= 755.0</text>\n",
       "<text text-anchor=\"middle\" x=\"355.5\" y=\"-156.8\" font-family=\"Helvetica,sans-Serif\" font-size=\"14.00\">entropy = 1.0</text>\n",
       "<text text-anchor=\"middle\" x=\"355.5\" y=\"-141.8\" font-family=\"Helvetica,sans-Serif\" font-size=\"14.00\">samples = 106</text>\n",
       "<text text-anchor=\"middle\" x=\"355.5\" y=\"-126.8\" font-family=\"Helvetica,sans-Serif\" font-size=\"14.00\">value = [53, 53, 0]</text>\n",
       "<text text-anchor=\"middle\" x=\"355.5\" y=\"-111.8\" font-family=\"Helvetica,sans-Serif\" font-size=\"14.00\">class = 0</text>\n",
       "</g>\n",
       "<!-- 0&#45;&gt;4 -->\n",
       "<g id=\"edge4\" class=\"edge\">\n",
       "<title>0-&gt;4</title>\n",
       "<path fill=\"none\" stroke=\"black\" d=\"M301.3,-222.91C307.61,-214.01 314.35,-204.51 320.86,-195.33\"/>\n",
       "<polygon fill=\"black\" stroke=\"black\" points=\"323.82,-197.2 326.75,-187.02 318.11,-193.15 323.82,-197.2\"/>\n",
       "<text text-anchor=\"middle\" x=\"330.94\" y=\"-207.97\" font-family=\"Helvetica,sans-Serif\" font-size=\"14.00\">False</text>\n",
       "</g>\n",
       "<!-- 2 -->\n",
       "<g id=\"node3\" class=\"node\">\n",
       "<title>2</title>\n",
       "<polygon fill=\"#39e581\" stroke=\"black\" points=\"119,-68 0,-68 0,0 119,0 119,-68\"/>\n",
       "<text text-anchor=\"middle\" x=\"59.5\" y=\"-52.8\" font-family=\"Helvetica,sans-Serif\" font-size=\"14.00\">entropy = 0.0</text>\n",
       "<text text-anchor=\"middle\" x=\"59.5\" y=\"-37.8\" font-family=\"Helvetica,sans-Serif\" font-size=\"14.00\">samples = 11</text>\n",
       "<text text-anchor=\"middle\" x=\"59.5\" y=\"-22.8\" font-family=\"Helvetica,sans-Serif\" font-size=\"14.00\">value = [0, 11, 0]</text>\n",
       "<text text-anchor=\"middle\" x=\"59.5\" y=\"-7.8\" font-family=\"Helvetica,sans-Serif\" font-size=\"14.00\">class = 1</text>\n",
       "</g>\n",
       "<!-- 1&#45;&gt;2 -->\n",
       "<g id=\"edge2\" class=\"edge\">\n",
       "<title>1-&gt;2</title>\n",
       "<path fill=\"none\" stroke=\"black\" d=\"M141.72,-103.73C130.37,-94.24 118.31,-84.16 107.01,-74.72\"/>\n",
       "<polygon fill=\"black\" stroke=\"black\" points=\"109.26,-72.03 99.34,-68.3 104.77,-77.4 109.26,-72.03\"/>\n",
       "</g>\n",
       "<!-- 3 -->\n",
       "<g id=\"node4\" class=\"node\">\n",
       "<title>3</title>\n",
       "<polygon fill=\"#8139e5\" stroke=\"black\" points=\"257.5,-68 137.5,-68 137.5,0 257.5,0 257.5,-68\"/>\n",
       "<text text-anchor=\"middle\" x=\"197.5\" y=\"-52.8\" font-family=\"Helvetica,sans-Serif\" font-size=\"14.00\">entropy = 0.0</text>\n",
       "<text text-anchor=\"middle\" x=\"197.5\" y=\"-37.8\" font-family=\"Helvetica,sans-Serif\" font-size=\"14.00\">samples = 43</text>\n",
       "<text text-anchor=\"middle\" x=\"197.5\" y=\"-22.8\" font-family=\"Helvetica,sans-Serif\" font-size=\"14.00\">value = [0, 0, 43]</text>\n",
       "<text text-anchor=\"middle\" x=\"197.5\" y=\"-7.8\" font-family=\"Helvetica,sans-Serif\" font-size=\"14.00\">class = 2</text>\n",
       "</g>\n",
       "<!-- 1&#45;&gt;3 -->\n",
       "<g id=\"edge3\" class=\"edge\">\n",
       "<title>1-&gt;3</title>\n",
       "<path fill=\"none\" stroke=\"black\" d=\"M193.11,-103.73C193.64,-95.43 194.2,-86.67 194.73,-78.28\"/>\n",
       "<polygon fill=\"black\" stroke=\"black\" points=\"198.23,-78.5 195.37,-68.3 191.24,-78.06 198.23,-78.5\"/>\n",
       "</g>\n",
       "<!-- 5 -->\n",
       "<g id=\"node6\" class=\"node\">\n",
       "<title>5</title>\n",
       "<polygon fill=\"#3de684\" stroke=\"black\" points=\"408.5,-68 288.5,-68 288.5,0 408.5,0 408.5,-68\"/>\n",
       "<text text-anchor=\"middle\" x=\"348.5\" y=\"-52.8\" font-family=\"Helvetica,sans-Serif\" font-size=\"14.00\">entropy = 0.139</text>\n",
       "<text text-anchor=\"middle\" x=\"348.5\" y=\"-37.8\" font-family=\"Helvetica,sans-Serif\" font-size=\"14.00\">samples = 51</text>\n",
       "<text text-anchor=\"middle\" x=\"348.5\" y=\"-22.8\" font-family=\"Helvetica,sans-Serif\" font-size=\"14.00\">value = [1, 50, 0]</text>\n",
       "<text text-anchor=\"middle\" x=\"348.5\" y=\"-7.8\" font-family=\"Helvetica,sans-Serif\" font-size=\"14.00\">class = 1</text>\n",
       "</g>\n",
       "<!-- 4&#45;&gt;5 -->\n",
       "<g id=\"edge5\" class=\"edge\">\n",
       "<title>4-&gt;5</title>\n",
       "<path fill=\"none\" stroke=\"black\" d=\"M352.89,-103.73C352.36,-95.43 351.8,-86.67 351.27,-78.28\"/>\n",
       "<polygon fill=\"black\" stroke=\"black\" points=\"354.76,-78.06 350.63,-68.3 347.77,-78.5 354.76,-78.06\"/>\n",
       "</g>\n",
       "<!-- 6 -->\n",
       "<g id=\"node7\" class=\"node\">\n",
       "<title>6</title>\n",
       "<polygon fill=\"#e68844\" stroke=\"black\" points=\"546.5,-68 426.5,-68 426.5,0 546.5,0 546.5,-68\"/>\n",
       "<text text-anchor=\"middle\" x=\"486.5\" y=\"-52.8\" font-family=\"Helvetica,sans-Serif\" font-size=\"14.00\">entropy = 0.305</text>\n",
       "<text text-anchor=\"middle\" x=\"486.5\" y=\"-37.8\" font-family=\"Helvetica,sans-Serif\" font-size=\"14.00\">samples = 55</text>\n",
       "<text text-anchor=\"middle\" x=\"486.5\" y=\"-22.8\" font-family=\"Helvetica,sans-Serif\" font-size=\"14.00\">value = [52, 3, 0]</text>\n",
       "<text text-anchor=\"middle\" x=\"486.5\" y=\"-7.8\" font-family=\"Helvetica,sans-Serif\" font-size=\"14.00\">class = 0</text>\n",
       "</g>\n",
       "<!-- 4&#45;&gt;6 -->\n",
       "<g id=\"edge6\" class=\"edge\">\n",
       "<title>4-&gt;6</title>\n",
       "<path fill=\"none\" stroke=\"black\" d=\"M404.28,-103.73C415.63,-94.24 427.69,-84.16 438.99,-74.72\"/>\n",
       "<polygon fill=\"black\" stroke=\"black\" points=\"441.23,-77.4 446.66,-68.3 436.74,-72.03 441.23,-77.4\"/>\n",
       "</g>\n",
       "</g>\n",
       "</svg>"
      ],
      "text/plain": [
       "<IPython.core.display.SVG object>"
      ]
     },
     "metadata": {},
     "output_type": "display_data"
    }
   ],
   "source": [
    "# Instanting model\n",
    "model = DecisionTreeClassifier(random_state=None, \n",
    "                               max_depth=2, # smaller or larger depth?\n",
    "                               criterion='entropy') # gini vs entropy?\n",
    "\n",
    "# 10-fold cross-validation\n",
    "scores = cross_validate(model, X, y, cv=10, return_estimator=True)\n",
    "\n",
    "print(\"Accuracy: %0.2f (+/- %0.2f)\" % (scores['test_score'].mean(), scores['test_score'].std() * 2))\n",
    "\n",
    "# Getting the trained model from the 1st fold\n",
    "model = scores['estimator'][0]\n",
    "\n",
    "# Visualising the tree\n",
    "visualise_tree(model, features, class_labels)"
   ]
  },
  {
   "cell_type": "markdown",
   "metadata": {},
   "source": [
    "## Hyper-parameter optimisation\n",
    "\n",
    "Examples modified from: https://scikit-learn.org/stable/auto_examples/model_selection/plot_randomized_search.html\n",
    " * [Randomised Search](https://scikit-learn.org/stable/modules/generated/sklearn.model_selection.RandomizedSearchCV.html)\n",
    " * [Grid Search](https://scikit-learn.org/stable/modules/generated/sklearn.model_selection.GridSearchCV.html)"
   ]
  },
  {
   "cell_type": "markdown",
   "metadata": {},
   "source": [
    "### Random Search"
   ]
  },
  {
   "cell_type": "code",
   "execution_count": 22,
   "metadata": {
    "ExecuteTime": {
     "end_time": "2021-12-01T11:37:07.408923Z",
     "start_time": "2021-12-01T11:37:07.192166Z"
    }
   },
   "outputs": [
    {
     "name": "stdout",
     "output_type": "stream",
     "text": [
      "> STARTING RANDOM SEARCH ...\n",
      "> RANDOM SEARCH COMPLETE\n",
      "\n",
      "RandomizedSearchCV took 0.21 seconds for 20 candidates parameter settings.\n",
      "\n",
      "Models ranked according to score\n",
      "Model with rank: 1\n",
      "Mean validation score: 0.92 (+/- 0.19)\n",
      "Params: {'criterion': 'entropy', 'max_depth': 2, 'max_features': 7, 'min_samples_split': 5, 'splitter': 'best'}\n",
      "\n",
      "Model with rank: 2\n",
      "Mean validation score: 0.92 (+/- 0.13)\n",
      "Params: {'criterion': 'gini', 'max_depth': None, 'max_features': 5, 'min_samples_split': 5, 'splitter': 'best'}\n",
      "\n",
      "Model with rank: 3\n",
      "Mean validation score: 0.91 (+/- 0.14)\n",
      "Params: {'criterion': 'entropy', 'max_depth': None, 'max_features': 4, 'min_samples_split': 3, 'splitter': 'random'}\n",
      "\n"
     ]
    }
   ],
   "source": [
    "# instantiating the model\n",
    "model = DecisionTreeClassifier()\n",
    "\n",
    "# specify parameters and distributions to sample from\n",
    "param_dict = {\"max_depth\": [2, None],\n",
    "              \"max_features\": sp_randint(1, 11),\n",
    "              \"min_samples_split\": sp_randint(2, 11),\n",
    "              \"criterion\": [\"gini\", \"entropy\"],\n",
    "              \"splitter\": [\"best\", \"random\"]}\n",
    "\n",
    "# run random search\n",
    "print(\"> STARTING RANDOM SEARCH ...\")\n",
    "n_iter_search = 20\n",
    "n_folds = 10\n",
    "\n",
    "random_search = RandomizedSearchCV(model, param_distributions=param_dict,\n",
    "                                   n_iter=n_iter_search, cv=n_folds)\n",
    "\n",
    "start_time = time()\n",
    "random_search.fit(X, y)\n",
    "end_time = time()\n",
    "\n",
    "\n",
    "print(\"> RANDOM SEARCH COMPLETE\")\n",
    "\n",
    "print(\"\\nRandomizedSearchCV took %.2f seconds for %d candidates\"\n",
    "      \" parameter settings.\" % ((end_time - start_time), n_iter_search))\n",
    "report(random_search.cv_results_)"
   ]
  },
  {
   "cell_type": "markdown",
   "metadata": {},
   "source": [
    "### Grid Search"
   ]
  },
  {
   "cell_type": "code",
   "execution_count": 23,
   "metadata": {
    "ExecuteTime": {
     "end_time": "2021-12-01T11:37:15.651409Z",
     "start_time": "2021-12-01T11:37:10.800587Z"
    }
   },
   "outputs": [
    {
     "name": "stdout",
     "output_type": "stream",
     "text": [
      "\n",
      "> STARTING GRID SEARCH ...\n",
      "<class 'sklearn.model_selection._search.GridSearchCV'>\n",
      "> GRID SEARCH COMPLETE\n",
      "\n",
      "GridSearchCV took 4.84 seconds for 500 candidate parameter settings.\n",
      "\n",
      "Models ranked according to score\n",
      "Model with rank: 1\n",
      "Mean validation score: 0.96 (+/- 0.07)\n",
      "Params: {'criterion': 'gini', 'max_depth': 8, 'max_features': 6, 'min_samples_split': 2, 'splitter': 'best'}\n",
      "\n",
      "Model with rank: 2\n",
      "Mean validation score: 0.95 (+/- 0.14)\n",
      "Params: {'criterion': 'entropy', 'max_depth': 8, 'max_features': 10, 'min_samples_split': 8, 'splitter': 'best'}\n",
      "\n",
      "Model with rank: 3\n",
      "Mean validation score: 0.94 (+/- 0.11)\n",
      "Params: {'criterion': 'entropy', 'max_depth': 8, 'max_features': 6, 'min_samples_split': 6, 'splitter': 'best'}\n",
      "\n"
     ]
    }
   ],
   "source": [
    "# instantiating the model\n",
    "model = DecisionTreeClassifier()\n",
    "\n",
    "# defining parameter grid\n",
    "param_grid = {\"max_depth\": [2, 4, 6, 8, None],\n",
    "              \"max_features\": [2, 4, 6, 8, 10],\n",
    "              \"min_samples_split\": [2, 4, 6, 8, 10],\n",
    "              \"criterion\": [\"gini\", \"entropy\"],\n",
    "              \"splitter\": [\"best\", \"random\"]}\n",
    "\n",
    "# run grid search\n",
    "print(\"\\n> STARTING GRID SEARCH ...\")\n",
    "grid_search = GridSearchCV(model, param_grid=param_grid, cv=n_folds)\n",
    "\n",
    "start_time = time()\n",
    "grid_search.fit(X, y)\n",
    "end_time = time()\n",
    "\n",
    "print(type(grid_search))\n",
    "\n",
    "print(\"> GRID SEARCH COMPLETE\")\n",
    "\n",
    "print(\"\\nGridSearchCV took %.2f seconds for %d candidate parameter settings.\"\n",
    "      % (end_time - start_time, len(grid_search.cv_results_['params'])))\n",
    "report(grid_search.cv_results_)"
   ]
  },
  {
   "cell_type": "markdown",
   "metadata": {},
   "source": [
    "### Multi-metric evaluation for GridSearch \n",
    "\n",
    "Defining metrics: https://scikit-learn.org/stable/modules/model_evaluation.html#scoring-parameter\n",
    "\n",
    "Done something similar previously. See Lab 07 (solutions).\n",
    "\n",
    "Another example you may find interesting: https://scikit-learn.org/stable/auto_examples/model_selection/plot_multi_metric_evaluation.html"
   ]
  },
  {
   "cell_type": "code",
   "execution_count": 24,
   "metadata": {
    "ExecuteTime": {
     "end_time": "2021-12-01T11:37:31.859776Z",
     "start_time": "2021-12-01T11:37:21.594805Z"
    }
   },
   "outputs": [
    {
     "name": "stdout",
     "output_type": "stream",
     "text": [
      "\n",
      "> STARTING GRID SEARCH ...\n",
      "> GRID SEARCH COMPLETE\n",
      "\n",
      "GridSearchCV took 10.26 seconds for 500 candidate parameter settings.\n",
      "\n",
      "Models ranked according to accuracy\n",
      "Model with rank: 1\n",
      "Mean validation score: 0.96 (+/- 0.10)\n",
      "Params: {'criterion': 'gini', 'max_depth': None, 'max_features': 6, 'min_samples_split': 10, 'splitter': 'best'}\n",
      "\n",
      "\n",
      "Models ranked according to prec_macro\n",
      "Model with rank: 1\n",
      "Mean validation score: 0.97 (+/- 0.06)\n",
      "Params: {'criterion': 'gini', 'max_depth': None, 'max_features': 6, 'min_samples_split': 10, 'splitter': 'best'}\n",
      "\n",
      "\n",
      "Models ranked according to rec_macro\n",
      "Model with rank: 1\n",
      "Mean validation score: 0.95 (+/- 0.10)\n",
      "Params: {'criterion': 'gini', 'max_depth': None, 'max_features': 6, 'min_samples_split': 10, 'splitter': 'best'}\n",
      "\n",
      "Best score: 0.97 \n"
     ]
    }
   ],
   "source": [
    "# instantiating the model\n",
    "model = DecisionTreeClassifier()\n",
    "\n",
    "# defining parameter grid\n",
    "param_grid = {\"max_depth\": [2, 4, 6, 8, None],\n",
    "              \"max_features\": [2, 4, 6, 8, 10],\n",
    "              \"min_samples_split\": [2, 4, 6, 8, 10],\n",
    "              \"criterion\": [\"gini\", \"entropy\"],\n",
    "              \"splitter\": [\"best\", \"random\"]}\n",
    "\n",
    "# defining multiple metrics for scoring\n",
    "scoring = {\n",
    "    'accuracy': make_scorer(accuracy_score),\n",
    "    'prec_macro': make_scorer(precision_score, average='macro', zero_division=0), \n",
    "    'rec_macro': make_scorer(recall_score, average='macro', zero_division=0)\n",
    "}\n",
    "\n",
    "# run grid search\n",
    "print(\"\\n> STARTING GRID SEARCH ...\")\n",
    "n_folds = 10\n",
    "grid_search = GridSearchCV(model, param_grid=param_grid, cv=n_folds, scoring=scoring, refit='prec_macro')\n",
    "start = time()\n",
    "grid_search.fit(X, y)\n",
    "\n",
    "print(\"> GRID SEARCH COMPLETE\")\n",
    "print(\"\\nGridSearchCV took %.2f seconds for %d candidate parameter settings.\"\n",
    "      % (time() - start, len(grid_search.cv_results_['params'])))\n",
    "\n",
    "# Get the best model according to each of the 3 metrics used\n",
    "report(grid_search.cv_results_, 'accuracy', n_top=1)\n",
    "report(grid_search.cv_results_, 'prec_macro', n_top=1)\n",
    "report(grid_search.cv_results_, 'rec_macro', n_top=1)\n",
    "\n",
    "try:\n",
    "    print(\"Best score: %0.2f \" % (grid_search.best_score_))\n",
    "except:\n",
    "    print(\"Best score not available (refit set to False presumably)\")"
   ]
  },
  {
   "cell_type": "markdown",
   "metadata": {},
   "source": [
    "## Recursive Feature Elimination"
   ]
  },
  {
   "cell_type": "code",
   "execution_count": 25,
   "metadata": {
    "ExecuteTime": {
     "end_time": "2021-12-01T11:37:40.538407Z",
     "start_time": "2021-12-01T11:37:40.447193Z"
    }
   },
   "outputs": [
    {
     "name": "stdout",
     "output_type": "stream",
     "text": [
      "RFECV took 0.09 seconds to identify 3 features\n",
      "[ 4 11 10  9  8  7  1  6  5  3  2  1  1]\n"
     ]
    }
   ],
   "source": [
    "# Instantiating classifier (with default hyper-parameter values)\n",
    "model = DecisionTreeClassifier()\n",
    "\n",
    "# Instantiating (setting up) RFE\n",
    "rfecv = RFECV(estimator=model, step=1, cv=StratifiedKFold(5), scoring='accuracy')\n",
    "\n",
    "start_time = time()\n",
    "rfecv.fit(X, y)\n",
    "end_time = time()\n",
    "\n",
    "# Printing out the results\n",
    "print(\"RFECV took %.2f seconds to identify %d features\" % \n",
    "      ((end_time - start_time), rfecv.n_features_))\n",
    "print(rfecv.ranking_)"
   ]
  },
  {
   "cell_type": "code",
   "execution_count": 26,
   "metadata": {
    "ExecuteTime": {
     "end_time": "2021-12-01T11:37:43.057278Z",
     "start_time": "2021-12-01T11:37:43.047270Z"
    }
   },
   "outputs": [
    {
     "data": {
      "text/html": [
       "<div>\n",
       "<style scoped>\n",
       "    .dataframe tbody tr th:only-of-type {\n",
       "        vertical-align: middle;\n",
       "    }\n",
       "\n",
       "    .dataframe tbody tr th {\n",
       "        vertical-align: top;\n",
       "    }\n",
       "\n",
       "    .dataframe thead th {\n",
       "        text-align: right;\n",
       "    }\n",
       "</style>\n",
       "<table border=\"1\" class=\"dataframe\">\n",
       "  <thead>\n",
       "    <tr style=\"text-align: right;\">\n",
       "      <th></th>\n",
       "      <th>feature</th>\n",
       "      <th>rank</th>\n",
       "    </tr>\n",
       "  </thead>\n",
       "  <tbody>\n",
       "    <tr>\n",
       "      <th>6</th>\n",
       "      <td>flavanoids</td>\n",
       "      <td>1</td>\n",
       "    </tr>\n",
       "    <tr>\n",
       "      <th>11</th>\n",
       "      <td>od280/od315_of_diluted_wines</td>\n",
       "      <td>1</td>\n",
       "    </tr>\n",
       "    <tr>\n",
       "      <th>12</th>\n",
       "      <td>proline</td>\n",
       "      <td>1</td>\n",
       "    </tr>\n",
       "    <tr>\n",
       "      <th>10</th>\n",
       "      <td>hue</td>\n",
       "      <td>2</td>\n",
       "    </tr>\n",
       "    <tr>\n",
       "      <th>9</th>\n",
       "      <td>color_intensity</td>\n",
       "      <td>3</td>\n",
       "    </tr>\n",
       "    <tr>\n",
       "      <th>0</th>\n",
       "      <td>alcohol</td>\n",
       "      <td>4</td>\n",
       "    </tr>\n",
       "    <tr>\n",
       "      <th>8</th>\n",
       "      <td>proanthocyanins</td>\n",
       "      <td>5</td>\n",
       "    </tr>\n",
       "    <tr>\n",
       "      <th>7</th>\n",
       "      <td>nonflavanoid_phenols</td>\n",
       "      <td>6</td>\n",
       "    </tr>\n",
       "    <tr>\n",
       "      <th>5</th>\n",
       "      <td>total_phenols</td>\n",
       "      <td>7</td>\n",
       "    </tr>\n",
       "    <tr>\n",
       "      <th>4</th>\n",
       "      <td>magnesium</td>\n",
       "      <td>8</td>\n",
       "    </tr>\n",
       "    <tr>\n",
       "      <th>3</th>\n",
       "      <td>alcalinity_of_ash</td>\n",
       "      <td>9</td>\n",
       "    </tr>\n",
       "    <tr>\n",
       "      <th>2</th>\n",
       "      <td>ash</td>\n",
       "      <td>10</td>\n",
       "    </tr>\n",
       "    <tr>\n",
       "      <th>1</th>\n",
       "      <td>malic_acid</td>\n",
       "      <td>11</td>\n",
       "    </tr>\n",
       "  </tbody>\n",
       "</table>\n",
       "</div>"
      ],
      "text/plain": [
       "                         feature  rank\n",
       "6                     flavanoids     1\n",
       "11  od280/od315_of_diluted_wines     1\n",
       "12                       proline     1\n",
       "10                           hue     2\n",
       "9                color_intensity     3\n",
       "0                        alcohol     4\n",
       "8                proanthocyanins     5\n",
       "7           nonflavanoid_phenols     6\n",
       "5                  total_phenols     7\n",
       "4                      magnesium     8\n",
       "3              alcalinity_of_ash     9\n",
       "2                            ash    10\n",
       "1                     malic_acid    11"
      ]
     },
     "execution_count": 26,
     "metadata": {},
     "output_type": "execute_result"
    }
   ],
   "source": [
    "# Creating a DataFrame to display the original columns and their ranking\n",
    "feature_ranking_df = pd.DataFrame()\n",
    "feature_ranking_df['feature'] = dataset['feature_names']\n",
    "feature_ranking_df['rank'] = rfecv.ranking_\n",
    "\n",
    "feature_ranking_df = feature_ranking_df.sort_values(by='rank', ascending=True)\n",
    "feature_ranking_df"
   ]
  },
  {
   "cell_type": "markdown",
   "metadata": {},
   "source": [
    "## Random Forest Feature Selection"
   ]
  },
  {
   "cell_type": "code",
   "execution_count": 29,
   "metadata": {
    "ExecuteTime": {
     "end_time": "2021-12-01T11:38:18.628348Z",
     "start_time": "2021-12-01T11:38:17.549867Z"
    }
   },
   "outputs": [],
   "source": [
    "# Instantiating RandomForest classifier (with default hyper-parameter values)\n",
    "model = RandomForestClassifier(n_estimators=200,random_state=None)\n",
    "\n",
    "# 5-fold cross validation, returning a trained model\n",
    "scores = cross_validate(model, X, y, cv=5, return_estimator=True)\n",
    "\n",
    "# Getting the trained model from the 1st fold\n",
    "estimator = scores['estimator'][0]"
   ]
  },
  {
   "cell_type": "code",
   "execution_count": 30,
   "metadata": {
    "ExecuteTime": {
     "end_time": "2021-12-01T11:38:20.026810Z",
     "start_time": "2021-12-01T11:38:19.999561Z"
    }
   },
   "outputs": [],
   "source": [
    "# Creating a DataFrame to display the original columns and their importance\n",
    "feature_importance_df = pd.DataFrame()\n",
    "feature_importance_df['feature'] = dataset['feature_names']\n",
    "feature_importance_df['importance'] = estimator.feature_importances_\n",
    "\n",
    "feature_importance_df = feature_importance_df.sort_values(by='importance', ascending=True)\n",
    "#feature_importance_df"
   ]
  },
  {
   "cell_type": "code",
   "execution_count": 14,
   "metadata": {
    "ExecuteTime": {
     "end_time": "2021-12-01T11:35:53.035340Z",
     "start_time": "2021-12-01T11:35:52.403659Z"
    }
   },
   "outputs": [
    {
     "data": {
      "text/plain": [
       "<AxesSubplot:title={'center':'RF Feature Importance'}>"
      ]
     },
     "execution_count": 14,
     "metadata": {},
     "output_type": "execute_result"
    },
    {
     "data": {
      "image/png": "[encoded data removed]",
      "text/plain": [
       "<Figure size 1152x648 with 1 Axes>"
      ]
     },
     "metadata": {},
     "output_type": "display_data"
    }
   ],
   "source": [
    "feature_importance_df.plot(kind='barh',\n",
    "                           x='feature', \n",
    "                           y='importance',\n",
    "                           title='RF Feature Importance',\n",
    "                           xlabel='',\n",
    "                           figsize=(16, 9),\n",
    "                           fontsize=16)"
   ]
  },
  {
   "cell_type": "markdown",
   "metadata": {},
   "source": [
    "## Principal Component Analysis"
   ]
  },
  {
   "cell_type": "code",
   "execution_count": 32,
   "metadata": {
    "ExecuteTime": {
     "end_time": "2021-12-01T11:38:44.854068Z",
     "start_time": "2021-12-01T11:38:44.336688Z"
    }
   },
   "outputs": [
    {
     "data": {
      "text/plain": [
       "<AxesSubplot:>"
      ]
     },
     "execution_count": 32,
     "metadata": {},
     "output_type": "execute_result"
    },
    {
     "data": {
      "image/png": "[encoded data removed]",
      "text/plain": [
       "<Figure size 1152x504 with 2 Axes>"
      ]
     },
     "metadata": {},
     "output_type": "display_data"
    }
   ],
   "source": [
    "# Using Sparman's (non-linear relationship) - doesn't assume normal distribution\n",
    "corr, _ = spearmanr(X)\n",
    "\n",
    "# Getting just the triangle of the correlation matrix\n",
    "triangle = np.triu(corr)\n",
    "\n",
    "# Plotting a heatmap with Seaborn\n",
    "plt.figure(figsize=(16, 7))\n",
    "sns.heatmap(data=corr, annot=True, mask=triangle, vmin=-1, vmax=1, cmap='RdBu_r', linewidths=.5, fmt= '.1f') # with 1 decimal precision"
   ]
  },
  {
   "cell_type": "code",
   "execution_count": 33,
   "metadata": {
    "ExecuteTime": {
     "end_time": "2021-12-01T11:38:47.511496Z",
     "start_time": "2021-12-01T11:38:47.506253Z"
    }
   },
   "outputs": [
    {
     "name": "stdout",
     "output_type": "stream",
     "text": [
      "Old shape: (178, 13)\n",
      "New shape: (178, 10)\n"
     ]
    }
   ],
   "source": [
    "# Applying PCA, set to generate 10 Principal Components here\n",
    "pca = PCA(n_components=10)\n",
    "\n",
    "X_pca = pca.fit_transform(X)\n",
    "\n",
    "print(\"Old shape:\",X.shape)\n",
    "print(\"New shape:\",X_pca.shape)"
   ]
  },
  {
   "cell_type": "code",
   "execution_count": 34,
   "metadata": {
    "ExecuteTime": {
     "end_time": "2021-12-01T11:38:56.875210Z",
     "start_time": "2021-12-01T11:38:56.496231Z"
    }
   },
   "outputs": [
    {
     "data": {
      "text/plain": [
       "<AxesSubplot:>"
      ]
     },
     "execution_count": 34,
     "metadata": {},
     "output_type": "execute_result"
    },
    {
     "data": {
      "image/png": "[encoded data removed]",
      "text/plain": [
       "<Figure size 1152x504 with 2 Axes>"
      ]
     },
     "metadata": {},
     "output_type": "display_data"
    }
   ],
   "source": [
    "# Using Sparman's (non-linear relationship) - doesn't assume normal distribution\n",
    "corr, _ = spearmanr(X_pca)\n",
    "\n",
    "# Getting just the triangle of the correlation matrix\n",
    "triangle = np.triu(corr)\n",
    "\n",
    "# Plotting a heatmap with Seaborn\n",
    "plt.figure(figsize=(16, 7))\n",
    "sns.heatmap(data=corr, annot=True, mask=triangle, vmin=-1, vmax=1, cmap='RdBu_r', linewidths=.5, fmt= '.1f') # with 1 decimal precision"
   ]
  },
  {
   "cell_type": "code",
   "execution_count": null,
   "metadata": {},
   "outputs": [],
   "source": []
  }
 ],
 "metadata": {
  "kernelspec": {
   "display_name": "Python 3",
   "language": "python",
   "name": "python3"
  },
  "language_info": {
   "codemirror_mode": {
    "name": "ipython",
    "version": 3
   },
   "file_extension": ".py",
   "mimetype": "text/x-python",
   "name": "python",
   "nbconvert_exporter": "python",
   "pygments_lexer": "ipython3",
   "version": "3.8.8"
  },
  "toc": {
   "base_numbering": 1,
   "nav_menu": {},
   "number_sections": true,
   "sideBar": true,
   "skip_h1_title": false,
   "title_cell": "Table of Contents",
   "title_sidebar": "Contents",
   "toc_cell": false,
   "toc_position": {},
   "toc_section_display": true,
   "toc_window_display": true
  },
  "varInspector": {
   "cols": {
    "lenName": 16,
    "lenType": 16,
    "lenVar": 40
   },
   "kernels_config": {
    "python": {
     "delete_cmd_postfix": "",
     "delete_cmd_prefix": "del ",
     "library": "var_list.py",
     "varRefreshCmd": "print(var_dic_list())"
    },
    "r": {
     "delete_cmd_postfix": ") ",
     "delete_cmd_prefix": "rm(",
     "library": "var_list.r",
     "varRefreshCmd": "cat(var_dic_list()) "
    }
   },
   "types_to_exclude": [
    "module",
    "function",
    "builtin_function_or_method",
    "instance",
    "_Feature"
   ],
   "window_display": false
  }
 },
 "nbformat": 4,
 "nbformat_minor": 4
}
