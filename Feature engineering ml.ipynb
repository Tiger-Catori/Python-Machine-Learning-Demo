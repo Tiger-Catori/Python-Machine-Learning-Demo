{
 "cells": [
  {
   "cell_type": "markdown",
   "id": "97044259",
   "metadata": {},
   "source": [
    "## Importing libraries & loading the dataset"
   ]
  },
  {
   "cell_type": "code",
   "execution_count": 57,
   "id": "74bc4078",
   "metadata": {},
   "outputs": [
    {
     "name": "stdout",
     "output_type": "stream",
     "text": [
      "Requirement already satisfied: scikit-learn in c:\\users\\uniwork\\anaconda3\\lib\\site-packages (0.24.1)\n",
      "Requirement already satisfied: threadpoolctl>=2.0.0 in c:\\users\\uniwork\\anaconda3\\lib\\site-packages (from scikit-learn) (2.1.0)\n",
      "Requirement already satisfied: joblib>=0.11 in c:\\users\\uniwork\\anaconda3\\lib\\site-packages (from scikit-learn) (1.0.1)\n",
      "Requirement already satisfied: scipy>=0.19.1 in c:\\users\\uniwork\\anaconda3\\lib\\site-packages (from scikit-learn) (1.6.2)\n",
      "Requirement already satisfied: numpy>=1.13.3 in c:\\users\\uniwork\\anaconda3\\lib\\site-packages (from scikit-learn) (1.20.1)\n",
      "Requirement already satisfied: missingno in c:\\users\\uniwork\\anaconda3\\lib\\site-packages (0.5.0)\n",
      "Requirement already satisfied: matplotlib in c:\\users\\uniwork\\anaconda3\\lib\\site-packages (from missingno) (3.3.4)\n",
      "Requirement already satisfied: scipy in c:\\users\\uniwork\\anaconda3\\lib\\site-packages (from missingno) (1.6.2)\n",
      "Requirement already satisfied: numpy in c:\\users\\uniwork\\anaconda3\\lib\\site-packages (from missingno) (1.20.1)\n",
      "Requirement already satisfied: seaborn in c:\\users\\uniwork\\anaconda3\\lib\\site-packages (from missingno) (0.11.1)\n",
      "Requirement already satisfied: pillow>=6.2.0 in c:\\users\\uniwork\\anaconda3\\lib\\site-packages (from matplotlib->missingno) (8.2.0)\n",
      "Requirement already satisfied: kiwisolver>=1.0.1 in c:\\users\\uniwork\\anaconda3\\lib\\site-packages (from matplotlib->missingno) (1.3.1)\n",
      "Requirement already satisfied: python-dateutil>=2.1 in c:\\users\\uniwork\\anaconda3\\lib\\site-packages (from matplotlib->missingno) (2.8.1)\n",
      "Requirement already satisfied: pyparsing!=2.0.4,!=2.1.2,!=2.1.6,>=2.0.3 in c:\\users\\uniwork\\anaconda3\\lib\\site-packages (from matplotlib->missingno) (2.4.7)\n",
      "Requirement already satisfied: cycler>=0.10 in c:\\users\\uniwork\\anaconda3\\lib\\site-packages (from matplotlib->missingno) (0.10.0)\n",
      "Requirement already satisfied: six in c:\\users\\uniwork\\anaconda3\\lib\\site-packages (from cycler>=0.10->matplotlib->missingno) (1.15.0)\n",
      "Requirement already satisfied: pandas>=0.23 in c:\\users\\uniwork\\anaconda3\\lib\\site-packages (from seaborn->missingno) (1.2.4)\n",
      "Requirement already satisfied: pytz>=2017.3 in c:\\users\\uniwork\\anaconda3\\lib\\site-packages (from pandas>=0.23->seaborn->missingno) (2021.1)\n",
      "Collecting dataframe_image\n",
      "  Downloading dataframe_image-0.1.1-py3-none-any.whl (32 kB)\n",
      "Requirement already satisfied: nbconvert>=5 in c:\\users\\uniwork\\anaconda3\\lib\\site-packages (from dataframe_image) (6.0.7)\n",
      "Requirement already satisfied: pandas>=0.24 in c:\\users\\uniwork\\anaconda3\\lib\\site-packages (from dataframe_image) (1.2.4)\n",
      "Requirement already satisfied: requests in c:\\users\\uniwork\\anaconda3\\lib\\site-packages (from dataframe_image) (2.25.1)\n",
      "Requirement already satisfied: matplotlib>=3.1 in c:\\users\\uniwork\\anaconda3\\lib\\site-packages (from dataframe_image) (3.3.4)\n",
      "Collecting aiohttp\n",
      "  Downloading aiohttp-3.8.1-cp38-cp38-win_amd64.whl (555 kB)\n",
      "Requirement already satisfied: beautifulsoup4 in c:\\users\\uniwork\\anaconda3\\lib\\site-packages (from dataframe_image) (4.9.3)\n",
      "Requirement already satisfied: numpy>=1.15 in c:\\users\\uniwork\\anaconda3\\lib\\site-packages (from matplotlib>=3.1->dataframe_image) (1.20.1)\n",
      "Requirement already satisfied: python-dateutil>=2.1 in c:\\users\\uniwork\\anaconda3\\lib\\site-packages (from matplotlib>=3.1->dataframe_image) (2.8.1)\n",
      "Requirement already satisfied: pillow>=6.2.0 in c:\\users\\uniwork\\anaconda3\\lib\\site-packages (from matplotlib>=3.1->dataframe_image) (8.2.0)\n",
      "Requirement already satisfied: cycler>=0.10 in c:\\users\\uniwork\\anaconda3\\lib\\site-packages (from matplotlib>=3.1->dataframe_image) (0.10.0)\n",
      "Requirement already satisfied: pyparsing!=2.0.4,!=2.1.2,!=2.1.6,>=2.0.3 in c:\\users\\uniwork\\anaconda3\\lib\\site-packages (from matplotlib>=3.1->dataframe_image) (2.4.7)\n",
      "Requirement already satisfied: kiwisolver>=1.0.1 in c:\\users\\uniwork\\anaconda3\\lib\\site-packages (from matplotlib>=3.1->dataframe_image) (1.3.1)\n",
      "Requirement already satisfied: six in c:\\users\\uniwork\\anaconda3\\lib\\site-packages (from cycler>=0.10->matplotlib>=3.1->dataframe_image) (1.15.0)\n",
      "Requirement already satisfied: bleach in c:\\users\\uniwork\\anaconda3\\lib\\site-packages (from nbconvert>=5->dataframe_image) (3.3.0)\n",
      "Requirement already satisfied: defusedxml in c:\\users\\uniwork\\anaconda3\\lib\\site-packages (from nbconvert>=5->dataframe_image) (0.7.1)\n",
      "Requirement already satisfied: nbclient<0.6.0,>=0.5.0 in c:\\users\\uniwork\\anaconda3\\lib\\site-packages (from nbconvert>=5->dataframe_image) (0.5.3)\n",
      "Requirement already satisfied: pandocfilters>=1.4.1 in c:\\users\\uniwork\\anaconda3\\lib\\site-packages (from nbconvert>=5->dataframe_image) (1.4.3)\n",
      "Requirement already satisfied: jupyter-core in c:\\users\\uniwork\\anaconda3\\lib\\site-packages (from nbconvert>=5->dataframe_image) (4.7.1)\n",
      "Requirement already satisfied: jupyterlab-pygments in c:\\users\\uniwork\\anaconda3\\lib\\site-packages (from nbconvert>=5->dataframe_image) (0.1.2)\n",
      "Requirement already satisfied: traitlets>=4.2 in c:\\users\\uniwork\\anaconda3\\lib\\site-packages (from nbconvert>=5->dataframe_image) (5.0.5)\n",
      "Requirement already satisfied: mistune<2,>=0.8.1 in c:\\users\\uniwork\\anaconda3\\lib\\site-packages (from nbconvert>=5->dataframe_image) (0.8.4)\n",
      "Requirement already satisfied: jinja2>=2.4 in c:\\users\\uniwork\\anaconda3\\lib\\site-packages (from nbconvert>=5->dataframe_image) (2.11.3)\n",
      "Requirement already satisfied: pygments>=2.4.1 in c:\\users\\uniwork\\anaconda3\\lib\\site-packages (from nbconvert>=5->dataframe_image) (2.8.1)\n",
      "Requirement already satisfied: testpath in c:\\users\\uniwork\\anaconda3\\lib\\site-packages (from nbconvert>=5->dataframe_image) (0.4.4)\n",
      "Requirement already satisfied: nbformat>=4.4 in c:\\users\\uniwork\\anaconda3\\lib\\site-packages (from nbconvert>=5->dataframe_image) (5.1.3)\n",
      "Requirement already satisfied: entrypoints>=0.2.2 in c:\\users\\uniwork\\anaconda3\\lib\\site-packages (from nbconvert>=5->dataframe_image) (0.3)\n",
      "Requirement already satisfied: MarkupSafe>=0.23 in c:\\users\\uniwork\\anaconda3\\lib\\site-packages (from jinja2>=2.4->nbconvert>=5->dataframe_image) (1.1.1)\n",
      "Requirement already satisfied: async-generator in c:\\users\\uniwork\\anaconda3\\lib\\site-packages (from nbclient<0.6.0,>=0.5.0->nbconvert>=5->dataframe_image) (1.10)\n",
      "Requirement already satisfied: jupyter-client>=6.1.5 in c:\\users\\uniwork\\anaconda3\\lib\\site-packages (from nbclient<0.6.0,>=0.5.0->nbconvert>=5->dataframe_image) (6.1.12)\n",
      "Requirement already satisfied: nest-asyncio in c:\\users\\uniwork\\anaconda3\\lib\\site-packages (from nbclient<0.6.0,>=0.5.0->nbconvert>=5->dataframe_image) (1.5.1)\n",
      "Requirement already satisfied: pyzmq>=13 in c:\\users\\uniwork\\anaconda3\\lib\\site-packages (from jupyter-client>=6.1.5->nbclient<0.6.0,>=0.5.0->nbconvert>=5->dataframe_image) (20.0.0)\n",
      "Requirement already satisfied: tornado>=4.1 in c:\\users\\uniwork\\anaconda3\\lib\\site-packages (from jupyter-client>=6.1.5->nbclient<0.6.0,>=0.5.0->nbconvert>=5->dataframe_image) (6.1)\n",
      "Requirement already satisfied: pywin32>=1.0 in c:\\users\\uniwork\\anaconda3\\lib\\site-packages (from jupyter-core->nbconvert>=5->dataframe_image) (227)\n",
      "Requirement already satisfied: jsonschema!=2.5.0,>=2.4 in c:\\users\\uniwork\\anaconda3\\lib\\site-packages (from nbformat>=4.4->nbconvert>=5->dataframe_image) (3.2.0)\n",
      "Requirement already satisfied: ipython-genutils in c:\\users\\uniwork\\anaconda3\\lib\\site-packages (from nbformat>=4.4->nbconvert>=5->dataframe_image) (0.2.0)\n",
      "Requirement already satisfied: attrs>=17.4.0 in c:\\users\\uniwork\\anaconda3\\lib\\site-packages (from jsonschema!=2.5.0,>=2.4->nbformat>=4.4->nbconvert>=5->dataframe_image) (20.3.0)\n",
      "Requirement already satisfied: setuptools in c:\\users\\uniwork\\anaconda3\\lib\\site-packages (from jsonschema!=2.5.0,>=2.4->nbformat>=4.4->nbconvert>=5->dataframe_image) (52.0.0.post20210125)\n",
      "Requirement already satisfied: pyrsistent>=0.14.0 in c:\\users\\uniwork\\anaconda3\\lib\\site-packages (from jsonschema!=2.5.0,>=2.4->nbformat>=4.4->nbconvert>=5->dataframe_image) (0.17.3)\n",
      "Requirement already satisfied: pytz>=2017.3 in c:\\users\\uniwork\\anaconda3\\lib\\site-packages (from pandas>=0.24->dataframe_image) (2021.1)\n",
      "Collecting multidict<7.0,>=4.5\n",
      "  Downloading multidict-5.2.0-cp38-cp38-win_amd64.whl (45 kB)\n",
      "Collecting async-timeout<5.0,>=4.0.0a3\n",
      "  Downloading async_timeout-4.0.2-py3-none-any.whl (5.8 kB)\n",
      "Collecting frozenlist>=1.1.1\n",
      "  Downloading frozenlist-1.2.0-cp38-cp38-win_amd64.whl (83 kB)\n",
      "Collecting aiosignal>=1.1.2\n",
      "  Downloading aiosignal-1.2.0-py3-none-any.whl (8.2 kB)\n",
      "Collecting charset-normalizer<3.0,>=2.0\n",
      "  Downloading charset_normalizer-2.0.10-py3-none-any.whl (39 kB)\n",
      "Collecting yarl<2.0,>=1.0\n",
      "  Downloading yarl-1.7.2-cp38-cp38-win_amd64.whl (122 kB)\n",
      "Requirement already satisfied: idna>=2.0 in c:\\users\\uniwork\\anaconda3\\lib\\site-packages (from yarl<2.0,>=1.0->aiohttp->dataframe_image) (2.10)\n",
      "Requirement already satisfied: soupsieve>1.2 in c:\\users\\uniwork\\anaconda3\\lib\\site-packages (from beautifulsoup4->dataframe_image) (2.2.1)\n",
      "Requirement already satisfied: webencodings in c:\\users\\uniwork\\anaconda3\\lib\\site-packages (from bleach->nbconvert>=5->dataframe_image) (0.5.1)\n",
      "Requirement already satisfied: packaging in c:\\users\\uniwork\\anaconda3\\lib\\site-packages (from bleach->nbconvert>=5->dataframe_image) (20.9)\n",
      "Requirement already satisfied: urllib3<1.27,>=1.21.1 in c:\\users\\uniwork\\anaconda3\\lib\\site-packages (from requests->dataframe_image) (1.26.4)\n",
      "Requirement already satisfied: certifi>=2017.4.17 in c:\\users\\uniwork\\anaconda3\\lib\\site-packages (from requests->dataframe_image) (2020.12.5)\n",
      "Requirement already satisfied: chardet<5,>=3.0.2 in c:\\users\\uniwork\\anaconda3\\lib\\site-packages (from requests->dataframe_image) (4.0.0)\n",
      "Installing collected packages: multidict, frozenlist, yarl, charset-normalizer, async-timeout, aiosignal, aiohttp, dataframe-image\n",
      "Successfully installed aiohttp-3.8.1 aiosignal-1.2.0 async-timeout-4.0.2 charset-normalizer-2.0.10 dataframe-image-0.1.1 frozenlist-1.2.0 multidict-5.2.0 yarl-1.7.2\n"
     ]
    }
   ],
   "source": [
    "!pip install scikit-learn\n",
    "!pip install missingno\n",
    "!pip install dataframe_image"
   ]
  },
  {
   "cell_type": "code",
   "execution_count": 58,
   "id": "1e1bcf01",
   "metadata": {},
   "outputs": [],
   "source": [
    "import numpy as np\n",
    "import pandas as pd\n",
    "import matplotlib.pyplot as plt\n",
    "import seaborn as sns\n",
    "sns.set(style='darkgrid')\n",
    "import sklearn\n",
    "from sklearn.metrics import plot_confusion_matrix\n",
    "from sklearn.metrics import confusion_matrix,precision_score, recall_score, auc,roc_curve\n",
    "from sklearn.metrics import classification_report\n",
    "from scipy import stats\n",
    "import missingno as msno\n",
    "\n",
    "import dataframe_image as dfi\n",
    "%matplotlib inline"
   ]
  },
  {
   "cell_type": "code",
   "execution_count": 3,
   "id": "fae09c41",
   "metadata": {},
   "outputs": [],
   "source": [
    "# Validation methods\n",
    "from sklearn.model_selection import train_test_split, GridSearchCV\n",
    "from sklearn.model_selection import cross_val_score\n",
    "from sklearn.model_selection import cross_validate\n",
    "\n",
    "# Metrics\n",
    "from sklearn import metrics\n",
    "from sklearn.metrics import make_scorer\n",
    "from sklearn.metrics import accuracy_score\n",
    "from sklearn.metrics import confusion_matrix\n",
    "from sklearn.metrics import classification_report\n",
    "from sklearn.model_selection import learning_curve\n",
    "\n",
    "from sklearn.preprocessing import StandardScaler\n",
    "\n",
    "# Classifiers\n",
    "from sklearn.neighbors import KNeighborsClassifier\n",
    "from sklearn.ensemble import RandomForestClassifier\n",
    "from sklearn.tree import DecisionTreeClassifier\n",
    "from sklearn.svm import SVC\n",
    "from sklearn.ensemble import GradientBoostingClassifier\n",
    "from xgboost import XGBClassifier"
   ]
  },
  {
   "cell_type": "markdown",
   "id": "56448143",
   "metadata": {},
   "source": [
    "## Utility Functions (Important)"
   ]
  },
  {
   "cell_type": "code",
   "execution_count": 4,
   "id": "23377941",
   "metadata": {},
   "outputs": [],
   "source": [
    "def plot_confusion_matrix(y_test, y_pred, title):\n",
    "    \"\"\"\n",
    "    Confusion matrix to evaluate the accuracy of KNN\n",
    "    \"\"\"\n",
    "    #fig = plt.figure(figsize=(24, 16))\n",
    "    cm = confusion_matrix(y_test, y_pred)\n",
    "    sns.heatmap(cm, annot=True, fmt='d',cmap='RdYlBu',cbar=True)\n",
    "    plt.title(title)\n",
    "    plt.xlabel('Predicted', fontsize=15)\n",
    "    plt.ylabel('Actual', fontsize=15)\n",
    "    plt.tight_layout()\n",
    "    plt.show()"
   ]
  },
  {
   "cell_type": "code",
   "execution_count": 5,
   "id": "c395c4cc",
   "metadata": {},
   "outputs": [],
   "source": [
    "def plot_learning_curve(model, title, X, y, ylim=None, cv=5, n_jobs=4, \n",
    "                        train_sizes=np.linspace(0.1, 1.0, 10)):\n",
    "    \"\"\"\n",
    "    Draw the training and GridSearchCV testing learning curves\n",
    "    \"\"\"\n",
    "    plt.figure(figsize=(10, 7))\n",
    "    plt.title(title, fontsize=20)\n",
    "    if ylim is not None:\n",
    "        plt.ylim(*ylim)\n",
    "    plt.xlabel('Number of training samples', fontsize=15)\n",
    "    plt.ylabel('Score', fontsize=15)\n",
    "    plt.tick_params(labelsize=14)\n",
    "    \n",
    "    # Get training and test scores along with train_sizes\n",
    "    train_sizes, train_scores, test_scores = learning_curve(model, X, y, \n",
    "                                                            cv=cv, n_jobs=n_jobs,\n",
    "                                                            train_sizes=train_sizes)\n",
    "    \n",
    "    # Calculate mean and standard deviation of training and test data\n",
    "    train_scores_mean = np.mean(train_scores, axis=1)\n",
    "    train_scores_std = np.std(train_scores, axis=1)\n",
    "    test_scores_mean = np.mean(test_scores, axis=1)\n",
    "    test_scores_std = np.std(test_scores, axis=1)\n",
    "    plt.grid(color='gray',linestyle='-')\n",
    "    \n",
    "    # Plot the learning curves\n",
    "    plt.fill_between(train_sizes, \n",
    "                     train_scores_mean - train_scores_std,\n",
    "                     train_scores_mean + train_scores_std,\n",
    "                     alpha=0.1, color='r')\n",
    "    plt.fill_between(train_sizes,\n",
    "                     test_scores_mean - test_scores_std,\n",
    "                     test_scores_mean + test_scores_std,\n",
    "                     alpha=0.1, color='g')\n",
    "   \n",
    "    plt.plot(train_sizes, train_scores_mean, 'o-', color='r',\n",
    "             label='Training score')\n",
    "    plt.plot(train_sizes, test_scores_mean, 'o-', color='g',\n",
    "             label='Cross-validation score')\n",
    "    plt.legend(loc='best')\n",
    "    plt.tight_layout()\n",
    "    plt.show()\n",
    "    return plt"
   ]
  },
  {
   "cell_type": "code",
   "execution_count": 6,
   "id": "bbb54dcb",
   "metadata": {},
   "outputs": [],
   "source": [
    "def replace_missing(data):\n",
    "    '''\n",
    "    Filling missing values with median\n",
    "    '''\n",
    "    data = data.fillna(value=data.median(), inplace=True) # After replacing NaN with median"
   ]
  },
  {
   "cell_type": "code",
   "execution_count": 7,
   "id": "970a6c29",
   "metadata": {},
   "outputs": [],
   "source": [
    "def replace_S_chol(data):\n",
    "    '''\n",
    "    Filling 0 values with mean for Serum cholesterol & ST depression\n",
    "    '''\n",
    "    data[['Serum cholesterol','ST depression']]=data[['Serum cholesterol','ST depression']].replace(0, data[['Serum cholesterol','ST depression']].mean())"
   ]
  },
  {
   "cell_type": "code",
   "execution_count": 8,
   "id": "5b7c0a5d",
   "metadata": {},
   "outputs": [],
   "source": [
    "def trial():\n",
    "    for column in data.columns:\n",
    "        try:\n",
    "            data[column]=data[column].astype(int)\n",
    "        except:\n",
    "            data[column]=data[column].astype(float)\n",
    "        data = data.applymap(lambda x: np.NaN if x==-9 else x)"
   ]
  },
  {
   "cell_type": "code",
   "execution_count": 9,
   "id": "3066b568",
   "metadata": {},
   "outputs": [],
   "source": [
    "def duplicate(data):\n",
    "    '''\n",
    "    Checking 4 duplicates\n",
    "    '''\n",
    "    duplicated = data.duplicated().sum()\n",
    "    if duplicated:\n",
    "        print('Duplicate Rows in Dataset are : {}'.format(duplicated))\n",
    "    else:\n",
    "        print('Dataset contains no duplicate Values')"
   ]
  },
  {
   "cell_type": "markdown",
   "id": "2857183e",
   "metadata": {},
   "source": [
    "### Loading Dataset"
   ]
  },
  {
   "cell_type": "code",
   "execution_count": 10,
   "id": "c7b49f87",
   "metadata": {
    "scrolled": true
   },
   "outputs": [
    {
     "data": {
      "text/html": [
       "<div>\n",
       "<style scoped>\n",
       "    .dataframe tbody tr th:only-of-type {\n",
       "        vertical-align: middle;\n",
       "    }\n",
       "\n",
       "    .dataframe tbody tr th {\n",
       "        vertical-align: top;\n",
       "    }\n",
       "\n",
       "    .dataframe thead th {\n",
       "        text-align: right;\n",
       "    }\n",
       "</style>\n",
       "<table border=\"1\" class=\"dataframe\">\n",
       "  <thead>\n",
       "    <tr style=\"text-align: right;\">\n",
       "      <th></th>\n",
       "      <th>Age</th>\n",
       "      <th>Gender</th>\n",
       "      <th>Chest pain type</th>\n",
       "      <th>Resting blood pressure</th>\n",
       "      <th>Serum cholesterol</th>\n",
       "      <th>Fasting blood sugar</th>\n",
       "      <th>Resting electrocardiographic</th>\n",
       "      <th>Maximum heart rate</th>\n",
       "      <th>Exercise induced angina</th>\n",
       "      <th>ST depression</th>\n",
       "      <th>ST segment</th>\n",
       "      <th>Number of major vessels</th>\n",
       "      <th>Thal</th>\n",
       "      <th>class</th>\n",
       "    </tr>\n",
       "  </thead>\n",
       "  <tbody>\n",
       "    <tr>\n",
       "      <th>count</th>\n",
       "      <td>920.000000</td>\n",
       "      <td>920.000000</td>\n",
       "      <td>920.000000</td>\n",
       "      <td>861.000000</td>\n",
       "      <td>890.000000</td>\n",
       "      <td>830.000000</td>\n",
       "      <td>918.000000</td>\n",
       "      <td>865.000000</td>\n",
       "      <td>865.000000</td>\n",
       "      <td>858.000000</td>\n",
       "      <td>611.000000</td>\n",
       "      <td>309.000000</td>\n",
       "      <td>434.000000</td>\n",
       "      <td>920.000000</td>\n",
       "    </tr>\n",
       "    <tr>\n",
       "      <th>mean</th>\n",
       "      <td>53.510870</td>\n",
       "      <td>0.789130</td>\n",
       "      <td>3.250000</td>\n",
       "      <td>132.132404</td>\n",
       "      <td>199.130337</td>\n",
       "      <td>0.166265</td>\n",
       "      <td>0.604575</td>\n",
       "      <td>137.545665</td>\n",
       "      <td>0.389595</td>\n",
       "      <td>0.878788</td>\n",
       "      <td>1.770867</td>\n",
       "      <td>0.676375</td>\n",
       "      <td>5.087558</td>\n",
       "      <td>0.995652</td>\n",
       "    </tr>\n",
       "    <tr>\n",
       "      <th>std</th>\n",
       "      <td>9.424685</td>\n",
       "      <td>0.408148</td>\n",
       "      <td>0.930969</td>\n",
       "      <td>19.066070</td>\n",
       "      <td>110.780810</td>\n",
       "      <td>0.372543</td>\n",
       "      <td>0.805827</td>\n",
       "      <td>25.926276</td>\n",
       "      <td>0.487941</td>\n",
       "      <td>1.091226</td>\n",
       "      <td>0.619256</td>\n",
       "      <td>0.935653</td>\n",
       "      <td>1.919075</td>\n",
       "      <td>1.142693</td>\n",
       "    </tr>\n",
       "    <tr>\n",
       "      <th>min</th>\n",
       "      <td>28.000000</td>\n",
       "      <td>0.000000</td>\n",
       "      <td>1.000000</td>\n",
       "      <td>0.000000</td>\n",
       "      <td>0.000000</td>\n",
       "      <td>0.000000</td>\n",
       "      <td>0.000000</td>\n",
       "      <td>60.000000</td>\n",
       "      <td>0.000000</td>\n",
       "      <td>-2.600000</td>\n",
       "      <td>1.000000</td>\n",
       "      <td>0.000000</td>\n",
       "      <td>3.000000</td>\n",
       "      <td>0.000000</td>\n",
       "    </tr>\n",
       "    <tr>\n",
       "      <th>25%</th>\n",
       "      <td>47.000000</td>\n",
       "      <td>1.000000</td>\n",
       "      <td>3.000000</td>\n",
       "      <td>120.000000</td>\n",
       "      <td>175.000000</td>\n",
       "      <td>0.000000</td>\n",
       "      <td>0.000000</td>\n",
       "      <td>120.000000</td>\n",
       "      <td>0.000000</td>\n",
       "      <td>0.000000</td>\n",
       "      <td>1.000000</td>\n",
       "      <td>0.000000</td>\n",
       "      <td>3.000000</td>\n",
       "      <td>0.000000</td>\n",
       "    </tr>\n",
       "    <tr>\n",
       "      <th>50%</th>\n",
       "      <td>54.000000</td>\n",
       "      <td>1.000000</td>\n",
       "      <td>4.000000</td>\n",
       "      <td>130.000000</td>\n",
       "      <td>223.000000</td>\n",
       "      <td>0.000000</td>\n",
       "      <td>0.000000</td>\n",
       "      <td>140.000000</td>\n",
       "      <td>0.000000</td>\n",
       "      <td>0.500000</td>\n",
       "      <td>2.000000</td>\n",
       "      <td>0.000000</td>\n",
       "      <td>6.000000</td>\n",
       "      <td>1.000000</td>\n",
       "    </tr>\n",
       "    <tr>\n",
       "      <th>75%</th>\n",
       "      <td>60.000000</td>\n",
       "      <td>1.000000</td>\n",
       "      <td>4.000000</td>\n",
       "      <td>140.000000</td>\n",
       "      <td>268.000000</td>\n",
       "      <td>0.000000</td>\n",
       "      <td>1.000000</td>\n",
       "      <td>157.000000</td>\n",
       "      <td>1.000000</td>\n",
       "      <td>1.500000</td>\n",
       "      <td>2.000000</td>\n",
       "      <td>1.000000</td>\n",
       "      <td>7.000000</td>\n",
       "      <td>2.000000</td>\n",
       "    </tr>\n",
       "    <tr>\n",
       "      <th>max</th>\n",
       "      <td>77.000000</td>\n",
       "      <td>1.000000</td>\n",
       "      <td>4.000000</td>\n",
       "      <td>200.000000</td>\n",
       "      <td>603.000000</td>\n",
       "      <td>1.000000</td>\n",
       "      <td>2.000000</td>\n",
       "      <td>202.000000</td>\n",
       "      <td>1.000000</td>\n",
       "      <td>6.200000</td>\n",
       "      <td>3.000000</td>\n",
       "      <td>3.000000</td>\n",
       "      <td>7.000000</td>\n",
       "      <td>4.000000</td>\n",
       "    </tr>\n",
       "  </tbody>\n",
       "</table>\n",
       "</div>"
      ],
      "text/plain": [
       "              Age      Gender  Chest pain type  Resting blood pressure  \\\n",
       "count  920.000000  920.000000       920.000000              861.000000   \n",
       "mean    53.510870    0.789130         3.250000              132.132404   \n",
       "std      9.424685    0.408148         0.930969               19.066070   \n",
       "min     28.000000    0.000000         1.000000                0.000000   \n",
       "25%     47.000000    1.000000         3.000000              120.000000   \n",
       "50%     54.000000    1.000000         4.000000              130.000000   \n",
       "75%     60.000000    1.000000         4.000000              140.000000   \n",
       "max     77.000000    1.000000         4.000000              200.000000   \n",
       "\n",
       "       Serum cholesterol  Fasting blood sugar  Resting electrocardiographic  \\\n",
       "count         890.000000           830.000000                    918.000000   \n",
       "mean          199.130337             0.166265                      0.604575   \n",
       "std           110.780810             0.372543                      0.805827   \n",
       "min             0.000000             0.000000                      0.000000   \n",
       "25%           175.000000             0.000000                      0.000000   \n",
       "50%           223.000000             0.000000                      0.000000   \n",
       "75%           268.000000             0.000000                      1.000000   \n",
       "max           603.000000             1.000000                      2.000000   \n",
       "\n",
       "       Maximum heart rate  Exercise induced angina  ST depression  ST segment  \\\n",
       "count          865.000000               865.000000     858.000000  611.000000   \n",
       "mean           137.545665                 0.389595       0.878788    1.770867   \n",
       "std             25.926276                 0.487941       1.091226    0.619256   \n",
       "min             60.000000                 0.000000      -2.600000    1.000000   \n",
       "25%            120.000000                 0.000000       0.000000    1.000000   \n",
       "50%            140.000000                 0.000000       0.500000    2.000000   \n",
       "75%            157.000000                 1.000000       1.500000    2.000000   \n",
       "max            202.000000                 1.000000       6.200000    3.000000   \n",
       "\n",
       "       Number of major vessels        Thal       class  \n",
       "count               309.000000  434.000000  920.000000  \n",
       "mean                  0.676375    5.087558    0.995652  \n",
       "std                   0.935653    1.919075    1.142693  \n",
       "min                   0.000000    3.000000    0.000000  \n",
       "25%                   0.000000    3.000000    0.000000  \n",
       "50%                   0.000000    6.000000    1.000000  \n",
       "75%                   1.000000    7.000000    2.000000  \n",
       "max                   3.000000    7.000000    4.000000  "
      ]
     },
     "execution_count": 10,
     "metadata": {},
     "output_type": "execute_result"
    }
   ],
   "source": [
    "pd.pandas.set_option('display.max_columns',None)\n",
    "df = pd.read_csv('data/heart-disease.csv')\n",
    "data = df.copy()\n",
    "data.describe()"
   ]
  },
  {
   "cell_type": "code",
   "execution_count": 61,
   "id": "883c07f6",
   "metadata": {},
   "outputs": [
    {
     "ename": "AttributeError",
     "evalue": "'function' object has no attribute 'style'",
     "output_type": "error",
     "traceback": [
      "\u001b[1;31m---------------------------------------------------------------------------\u001b[0m",
      "\u001b[1;31mAttributeError\u001b[0m                            Traceback (most recent call last)",
      "\u001b[1;32m<ipython-input-61-c0f9e3d816ac>\u001b[0m in \u001b[0;36m<module>\u001b[1;34m\u001b[0m\n\u001b[1;32m----> 1\u001b[1;33m \u001b[0mdf_styled\u001b[0m \u001b[1;33m=\u001b[0m \u001b[0mdata\u001b[0m\u001b[1;33m.\u001b[0m\u001b[0mdescribe\u001b[0m\u001b[1;33m.\u001b[0m\u001b[0mstyle\u001b[0m\u001b[1;33m.\u001b[0m\u001b[0mbackground_gradient\u001b[0m\u001b[1;33m(\u001b[0m\u001b[1;33m)\u001b[0m \u001b[1;31m#adding a gradient based on values in cell\u001b[0m\u001b[1;33m\u001b[0m\u001b[1;33m\u001b[0m\u001b[0m\n\u001b[0m",
      "\u001b[1;31mAttributeError\u001b[0m: 'function' object has no attribute 'style'"
     ]
    }
   ],
   "source": [
    "df_styled = data.describe.style.background_gradient() #adding a gradient based on values in cell"
   ]
  },
  {
   "cell_type": "code",
   "execution_count": 62,
   "id": "eb3bb752",
   "metadata": {},
   "outputs": [
    {
     "ename": "ValueError",
     "evalue": "Your Styled DataFrame has more than 100 rows and will produce a huge image file, possibly causing your computer to crash. Override this error by explicitly setting `max_rows` to -1 for all columns. Styled DataFrames are unable to select a subset of rows or columns and therefore do not work with the `max_rows` and `max_cols` parameters",
     "output_type": "error",
     "traceback": [
      "\u001b[1;31m---------------------------------------------------------------------------\u001b[0m",
      "\u001b[1;31mValueError\u001b[0m                                Traceback (most recent call last)",
      "\u001b[1;32m<ipython-input-62-fdca309afa16>\u001b[0m in \u001b[0;36m<module>\u001b[1;34m\u001b[0m\n\u001b[1;32m----> 1\u001b[1;33m \u001b[0mdfi\u001b[0m\u001b[1;33m.\u001b[0m\u001b[0mexport\u001b[0m\u001b[1;33m(\u001b[0m\u001b[0mdf_styled\u001b[0m\u001b[1;33m,\u001b[0m\u001b[1;34m\"describe.png\"\u001b[0m\u001b[1;33m)\u001b[0m\u001b[1;33m\u001b[0m\u001b[1;33m\u001b[0m\u001b[0m\n\u001b[0m",
      "\u001b[1;32m~\\anaconda3\\lib\\site-packages\\dataframe_image\\_pandas_accessor.py\u001b[0m in \u001b[0;36mexport\u001b[1;34m(obj, filename, fontsize, max_rows, max_cols, table_conversion, chrome_path)\u001b[0m\n\u001b[0;32m     22\u001b[0m def export(obj, filename, fontsize=14, max_rows=None, max_cols=None, \n\u001b[0;32m     23\u001b[0m                table_conversion='chrome', chrome_path=None):\n\u001b[1;32m---> 24\u001b[1;33m         \u001b[1;32mreturn\u001b[0m \u001b[0m_export\u001b[0m\u001b[1;33m(\u001b[0m\u001b[0mobj\u001b[0m\u001b[1;33m,\u001b[0m \u001b[0mfilename\u001b[0m\u001b[1;33m,\u001b[0m \u001b[0mfontsize\u001b[0m\u001b[1;33m,\u001b[0m \u001b[0mmax_rows\u001b[0m\u001b[1;33m,\u001b[0m \u001b[0mmax_cols\u001b[0m\u001b[1;33m,\u001b[0m \u001b[0mtable_conversion\u001b[0m\u001b[1;33m,\u001b[0m \u001b[0mchrome_path\u001b[0m\u001b[1;33m)\u001b[0m\u001b[1;33m\u001b[0m\u001b[1;33m\u001b[0m\u001b[0m\n\u001b[0m\u001b[0;32m     25\u001b[0m \u001b[1;33m\u001b[0m\u001b[0m\n\u001b[0;32m     26\u001b[0m \u001b[1;33m\u001b[0m\u001b[0m\n",
      "\u001b[1;32m~\\anaconda3\\lib\\site-packages\\dataframe_image\\_pandas_accessor.py\u001b[0m in \u001b[0;36m_export\u001b[1;34m(obj, filename, fontsize, max_rows, max_cols, table_conversion, chrome_path)\u001b[0m\n\u001b[0;32m     46\u001b[0m                         \u001b[1;34m'Styled DataFrames are unable to select a subset of rows or columns '\u001b[0m\u001b[1;33m\u001b[0m\u001b[1;33m\u001b[0m\u001b[0m\n\u001b[0;32m     47\u001b[0m                         'and therefore do not work with the `max_rows` and `max_cols` parameters')\n\u001b[1;32m---> 48\u001b[1;33m         \u001b[1;32mraise\u001b[0m \u001b[0mValueError\u001b[0m\u001b[1;33m(\u001b[0m\u001b[0merror_msg\u001b[0m\u001b[1;33m)\u001b[0m\u001b[1;33m\u001b[0m\u001b[1;33m\u001b[0m\u001b[0m\n\u001b[0m\u001b[0;32m     49\u001b[0m     \u001b[1;32mif\u001b[0m \u001b[0mmax_rows\u001b[0m \u001b[1;33m==\u001b[0m \u001b[1;33m-\u001b[0m\u001b[1;36m1\u001b[0m\u001b[1;33m:\u001b[0m\u001b[1;33m\u001b[0m\u001b[1;33m\u001b[0m\u001b[0m\n\u001b[0;32m     50\u001b[0m         \u001b[0mmax_rows\u001b[0m \u001b[1;33m=\u001b[0m \u001b[1;32mNone\u001b[0m\u001b[1;33m\u001b[0m\u001b[1;33m\u001b[0m\u001b[0m\n",
      "\u001b[1;31mValueError\u001b[0m: Your Styled DataFrame has more than 100 rows and will produce a huge image file, possibly causing your computer to crash. Override this error by explicitly setting `max_rows` to -1 for all columns. Styled DataFrames are unable to select a subset of rows or columns and therefore do not work with the `max_rows` and `max_cols` parameters"
     ]
    }
   ],
   "source": [
    "dfi.export(df_styled,\"describe.png\")"
   ]
  },
  {
   "cell_type": "code",
   "execution_count": 11,
   "id": "4db87aa9",
   "metadata": {},
   "outputs": [
    {
     "data": {
      "text/plain": [
       "0    411\n",
       "1    265\n",
       "2    109\n",
       "3    107\n",
       "4     28\n",
       "Name: class, dtype: int64"
      ]
     },
     "execution_count": 11,
     "metadata": {},
     "output_type": "execute_result"
    }
   ],
   "source": [
    "data['class'].value_counts()"
   ]
  },
  {
   "cell_type": "markdown",
   "id": "a8c4fe19",
   "metadata": {},
   "source": [
    "## Data Cleaning"
   ]
  },
  {
   "cell_type": "markdown",
   "id": "41fbdf5a",
   "metadata": {},
   "source": [
    "### Missing Values\n",
    "Check for missing values and replace them"
   ]
  },
  {
   "cell_type": "code",
   "execution_count": 12,
   "id": "19afc4f1",
   "metadata": {
    "scrolled": true
   },
   "outputs": [
    {
     "data": {
      "text/plain": [
       "Text(0, 0.5, 'Proportion Filled')"
      ]
     },
     "execution_count": 12,
     "metadata": {},
     "output_type": "execute_result"
    },
    {
     "data": {
      "image/png": "[encoded data removed]",
      "text/plain": [
       "<Figure size 1800x720 with 3 Axes>"
      ]
     },
     "metadata": {
      "needs_background": "light"
     },
     "output_type": "display_data"
    }
   ],
   "source": [
    "# Bar Chart\n",
    "msno.bar(data)\n",
    "plt.title('Distribution of Missing Values')\n",
    "plt.ylabel('Proportion Filled')\n"
   ]
  },
  {
   "cell_type": "code",
   "execution_count": 13,
   "id": "fbf6c0b1",
   "metadata": {},
   "outputs": [
    {
     "data": {
      "text/plain": [
       "<AxesSubplot:>"
      ]
     },
     "execution_count": 13,
     "metadata": {},
     "output_type": "execute_result"
    },
    {
     "data": {
      "image/png": "[encoded data removed]",
      "text/plain": [
       "<Figure size 1800x720 with 2 Axes>"
      ]
     },
     "metadata": {
      "needs_background": "light"
     },
     "output_type": "display_data"
    }
   ],
   "source": [
    "# Matrix Chart\n",
    "msno.matrix(data)"
   ]
  },
  {
   "cell_type": "code",
   "execution_count": 14,
   "id": "f1e48fb1",
   "metadata": {},
   "outputs": [
    {
     "data": {
      "text/plain": [
       "<AxesSubplot:>"
      ]
     },
     "execution_count": 14,
     "metadata": {},
     "output_type": "execute_result"
    },
    {
     "data": {
      "image/png": "[encoded data removed]",
      "text/plain": [
       "<Figure size 1440x864 with 2 Axes>"
      ]
     },
     "metadata": {
      "needs_background": "light"
     },
     "output_type": "display_data"
    }
   ],
   "source": [
    "# Heatmap\n",
    "msno.heatmap(data)"
   ]
  },
  {
   "cell_type": "code",
   "execution_count": 15,
   "id": "9ab3c1b0",
   "metadata": {},
   "outputs": [
    {
     "data": {
      "text/plain": [
       "Age                               0\n",
       "Gender                            0\n",
       "Chest pain type                   0\n",
       "Resting blood pressure           59\n",
       "Serum cholesterol                30\n",
       "Fasting blood sugar              90\n",
       "Resting electrocardiographic      2\n",
       "Maximum heart rate               55\n",
       "Exercise induced angina          55\n",
       "ST depression                    62\n",
       "ST segment                      309\n",
       "Number of major vessels         611\n",
       "Thal                            486\n",
       "class                             0\n",
       "dtype: int64"
      ]
     },
     "execution_count": 15,
     "metadata": {},
     "output_type": "execute_result"
    }
   ],
   "source": [
    "data.isnull().sum()"
   ]
  },
  {
   "cell_type": "code",
   "execution_count": 16,
   "id": "1c3b6f88",
   "metadata": {
    "scrolled": true
   },
   "outputs": [
    {
     "data": {
      "text/html": [
       "<div>\n",
       "<style scoped>\n",
       "    .dataframe tbody tr th:only-of-type {\n",
       "        vertical-align: middle;\n",
       "    }\n",
       "\n",
       "    .dataframe tbody tr th {\n",
       "        vertical-align: top;\n",
       "    }\n",
       "\n",
       "    .dataframe thead th {\n",
       "        text-align: right;\n",
       "    }\n",
       "</style>\n",
       "<table border=\"1\" class=\"dataframe\">\n",
       "  <thead>\n",
       "    <tr style=\"text-align: right;\">\n",
       "      <th></th>\n",
       "      <th>Age</th>\n",
       "      <th>Gender</th>\n",
       "      <th>Chest pain type</th>\n",
       "      <th>Resting blood pressure</th>\n",
       "      <th>Serum cholesterol</th>\n",
       "      <th>Fasting blood sugar</th>\n",
       "      <th>Resting electrocardiographic</th>\n",
       "      <th>Maximum heart rate</th>\n",
       "      <th>Exercise induced angina</th>\n",
       "      <th>ST depression</th>\n",
       "      <th>ST segment</th>\n",
       "      <th>Number of major vessels</th>\n",
       "      <th>Thal</th>\n",
       "      <th>class</th>\n",
       "    </tr>\n",
       "  </thead>\n",
       "  <tbody>\n",
       "    <tr>\n",
       "      <th>0</th>\n",
       "      <td>63.0</td>\n",
       "      <td>1.0</td>\n",
       "      <td>4.0</td>\n",
       "      <td>140.0</td>\n",
       "      <td>260.0</td>\n",
       "      <td>0.0</td>\n",
       "      <td>1.0</td>\n",
       "      <td>112.0</td>\n",
       "      <td>1.0</td>\n",
       "      <td>3.0</td>\n",
       "      <td>2.0</td>\n",
       "      <td>NaN</td>\n",
       "      <td>NaN</td>\n",
       "      <td>2</td>\n",
       "    </tr>\n",
       "    <tr>\n",
       "      <th>1</th>\n",
       "      <td>44.0</td>\n",
       "      <td>1.0</td>\n",
       "      <td>4.0</td>\n",
       "      <td>130.0</td>\n",
       "      <td>209.0</td>\n",
       "      <td>0.0</td>\n",
       "      <td>1.0</td>\n",
       "      <td>127.0</td>\n",
       "      <td>0.0</td>\n",
       "      <td>0.0</td>\n",
       "      <td>NaN</td>\n",
       "      <td>NaN</td>\n",
       "      <td>NaN</td>\n",
       "      <td>0</td>\n",
       "    </tr>\n",
       "    <tr>\n",
       "      <th>2</th>\n",
       "      <td>60.0</td>\n",
       "      <td>1.0</td>\n",
       "      <td>4.0</td>\n",
       "      <td>132.0</td>\n",
       "      <td>218.0</td>\n",
       "      <td>0.0</td>\n",
       "      <td>1.0</td>\n",
       "      <td>140.0</td>\n",
       "      <td>1.0</td>\n",
       "      <td>1.5</td>\n",
       "      <td>3.0</td>\n",
       "      <td>NaN</td>\n",
       "      <td>NaN</td>\n",
       "      <td>2</td>\n",
       "    </tr>\n",
       "    <tr>\n",
       "      <th>3</th>\n",
       "      <td>55.0</td>\n",
       "      <td>1.0</td>\n",
       "      <td>4.0</td>\n",
       "      <td>142.0</td>\n",
       "      <td>228.0</td>\n",
       "      <td>0.0</td>\n",
       "      <td>1.0</td>\n",
       "      <td>149.0</td>\n",
       "      <td>1.0</td>\n",
       "      <td>2.5</td>\n",
       "      <td>1.0</td>\n",
       "      <td>NaN</td>\n",
       "      <td>NaN</td>\n",
       "      <td>1</td>\n",
       "    </tr>\n",
       "    <tr>\n",
       "      <th>4</th>\n",
       "      <td>66.0</td>\n",
       "      <td>1.0</td>\n",
       "      <td>3.0</td>\n",
       "      <td>110.0</td>\n",
       "      <td>213.0</td>\n",
       "      <td>1.0</td>\n",
       "      <td>2.0</td>\n",
       "      <td>99.0</td>\n",
       "      <td>1.0</td>\n",
       "      <td>1.3</td>\n",
       "      <td>2.0</td>\n",
       "      <td>NaN</td>\n",
       "      <td>NaN</td>\n",
       "      <td>0</td>\n",
       "    </tr>\n",
       "  </tbody>\n",
       "</table>\n",
       "</div>"
      ],
      "text/plain": [
       "    Age  Gender  Chest pain type  Resting blood pressure  Serum cholesterol  \\\n",
       "0  63.0     1.0              4.0                   140.0              260.0   \n",
       "1  44.0     1.0              4.0                   130.0              209.0   \n",
       "2  60.0     1.0              4.0                   132.0              218.0   \n",
       "3  55.0     1.0              4.0                   142.0              228.0   \n",
       "4  66.0     1.0              3.0                   110.0              213.0   \n",
       "\n",
       "   Fasting blood sugar  Resting electrocardiographic  Maximum heart rate  \\\n",
       "0                  0.0                           1.0               112.0   \n",
       "1                  0.0                           1.0               127.0   \n",
       "2                  0.0                           1.0               140.0   \n",
       "3                  0.0                           1.0               149.0   \n",
       "4                  1.0                           2.0                99.0   \n",
       "\n",
       "   Exercise induced angina  ST depression  ST segment  \\\n",
       "0                      1.0            3.0         2.0   \n",
       "1                      0.0            0.0         NaN   \n",
       "2                      1.0            1.5         3.0   \n",
       "3                      1.0            2.5         1.0   \n",
       "4                      1.0            1.3         2.0   \n",
       "\n",
       "   Number of major vessels  Thal  class  \n",
       "0                      NaN   NaN      2  \n",
       "1                      NaN   NaN      0  \n",
       "2                      NaN   NaN      2  \n",
       "3                      NaN   NaN      1  \n",
       "4                      NaN   NaN      0  "
      ]
     },
     "execution_count": 16,
     "metadata": {},
     "output_type": "execute_result"
    }
   ],
   "source": [
    "data.head()"
   ]
  },
  {
   "cell_type": "code",
   "execution_count": 17,
   "id": "aae2134a",
   "metadata": {},
   "outputs": [],
   "source": [
    "# Filling missing values with median\n",
    "replace_missing(data)\n",
    "\n",
    "# Filling 0 values with median/mean\n",
    "replace_S_chol(data)"
   ]
  },
  {
   "cell_type": "code",
   "execution_count": 18,
   "id": "488b6cde",
   "metadata": {},
   "outputs": [
    {
     "data": {
      "text/html": [
       "<div>\n",
       "<style scoped>\n",
       "    .dataframe tbody tr th:only-of-type {\n",
       "        vertical-align: middle;\n",
       "    }\n",
       "\n",
       "    .dataframe tbody tr th {\n",
       "        vertical-align: top;\n",
       "    }\n",
       "\n",
       "    .dataframe thead th {\n",
       "        text-align: right;\n",
       "    }\n",
       "</style>\n",
       "<table border=\"1\" class=\"dataframe\">\n",
       "  <thead>\n",
       "    <tr style=\"text-align: right;\">\n",
       "      <th></th>\n",
       "      <th>Age</th>\n",
       "      <th>Gender</th>\n",
       "      <th>Chest pain type</th>\n",
       "      <th>Resting blood pressure</th>\n",
       "      <th>Serum cholesterol</th>\n",
       "      <th>Fasting blood sugar</th>\n",
       "      <th>Resting electrocardiographic</th>\n",
       "      <th>Maximum heart rate</th>\n",
       "      <th>Exercise induced angina</th>\n",
       "      <th>ST depression</th>\n",
       "      <th>ST segment</th>\n",
       "      <th>Number of major vessels</th>\n",
       "      <th>Thal</th>\n",
       "      <th>class</th>\n",
       "    </tr>\n",
       "  </thead>\n",
       "  <tbody>\n",
       "    <tr>\n",
       "      <th>0</th>\n",
       "      <td>63.0</td>\n",
       "      <td>1.0</td>\n",
       "      <td>4.0</td>\n",
       "      <td>140.0</td>\n",
       "      <td>260.0</td>\n",
       "      <td>0.0</td>\n",
       "      <td>1.0</td>\n",
       "      <td>112.0</td>\n",
       "      <td>1.0</td>\n",
       "      <td>3.000000</td>\n",
       "      <td>2.0</td>\n",
       "      <td>0.0</td>\n",
       "      <td>6.0</td>\n",
       "      <td>2</td>\n",
       "    </tr>\n",
       "    <tr>\n",
       "      <th>1</th>\n",
       "      <td>44.0</td>\n",
       "      <td>1.0</td>\n",
       "      <td>4.0</td>\n",
       "      <td>130.0</td>\n",
       "      <td>209.0</td>\n",
       "      <td>0.0</td>\n",
       "      <td>1.0</td>\n",
       "      <td>127.0</td>\n",
       "      <td>0.0</td>\n",
       "      <td>0.853261</td>\n",
       "      <td>2.0</td>\n",
       "      <td>0.0</td>\n",
       "      <td>6.0</td>\n",
       "      <td>0</td>\n",
       "    </tr>\n",
       "    <tr>\n",
       "      <th>2</th>\n",
       "      <td>60.0</td>\n",
       "      <td>1.0</td>\n",
       "      <td>4.0</td>\n",
       "      <td>132.0</td>\n",
       "      <td>218.0</td>\n",
       "      <td>0.0</td>\n",
       "      <td>1.0</td>\n",
       "      <td>140.0</td>\n",
       "      <td>1.0</td>\n",
       "      <td>1.500000</td>\n",
       "      <td>3.0</td>\n",
       "      <td>0.0</td>\n",
       "      <td>6.0</td>\n",
       "      <td>2</td>\n",
       "    </tr>\n",
       "    <tr>\n",
       "      <th>3</th>\n",
       "      <td>55.0</td>\n",
       "      <td>1.0</td>\n",
       "      <td>4.0</td>\n",
       "      <td>142.0</td>\n",
       "      <td>228.0</td>\n",
       "      <td>0.0</td>\n",
       "      <td>1.0</td>\n",
       "      <td>149.0</td>\n",
       "      <td>1.0</td>\n",
       "      <td>2.500000</td>\n",
       "      <td>1.0</td>\n",
       "      <td>0.0</td>\n",
       "      <td>6.0</td>\n",
       "      <td>1</td>\n",
       "    </tr>\n",
       "    <tr>\n",
       "      <th>4</th>\n",
       "      <td>66.0</td>\n",
       "      <td>1.0</td>\n",
       "      <td>3.0</td>\n",
       "      <td>110.0</td>\n",
       "      <td>213.0</td>\n",
       "      <td>1.0</td>\n",
       "      <td>2.0</td>\n",
       "      <td>99.0</td>\n",
       "      <td>1.0</td>\n",
       "      <td>1.300000</td>\n",
       "      <td>2.0</td>\n",
       "      <td>0.0</td>\n",
       "      <td>6.0</td>\n",
       "      <td>0</td>\n",
       "    </tr>\n",
       "  </tbody>\n",
       "</table>\n",
       "</div>"
      ],
      "text/plain": [
       "    Age  Gender  Chest pain type  Resting blood pressure  Serum cholesterol  \\\n",
       "0  63.0     1.0              4.0                   140.0              260.0   \n",
       "1  44.0     1.0              4.0                   130.0              209.0   \n",
       "2  60.0     1.0              4.0                   132.0              218.0   \n",
       "3  55.0     1.0              4.0                   142.0              228.0   \n",
       "4  66.0     1.0              3.0                   110.0              213.0   \n",
       "\n",
       "   Fasting blood sugar  Resting electrocardiographic  Maximum heart rate  \\\n",
       "0                  0.0                           1.0               112.0   \n",
       "1                  0.0                           1.0               127.0   \n",
       "2                  0.0                           1.0               140.0   \n",
       "3                  0.0                           1.0               149.0   \n",
       "4                  1.0                           2.0                99.0   \n",
       "\n",
       "   Exercise induced angina  ST depression  ST segment  \\\n",
       "0                      1.0       3.000000         2.0   \n",
       "1                      0.0       0.853261         2.0   \n",
       "2                      1.0       1.500000         3.0   \n",
       "3                      1.0       2.500000         1.0   \n",
       "4                      1.0       1.300000         2.0   \n",
       "\n",
       "   Number of major vessels  Thal  class  \n",
       "0                      0.0   6.0      2  \n",
       "1                      0.0   6.0      0  \n",
       "2                      0.0   6.0      2  \n",
       "3                      0.0   6.0      1  \n",
       "4                      0.0   6.0      0  "
      ]
     },
     "execution_count": 18,
     "metadata": {},
     "output_type": "execute_result"
    }
   ],
   "source": [
    "data.head()"
   ]
  },
  {
   "cell_type": "code",
   "execution_count": 19,
   "id": "f83ee570",
   "metadata": {},
   "outputs": [
    {
     "data": {
      "text/plain": [
       "Age                             0\n",
       "Gender                          0\n",
       "Chest pain type                 0\n",
       "Resting blood pressure          0\n",
       "Serum cholesterol               0\n",
       "Fasting blood sugar             0\n",
       "Resting electrocardiographic    0\n",
       "Maximum heart rate              0\n",
       "Exercise induced angina         0\n",
       "ST depression                   0\n",
       "ST segment                      0\n",
       "Number of major vessels         0\n",
       "Thal                            0\n",
       "class                           0\n",
       "dtype: int64"
      ]
     },
     "execution_count": 19,
     "metadata": {},
     "output_type": "execute_result"
    }
   ],
   "source": [
    "data.isnull().sum()"
   ]
  },
  {
   "cell_type": "code",
   "execution_count": 20,
   "id": "6ed77c46",
   "metadata": {},
   "outputs": [
    {
     "data": {
      "text/html": [
       "<div>\n",
       "<style scoped>\n",
       "    .dataframe tbody tr th:only-of-type {\n",
       "        vertical-align: middle;\n",
       "    }\n",
       "\n",
       "    .dataframe tbody tr th {\n",
       "        vertical-align: top;\n",
       "    }\n",
       "\n",
       "    .dataframe thead th {\n",
       "        text-align: right;\n",
       "    }\n",
       "</style>\n",
       "<table border=\"1\" class=\"dataframe\">\n",
       "  <thead>\n",
       "    <tr style=\"text-align: right;\">\n",
       "      <th></th>\n",
       "      <th>Age</th>\n",
       "      <th>Gender</th>\n",
       "      <th>Chest pain type</th>\n",
       "      <th>Resting blood pressure</th>\n",
       "      <th>Serum cholesterol</th>\n",
       "      <th>Fasting blood sugar</th>\n",
       "      <th>Resting electrocardiographic</th>\n",
       "      <th>Maximum heart rate</th>\n",
       "      <th>Exercise induced angina</th>\n",
       "      <th>ST depression</th>\n",
       "      <th>ST segment</th>\n",
       "      <th>Number of major vessels</th>\n",
       "      <th>Thal</th>\n",
       "      <th>class</th>\n",
       "    </tr>\n",
       "  </thead>\n",
       "  <tbody>\n",
       "    <tr>\n",
       "      <th>0</th>\n",
       "      <td>63.0</td>\n",
       "      <td>1.0</td>\n",
       "      <td>4.0</td>\n",
       "      <td>140.0</td>\n",
       "      <td>260.000000</td>\n",
       "      <td>0.0</td>\n",
       "      <td>1.0</td>\n",
       "      <td>112.0</td>\n",
       "      <td>1.0</td>\n",
       "      <td>3.000000</td>\n",
       "      <td>2.0</td>\n",
       "      <td>0.0</td>\n",
       "      <td>6.0</td>\n",
       "      <td>2</td>\n",
       "    </tr>\n",
       "    <tr>\n",
       "      <th>1</th>\n",
       "      <td>44.0</td>\n",
       "      <td>1.0</td>\n",
       "      <td>4.0</td>\n",
       "      <td>130.0</td>\n",
       "      <td>209.000000</td>\n",
       "      <td>0.0</td>\n",
       "      <td>1.0</td>\n",
       "      <td>127.0</td>\n",
       "      <td>0.0</td>\n",
       "      <td>0.853261</td>\n",
       "      <td>2.0</td>\n",
       "      <td>0.0</td>\n",
       "      <td>6.0</td>\n",
       "      <td>0</td>\n",
       "    </tr>\n",
       "    <tr>\n",
       "      <th>2</th>\n",
       "      <td>60.0</td>\n",
       "      <td>1.0</td>\n",
       "      <td>4.0</td>\n",
       "      <td>132.0</td>\n",
       "      <td>218.000000</td>\n",
       "      <td>0.0</td>\n",
       "      <td>1.0</td>\n",
       "      <td>140.0</td>\n",
       "      <td>1.0</td>\n",
       "      <td>1.500000</td>\n",
       "      <td>3.0</td>\n",
       "      <td>0.0</td>\n",
       "      <td>6.0</td>\n",
       "      <td>2</td>\n",
       "    </tr>\n",
       "    <tr>\n",
       "      <th>3</th>\n",
       "      <td>55.0</td>\n",
       "      <td>1.0</td>\n",
       "      <td>4.0</td>\n",
       "      <td>142.0</td>\n",
       "      <td>228.000000</td>\n",
       "      <td>0.0</td>\n",
       "      <td>1.0</td>\n",
       "      <td>149.0</td>\n",
       "      <td>1.0</td>\n",
       "      <td>2.500000</td>\n",
       "      <td>1.0</td>\n",
       "      <td>0.0</td>\n",
       "      <td>6.0</td>\n",
       "      <td>1</td>\n",
       "    </tr>\n",
       "    <tr>\n",
       "      <th>4</th>\n",
       "      <td>66.0</td>\n",
       "      <td>1.0</td>\n",
       "      <td>3.0</td>\n",
       "      <td>110.0</td>\n",
       "      <td>213.000000</td>\n",
       "      <td>1.0</td>\n",
       "      <td>2.0</td>\n",
       "      <td>99.0</td>\n",
       "      <td>1.0</td>\n",
       "      <td>1.300000</td>\n",
       "      <td>2.0</td>\n",
       "      <td>0.0</td>\n",
       "      <td>6.0</td>\n",
       "      <td>0</td>\n",
       "    </tr>\n",
       "    <tr>\n",
       "      <th>5</th>\n",
       "      <td>66.0</td>\n",
       "      <td>1.0</td>\n",
       "      <td>3.0</td>\n",
       "      <td>120.0</td>\n",
       "      <td>199.908696</td>\n",
       "      <td>0.0</td>\n",
       "      <td>1.0</td>\n",
       "      <td>120.0</td>\n",
       "      <td>0.0</td>\n",
       "      <td>-0.500000</td>\n",
       "      <td>1.0</td>\n",
       "      <td>0.0</td>\n",
       "      <td>6.0</td>\n",
       "      <td>0</td>\n",
       "    </tr>\n",
       "    <tr>\n",
       "      <th>6</th>\n",
       "      <td>65.0</td>\n",
       "      <td>1.0</td>\n",
       "      <td>4.0</td>\n",
       "      <td>150.0</td>\n",
       "      <td>236.000000</td>\n",
       "      <td>1.0</td>\n",
       "      <td>1.0</td>\n",
       "      <td>105.0</td>\n",
       "      <td>1.0</td>\n",
       "      <td>0.853261</td>\n",
       "      <td>2.0</td>\n",
       "      <td>0.0</td>\n",
       "      <td>6.0</td>\n",
       "      <td>3</td>\n",
       "    </tr>\n",
       "    <tr>\n",
       "      <th>7</th>\n",
       "      <td>60.0</td>\n",
       "      <td>1.0</td>\n",
       "      <td>3.0</td>\n",
       "      <td>180.0</td>\n",
       "      <td>199.908696</td>\n",
       "      <td>0.0</td>\n",
       "      <td>1.0</td>\n",
       "      <td>140.0</td>\n",
       "      <td>1.0</td>\n",
       "      <td>1.500000</td>\n",
       "      <td>2.0</td>\n",
       "      <td>0.0</td>\n",
       "      <td>6.0</td>\n",
       "      <td>0</td>\n",
       "    </tr>\n",
       "    <tr>\n",
       "      <th>8</th>\n",
       "      <td>60.0</td>\n",
       "      <td>1.0</td>\n",
       "      <td>3.0</td>\n",
       "      <td>120.0</td>\n",
       "      <td>199.908696</td>\n",
       "      <td>0.0</td>\n",
       "      <td>0.0</td>\n",
       "      <td>141.0</td>\n",
       "      <td>1.0</td>\n",
       "      <td>2.000000</td>\n",
       "      <td>1.0</td>\n",
       "      <td>0.0</td>\n",
       "      <td>6.0</td>\n",
       "      <td>3</td>\n",
       "    </tr>\n",
       "    <tr>\n",
       "      <th>9</th>\n",
       "      <td>60.0</td>\n",
       "      <td>1.0</td>\n",
       "      <td>2.0</td>\n",
       "      <td>160.0</td>\n",
       "      <td>267.000000</td>\n",
       "      <td>1.0</td>\n",
       "      <td>1.0</td>\n",
       "      <td>157.0</td>\n",
       "      <td>0.0</td>\n",
       "      <td>0.500000</td>\n",
       "      <td>2.0</td>\n",
       "      <td>0.0</td>\n",
       "      <td>6.0</td>\n",
       "      <td>1</td>\n",
       "    </tr>\n",
       "    <tr>\n",
       "      <th>10</th>\n",
       "      <td>56.0</td>\n",
       "      <td>1.0</td>\n",
       "      <td>2.0</td>\n",
       "      <td>126.0</td>\n",
       "      <td>166.000000</td>\n",
       "      <td>0.0</td>\n",
       "      <td>1.0</td>\n",
       "      <td>140.0</td>\n",
       "      <td>0.0</td>\n",
       "      <td>0.853261</td>\n",
       "      <td>2.0</td>\n",
       "      <td>0.0</td>\n",
       "      <td>6.0</td>\n",
       "      <td>0</td>\n",
       "    </tr>\n",
       "    <tr>\n",
       "      <th>11</th>\n",
       "      <td>59.0</td>\n",
       "      <td>1.0</td>\n",
       "      <td>4.0</td>\n",
       "      <td>140.0</td>\n",
       "      <td>199.908696</td>\n",
       "      <td>0.0</td>\n",
       "      <td>1.0</td>\n",
       "      <td>117.0</td>\n",
       "      <td>1.0</td>\n",
       "      <td>1.000000</td>\n",
       "      <td>2.0</td>\n",
       "      <td>0.0</td>\n",
       "      <td>6.0</td>\n",
       "      <td>1</td>\n",
       "    </tr>\n",
       "    <tr>\n",
       "      <th>12</th>\n",
       "      <td>62.0</td>\n",
       "      <td>1.0</td>\n",
       "      <td>4.0</td>\n",
       "      <td>110.0</td>\n",
       "      <td>199.908696</td>\n",
       "      <td>0.0</td>\n",
       "      <td>0.0</td>\n",
       "      <td>120.0</td>\n",
       "      <td>1.0</td>\n",
       "      <td>0.500000</td>\n",
       "      <td>2.0</td>\n",
       "      <td>0.0</td>\n",
       "      <td>3.0</td>\n",
       "      <td>1</td>\n",
       "    </tr>\n",
       "    <tr>\n",
       "      <th>13</th>\n",
       "      <td>63.0</td>\n",
       "      <td>1.0</td>\n",
       "      <td>3.0</td>\n",
       "      <td>130.0</td>\n",
       "      <td>199.908696</td>\n",
       "      <td>0.0</td>\n",
       "      <td>2.0</td>\n",
       "      <td>140.0</td>\n",
       "      <td>0.0</td>\n",
       "      <td>0.500000</td>\n",
       "      <td>2.0</td>\n",
       "      <td>0.0</td>\n",
       "      <td>6.0</td>\n",
       "      <td>1</td>\n",
       "    </tr>\n",
       "    <tr>\n",
       "      <th>14</th>\n",
       "      <td>57.0</td>\n",
       "      <td>1.0</td>\n",
       "      <td>4.0</td>\n",
       "      <td>128.0</td>\n",
       "      <td>199.908696</td>\n",
       "      <td>1.0</td>\n",
       "      <td>1.0</td>\n",
       "      <td>148.0</td>\n",
       "      <td>1.0</td>\n",
       "      <td>1.000000</td>\n",
       "      <td>2.0</td>\n",
       "      <td>0.0</td>\n",
       "      <td>6.0</td>\n",
       "      <td>1</td>\n",
       "    </tr>\n",
       "    <tr>\n",
       "      <th>15</th>\n",
       "      <td>62.0</td>\n",
       "      <td>1.0</td>\n",
       "      <td>4.0</td>\n",
       "      <td>120.0</td>\n",
       "      <td>220.000000</td>\n",
       "      <td>0.0</td>\n",
       "      <td>1.0</td>\n",
       "      <td>86.0</td>\n",
       "      <td>0.0</td>\n",
       "      <td>0.853261</td>\n",
       "      <td>2.0</td>\n",
       "      <td>0.0</td>\n",
       "      <td>6.0</td>\n",
       "      <td>0</td>\n",
       "    </tr>\n",
       "    <tr>\n",
       "      <th>16</th>\n",
       "      <td>63.0</td>\n",
       "      <td>1.0</td>\n",
       "      <td>4.0</td>\n",
       "      <td>170.0</td>\n",
       "      <td>177.000000</td>\n",
       "      <td>0.0</td>\n",
       "      <td>0.0</td>\n",
       "      <td>84.0</td>\n",
       "      <td>1.0</td>\n",
       "      <td>2.500000</td>\n",
       "      <td>3.0</td>\n",
       "      <td>0.0</td>\n",
       "      <td>6.0</td>\n",
       "      <td>4</td>\n",
       "    </tr>\n",
       "    <tr>\n",
       "      <th>17</th>\n",
       "      <td>46.0</td>\n",
       "      <td>1.0</td>\n",
       "      <td>4.0</td>\n",
       "      <td>110.0</td>\n",
       "      <td>236.000000</td>\n",
       "      <td>0.0</td>\n",
       "      <td>0.0</td>\n",
       "      <td>125.0</td>\n",
       "      <td>1.0</td>\n",
       "      <td>2.000000</td>\n",
       "      <td>2.0</td>\n",
       "      <td>0.0</td>\n",
       "      <td>6.0</td>\n",
       "      <td>1</td>\n",
       "    </tr>\n",
       "    <tr>\n",
       "      <th>18</th>\n",
       "      <td>63.0</td>\n",
       "      <td>1.0</td>\n",
       "      <td>4.0</td>\n",
       "      <td>126.0</td>\n",
       "      <td>199.908696</td>\n",
       "      <td>0.0</td>\n",
       "      <td>1.0</td>\n",
       "      <td>120.0</td>\n",
       "      <td>0.0</td>\n",
       "      <td>1.500000</td>\n",
       "      <td>3.0</td>\n",
       "      <td>0.0</td>\n",
       "      <td>6.0</td>\n",
       "      <td>0</td>\n",
       "    </tr>\n",
       "    <tr>\n",
       "      <th>19</th>\n",
       "      <td>60.0</td>\n",
       "      <td>1.0</td>\n",
       "      <td>4.0</td>\n",
       "      <td>152.0</td>\n",
       "      <td>199.908696</td>\n",
       "      <td>0.0</td>\n",
       "      <td>1.0</td>\n",
       "      <td>118.0</td>\n",
       "      <td>1.0</td>\n",
       "      <td>0.853261</td>\n",
       "      <td>2.0</td>\n",
       "      <td>0.0</td>\n",
       "      <td>7.0</td>\n",
       "      <td>0</td>\n",
       "    </tr>\n",
       "  </tbody>\n",
       "</table>\n",
       "</div>"
      ],
      "text/plain": [
       "     Age  Gender  Chest pain type  Resting blood pressure  Serum cholesterol  \\\n",
       "0   63.0     1.0              4.0                   140.0         260.000000   \n",
       "1   44.0     1.0              4.0                   130.0         209.000000   \n",
       "2   60.0     1.0              4.0                   132.0         218.000000   \n",
       "3   55.0     1.0              4.0                   142.0         228.000000   \n",
       "4   66.0     1.0              3.0                   110.0         213.000000   \n",
       "5   66.0     1.0              3.0                   120.0         199.908696   \n",
       "6   65.0     1.0              4.0                   150.0         236.000000   \n",
       "7   60.0     1.0              3.0                   180.0         199.908696   \n",
       "8   60.0     1.0              3.0                   120.0         199.908696   \n",
       "9   60.0     1.0              2.0                   160.0         267.000000   \n",
       "10  56.0     1.0              2.0                   126.0         166.000000   \n",
       "11  59.0     1.0              4.0                   140.0         199.908696   \n",
       "12  62.0     1.0              4.0                   110.0         199.908696   \n",
       "13  63.0     1.0              3.0                   130.0         199.908696   \n",
       "14  57.0     1.0              4.0                   128.0         199.908696   \n",
       "15  62.0     1.0              4.0                   120.0         220.000000   \n",
       "16  63.0     1.0              4.0                   170.0         177.000000   \n",
       "17  46.0     1.0              4.0                   110.0         236.000000   \n",
       "18  63.0     1.0              4.0                   126.0         199.908696   \n",
       "19  60.0     1.0              4.0                   152.0         199.908696   \n",
       "\n",
       "    Fasting blood sugar  Resting electrocardiographic  Maximum heart rate  \\\n",
       "0                   0.0                           1.0               112.0   \n",
       "1                   0.0                           1.0               127.0   \n",
       "2                   0.0                           1.0               140.0   \n",
       "3                   0.0                           1.0               149.0   \n",
       "4                   1.0                           2.0                99.0   \n",
       "5                   0.0                           1.0               120.0   \n",
       "6                   1.0                           1.0               105.0   \n",
       "7                   0.0                           1.0               140.0   \n",
       "8                   0.0                           0.0               141.0   \n",
       "9                   1.0                           1.0               157.0   \n",
       "10                  0.0                           1.0               140.0   \n",
       "11                  0.0                           1.0               117.0   \n",
       "12                  0.0                           0.0               120.0   \n",
       "13                  0.0                           2.0               140.0   \n",
       "14                  1.0                           1.0               148.0   \n",
       "15                  0.0                           1.0                86.0   \n",
       "16                  0.0                           0.0                84.0   \n",
       "17                  0.0                           0.0               125.0   \n",
       "18                  0.0                           1.0               120.0   \n",
       "19                  0.0                           1.0               118.0   \n",
       "\n",
       "    Exercise induced angina  ST depression  ST segment  \\\n",
       "0                       1.0       3.000000         2.0   \n",
       "1                       0.0       0.853261         2.0   \n",
       "2                       1.0       1.500000         3.0   \n",
       "3                       1.0       2.500000         1.0   \n",
       "4                       1.0       1.300000         2.0   \n",
       "5                       0.0      -0.500000         1.0   \n",
       "6                       1.0       0.853261         2.0   \n",
       "7                       1.0       1.500000         2.0   \n",
       "8                       1.0       2.000000         1.0   \n",
       "9                       0.0       0.500000         2.0   \n",
       "10                      0.0       0.853261         2.0   \n",
       "11                      1.0       1.000000         2.0   \n",
       "12                      1.0       0.500000         2.0   \n",
       "13                      0.0       0.500000         2.0   \n",
       "14                      1.0       1.000000         2.0   \n",
       "15                      0.0       0.853261         2.0   \n",
       "16                      1.0       2.500000         3.0   \n",
       "17                      1.0       2.000000         2.0   \n",
       "18                      0.0       1.500000         3.0   \n",
       "19                      1.0       0.853261         2.0   \n",
       "\n",
       "    Number of major vessels  Thal  class  \n",
       "0                       0.0   6.0      2  \n",
       "1                       0.0   6.0      0  \n",
       "2                       0.0   6.0      2  \n",
       "3                       0.0   6.0      1  \n",
       "4                       0.0   6.0      0  \n",
       "5                       0.0   6.0      0  \n",
       "6                       0.0   6.0      3  \n",
       "7                       0.0   6.0      0  \n",
       "8                       0.0   6.0      3  \n",
       "9                       0.0   6.0      1  \n",
       "10                      0.0   6.0      0  \n",
       "11                      0.0   6.0      1  \n",
       "12                      0.0   3.0      1  \n",
       "13                      0.0   6.0      1  \n",
       "14                      0.0   6.0      1  \n",
       "15                      0.0   6.0      0  \n",
       "16                      0.0   6.0      4  \n",
       "17                      0.0   6.0      1  \n",
       "18                      0.0   6.0      0  \n",
       "19                      0.0   7.0      0  "
      ]
     },
     "execution_count": 20,
     "metadata": {},
     "output_type": "execute_result"
    }
   ],
   "source": [
    "data.head(20)"
   ]
  },
  {
   "cell_type": "markdown",
   "id": "6d563242",
   "metadata": {},
   "source": [
    "### Duplicates\n",
    "Check for duplicate rows"
   ]
  },
  {
   "cell_type": "code",
   "execution_count": 21,
   "id": "0a8044bd",
   "metadata": {},
   "outputs": [
    {
     "name": "stdout",
     "output_type": "stream",
     "text": [
      "Duplicate Rows in Dataset are : 2\n"
     ]
    }
   ],
   "source": [
    "duplicate(data)"
   ]
  },
  {
   "cell_type": "code",
   "execution_count": 22,
   "id": "b626de76",
   "metadata": {},
   "outputs": [
    {
     "data": {
      "text/html": [
       "<div>\n",
       "<style scoped>\n",
       "    .dataframe tbody tr th:only-of-type {\n",
       "        vertical-align: middle;\n",
       "    }\n",
       "\n",
       "    .dataframe tbody tr th {\n",
       "        vertical-align: top;\n",
       "    }\n",
       "\n",
       "    .dataframe thead th {\n",
       "        text-align: right;\n",
       "    }\n",
       "</style>\n",
       "<table border=\"1\" class=\"dataframe\">\n",
       "  <thead>\n",
       "    <tr style=\"text-align: right;\">\n",
       "      <th></th>\n",
       "      <th>Age</th>\n",
       "      <th>Gender</th>\n",
       "      <th>Chest pain type</th>\n",
       "      <th>Resting blood pressure</th>\n",
       "      <th>Serum cholesterol</th>\n",
       "      <th>Fasting blood sugar</th>\n",
       "      <th>Resting electrocardiographic</th>\n",
       "      <th>Maximum heart rate</th>\n",
       "      <th>Exercise induced angina</th>\n",
       "      <th>ST depression</th>\n",
       "      <th>ST segment</th>\n",
       "      <th>Number of major vessels</th>\n",
       "      <th>Thal</th>\n",
       "      <th>class</th>\n",
       "    </tr>\n",
       "  </thead>\n",
       "  <tbody>\n",
       "    <tr>\n",
       "      <th>139</th>\n",
       "      <td>58.0</td>\n",
       "      <td>1.0</td>\n",
       "      <td>3.0</td>\n",
       "      <td>150.0</td>\n",
       "      <td>219.0</td>\n",
       "      <td>0.0</td>\n",
       "      <td>1.0</td>\n",
       "      <td>118.0</td>\n",
       "      <td>1.0</td>\n",
       "      <td>0.853261</td>\n",
       "      <td>2.0</td>\n",
       "      <td>0.0</td>\n",
       "      <td>6.0</td>\n",
       "      <td>2</td>\n",
       "    </tr>\n",
       "    <tr>\n",
       "      <th>187</th>\n",
       "      <td>58.0</td>\n",
       "      <td>1.0</td>\n",
       "      <td>3.0</td>\n",
       "      <td>150.0</td>\n",
       "      <td>219.0</td>\n",
       "      <td>0.0</td>\n",
       "      <td>1.0</td>\n",
       "      <td>118.0</td>\n",
       "      <td>1.0</td>\n",
       "      <td>0.853261</td>\n",
       "      <td>2.0</td>\n",
       "      <td>0.0</td>\n",
       "      <td>6.0</td>\n",
       "      <td>2</td>\n",
       "    </tr>\n",
       "    <tr>\n",
       "      <th>604</th>\n",
       "      <td>49.0</td>\n",
       "      <td>0.0</td>\n",
       "      <td>2.0</td>\n",
       "      <td>110.0</td>\n",
       "      <td>223.0</td>\n",
       "      <td>0.0</td>\n",
       "      <td>0.0</td>\n",
       "      <td>160.0</td>\n",
       "      <td>0.0</td>\n",
       "      <td>0.853261</td>\n",
       "      <td>2.0</td>\n",
       "      <td>0.0</td>\n",
       "      <td>6.0</td>\n",
       "      <td>0</td>\n",
       "    </tr>\n",
       "    <tr>\n",
       "      <th>605</th>\n",
       "      <td>49.0</td>\n",
       "      <td>0.0</td>\n",
       "      <td>2.0</td>\n",
       "      <td>110.0</td>\n",
       "      <td>223.0</td>\n",
       "      <td>0.0</td>\n",
       "      <td>0.0</td>\n",
       "      <td>160.0</td>\n",
       "      <td>0.0</td>\n",
       "      <td>0.853261</td>\n",
       "      <td>2.0</td>\n",
       "      <td>0.0</td>\n",
       "      <td>6.0</td>\n",
       "      <td>0</td>\n",
       "    </tr>\n",
       "  </tbody>\n",
       "</table>\n",
       "</div>"
      ],
      "text/plain": [
       "      Age  Gender  Chest pain type  Resting blood pressure  Serum cholesterol  \\\n",
       "139  58.0     1.0              3.0                   150.0              219.0   \n",
       "187  58.0     1.0              3.0                   150.0              219.0   \n",
       "604  49.0     0.0              2.0                   110.0              223.0   \n",
       "605  49.0     0.0              2.0                   110.0              223.0   \n",
       "\n",
       "     Fasting blood sugar  Resting electrocardiographic  Maximum heart rate  \\\n",
       "139                  0.0                           1.0               118.0   \n",
       "187                  0.0                           1.0               118.0   \n",
       "604                  0.0                           0.0               160.0   \n",
       "605                  0.0                           0.0               160.0   \n",
       "\n",
       "     Exercise induced angina  ST depression  ST segment  \\\n",
       "139                      1.0       0.853261         2.0   \n",
       "187                      1.0       0.853261         2.0   \n",
       "604                      0.0       0.853261         2.0   \n",
       "605                      0.0       0.853261         2.0   \n",
       "\n",
       "     Number of major vessels  Thal  class  \n",
       "139                      0.0   6.0      2  \n",
       "187                      0.0   6.0      2  \n",
       "604                      0.0   6.0      0  \n",
       "605                      0.0   6.0      0  "
      ]
     },
     "execution_count": 22,
     "metadata": {},
     "output_type": "execute_result"
    }
   ],
   "source": [
    "duplicated = data[data.duplicated(keep=False)]\n",
    "duplicated.head()"
   ]
  },
  {
   "cell_type": "code",
   "execution_count": 23,
   "id": "90afcb16",
   "metadata": {},
   "outputs": [],
   "source": [
    "# drop duplicate rows\n",
    "data.drop_duplicates(inplace=True)"
   ]
  },
  {
   "cell_type": "code",
   "execution_count": 24,
   "id": "75b2b652",
   "metadata": {},
   "outputs": [
    {
     "name": "stdout",
     "output_type": "stream",
     "text": [
      "Dataset contains no duplicate Values\n"
     ]
    }
   ],
   "source": [
    "duplicate(data)"
   ]
  },
  {
   "cell_type": "code",
   "execution_count": 25,
   "id": "f5a2199c",
   "metadata": {},
   "outputs": [
    {
     "data": {
      "text/html": [
       "<div>\n",
       "<style scoped>\n",
       "    .dataframe tbody tr th:only-of-type {\n",
       "        vertical-align: middle;\n",
       "    }\n",
       "\n",
       "    .dataframe tbody tr th {\n",
       "        vertical-align: top;\n",
       "    }\n",
       "\n",
       "    .dataframe thead th {\n",
       "        text-align: right;\n",
       "    }\n",
       "</style>\n",
       "<table border=\"1\" class=\"dataframe\">\n",
       "  <thead>\n",
       "    <tr style=\"text-align: right;\">\n",
       "      <th></th>\n",
       "      <th>Age</th>\n",
       "      <th>Gender</th>\n",
       "      <th>Chest pain type</th>\n",
       "      <th>Resting blood pressure</th>\n",
       "      <th>Serum cholesterol</th>\n",
       "      <th>Fasting blood sugar</th>\n",
       "      <th>Resting electrocardiographic</th>\n",
       "      <th>Maximum heart rate</th>\n",
       "      <th>Exercise induced angina</th>\n",
       "      <th>ST depression</th>\n",
       "      <th>ST segment</th>\n",
       "      <th>Number of major vessels</th>\n",
       "      <th>Thal</th>\n",
       "      <th>class</th>\n",
       "    </tr>\n",
       "  </thead>\n",
       "  <tbody>\n",
       "    <tr>\n",
       "      <th>139</th>\n",
       "      <td>58.0</td>\n",
       "      <td>1.0</td>\n",
       "      <td>3.0</td>\n",
       "      <td>150.0</td>\n",
       "      <td>219.0</td>\n",
       "      <td>0.0</td>\n",
       "      <td>1.0</td>\n",
       "      <td>118.0</td>\n",
       "      <td>1.0</td>\n",
       "      <td>0.853261</td>\n",
       "      <td>2.0</td>\n",
       "      <td>0.0</td>\n",
       "      <td>6.0</td>\n",
       "      <td>2</td>\n",
       "    </tr>\n",
       "    <tr>\n",
       "      <th>187</th>\n",
       "      <td>58.0</td>\n",
       "      <td>1.0</td>\n",
       "      <td>3.0</td>\n",
       "      <td>150.0</td>\n",
       "      <td>219.0</td>\n",
       "      <td>0.0</td>\n",
       "      <td>1.0</td>\n",
       "      <td>118.0</td>\n",
       "      <td>1.0</td>\n",
       "      <td>0.853261</td>\n",
       "      <td>2.0</td>\n",
       "      <td>0.0</td>\n",
       "      <td>6.0</td>\n",
       "      <td>2</td>\n",
       "    </tr>\n",
       "    <tr>\n",
       "      <th>604</th>\n",
       "      <td>49.0</td>\n",
       "      <td>0.0</td>\n",
       "      <td>2.0</td>\n",
       "      <td>110.0</td>\n",
       "      <td>223.0</td>\n",
       "      <td>0.0</td>\n",
       "      <td>0.0</td>\n",
       "      <td>160.0</td>\n",
       "      <td>0.0</td>\n",
       "      <td>0.853261</td>\n",
       "      <td>2.0</td>\n",
       "      <td>0.0</td>\n",
       "      <td>6.0</td>\n",
       "      <td>0</td>\n",
       "    </tr>\n",
       "    <tr>\n",
       "      <th>605</th>\n",
       "      <td>49.0</td>\n",
       "      <td>0.0</td>\n",
       "      <td>2.0</td>\n",
       "      <td>110.0</td>\n",
       "      <td>223.0</td>\n",
       "      <td>0.0</td>\n",
       "      <td>0.0</td>\n",
       "      <td>160.0</td>\n",
       "      <td>0.0</td>\n",
       "      <td>0.853261</td>\n",
       "      <td>2.0</td>\n",
       "      <td>0.0</td>\n",
       "      <td>6.0</td>\n",
       "      <td>0</td>\n",
       "    </tr>\n",
       "  </tbody>\n",
       "</table>\n",
       "</div>"
      ],
      "text/plain": [
       "      Age  Gender  Chest pain type  Resting blood pressure  Serum cholesterol  \\\n",
       "139  58.0     1.0              3.0                   150.0              219.0   \n",
       "187  58.0     1.0              3.0                   150.0              219.0   \n",
       "604  49.0     0.0              2.0                   110.0              223.0   \n",
       "605  49.0     0.0              2.0                   110.0              223.0   \n",
       "\n",
       "     Fasting blood sugar  Resting electrocardiographic  Maximum heart rate  \\\n",
       "139                  0.0                           1.0               118.0   \n",
       "187                  0.0                           1.0               118.0   \n",
       "604                  0.0                           0.0               160.0   \n",
       "605                  0.0                           0.0               160.0   \n",
       "\n",
       "     Exercise induced angina  ST depression  ST segment  \\\n",
       "139                      1.0       0.853261         2.0   \n",
       "187                      1.0       0.853261         2.0   \n",
       "604                      0.0       0.853261         2.0   \n",
       "605                      0.0       0.853261         2.0   \n",
       "\n",
       "     Number of major vessels  Thal  class  \n",
       "139                      0.0   6.0      2  \n",
       "187                      0.0   6.0      2  \n",
       "604                      0.0   6.0      0  \n",
       "605                      0.0   6.0      0  "
      ]
     },
     "execution_count": 25,
     "metadata": {},
     "output_type": "execute_result"
    }
   ],
   "source": [
    "duplicated.head()"
   ]
  },
  {
   "cell_type": "markdown",
   "id": "def8b3eb",
   "metadata": {},
   "source": [
    "### Outliers"
   ]
  },
  {
   "cell_type": "code",
   "execution_count": 26,
   "id": "8879414e",
   "metadata": {},
   "outputs": [
    {
     "data": {
      "text/html": [
       "<div>\n",
       "<style scoped>\n",
       "    .dataframe tbody tr th:only-of-type {\n",
       "        vertical-align: middle;\n",
       "    }\n",
       "\n",
       "    .dataframe tbody tr th {\n",
       "        vertical-align: top;\n",
       "    }\n",
       "\n",
       "    .dataframe thead th {\n",
       "        text-align: right;\n",
       "    }\n",
       "</style>\n",
       "<table border=\"1\" class=\"dataframe\">\n",
       "  <thead>\n",
       "    <tr style=\"text-align: right;\">\n",
       "      <th></th>\n",
       "      <th>Age</th>\n",
       "      <th>Gender</th>\n",
       "      <th>Chest pain type</th>\n",
       "      <th>Resting blood pressure</th>\n",
       "      <th>Serum cholesterol</th>\n",
       "      <th>Fasting blood sugar</th>\n",
       "      <th>Resting electrocardiographic</th>\n",
       "      <th>Maximum heart rate</th>\n",
       "      <th>Exercise induced angina</th>\n",
       "      <th>ST depression</th>\n",
       "      <th>ST segment</th>\n",
       "      <th>Number of major vessels</th>\n",
       "      <th>Thal</th>\n",
       "      <th>class</th>\n",
       "    </tr>\n",
       "  </thead>\n",
       "  <tbody>\n",
       "    <tr>\n",
       "      <th>0</th>\n",
       "      <td>1.006537</td>\n",
       "      <td>0.515952</td>\n",
       "      <td>0.804242</td>\n",
       "      <td>0.433898</td>\n",
       "      <td>0.413108</td>\n",
       "      <td>-0.420622</td>\n",
       "      <td>0.492241</td>\n",
       "      <td>-1.021869</td>\n",
       "      <td>1.316109</td>\n",
       "      <td>2.141118</td>\n",
       "      <td>0.295417</td>\n",
       "      <td>-0.361845</td>\n",
       "      <td>0.309338</td>\n",
       "      <td>0.879193</td>\n",
       "    </tr>\n",
       "    <tr>\n",
       "      <th>1</th>\n",
       "      <td>-1.008848</td>\n",
       "      <td>0.515952</td>\n",
       "      <td>0.804242</td>\n",
       "      <td>-0.108475</td>\n",
       "      <td>-0.515773</td>\n",
       "      <td>-0.420622</td>\n",
       "      <td>0.492241</td>\n",
       "      <td>-0.425205</td>\n",
       "      <td>-0.759815</td>\n",
       "      <td>-0.408438</td>\n",
       "      <td>0.295417</td>\n",
       "      <td>-0.361845</td>\n",
       "      <td>0.309338</td>\n",
       "      <td>-0.871565</td>\n",
       "    </tr>\n",
       "    <tr>\n",
       "      <th>2</th>\n",
       "      <td>0.688318</td>\n",
       "      <td>0.515952</td>\n",
       "      <td>0.804242</td>\n",
       "      <td>0.000000</td>\n",
       "      <td>-0.351853</td>\n",
       "      <td>-0.420622</td>\n",
       "      <td>0.492241</td>\n",
       "      <td>0.091905</td>\n",
       "      <td>1.316109</td>\n",
       "      <td>0.359656</td>\n",
       "      <td>2.232505</td>\n",
       "      <td>-0.361845</td>\n",
       "      <td>0.309338</td>\n",
       "      <td>0.879193</td>\n",
       "    </tr>\n",
       "    <tr>\n",
       "      <th>3</th>\n",
       "      <td>0.157954</td>\n",
       "      <td>0.515952</td>\n",
       "      <td>0.804242</td>\n",
       "      <td>0.542373</td>\n",
       "      <td>-0.169719</td>\n",
       "      <td>-0.420622</td>\n",
       "      <td>0.492241</td>\n",
       "      <td>0.449903</td>\n",
       "      <td>1.316109</td>\n",
       "      <td>1.547298</td>\n",
       "      <td>-1.641672</td>\n",
       "      <td>-0.361845</td>\n",
       "      <td>0.309338</td>\n",
       "      <td>0.003814</td>\n",
       "    </tr>\n",
       "    <tr>\n",
       "      <th>4</th>\n",
       "      <td>1.324756</td>\n",
       "      <td>0.515952</td>\n",
       "      <td>-0.270422</td>\n",
       "      <td>-1.193221</td>\n",
       "      <td>-0.442920</td>\n",
       "      <td>2.377430</td>\n",
       "      <td>1.733661</td>\n",
       "      <td>-1.538979</td>\n",
       "      <td>1.316109</td>\n",
       "      <td>0.122128</td>\n",
       "      <td>0.295417</td>\n",
       "      <td>-0.361845</td>\n",
       "      <td>0.309338</td>\n",
       "      <td>-0.871565</td>\n",
       "    </tr>\n",
       "    <tr>\n",
       "      <th>...</th>\n",
       "      <td>...</td>\n",
       "      <td>...</td>\n",
       "      <td>...</td>\n",
       "      <td>...</td>\n",
       "      <td>...</td>\n",
       "      <td>...</td>\n",
       "      <td>...</td>\n",
       "      <td>...</td>\n",
       "      <td>...</td>\n",
       "      <td>...</td>\n",
       "      <td>...</td>\n",
       "      <td>...</td>\n",
       "      <td>...</td>\n",
       "      <td>...</td>\n",
       "    </tr>\n",
       "    <tr>\n",
       "      <th>915</th>\n",
       "      <td>1.749048</td>\n",
       "      <td>0.515952</td>\n",
       "      <td>0.804242</td>\n",
       "      <td>-0.922034</td>\n",
       "      <td>-0.681356</td>\n",
       "      <td>-0.420622</td>\n",
       "      <td>0.492241</td>\n",
       "      <td>-1.817422</td>\n",
       "      <td>1.316109</td>\n",
       "      <td>-0.408438</td>\n",
       "      <td>0.295417</td>\n",
       "      <td>-0.361845</td>\n",
       "      <td>1.026440</td>\n",
       "      <td>0.003814</td>\n",
       "    </tr>\n",
       "    <tr>\n",
       "      <th>916</th>\n",
       "      <td>1.749048</td>\n",
       "      <td>0.515952</td>\n",
       "      <td>0.804242</td>\n",
       "      <td>0.433898</td>\n",
       "      <td>-0.681356</td>\n",
       "      <td>2.377430</td>\n",
       "      <td>-0.749180</td>\n",
       "      <td>0.768124</td>\n",
       "      <td>1.316109</td>\n",
       "      <td>0.953477</td>\n",
       "      <td>0.295417</td>\n",
       "      <td>-0.361845</td>\n",
       "      <td>1.026440</td>\n",
       "      <td>1.754572</td>\n",
       "    </tr>\n",
       "    <tr>\n",
       "      <th>917</th>\n",
       "      <td>1.961193</td>\n",
       "      <td>0.515952</td>\n",
       "      <td>-0.270422</td>\n",
       "      <td>1.518645</td>\n",
       "      <td>-0.681356</td>\n",
       "      <td>-0.420622</td>\n",
       "      <td>1.733661</td>\n",
       "      <td>-0.942314</td>\n",
       "      <td>-0.759815</td>\n",
       "      <td>0.478420</td>\n",
       "      <td>0.295417</td>\n",
       "      <td>2.816848</td>\n",
       "      <td>0.309338</td>\n",
       "      <td>-0.871565</td>\n",
       "    </tr>\n",
       "    <tr>\n",
       "      <th>918</th>\n",
       "      <td>2.067266</td>\n",
       "      <td>-1.938163</td>\n",
       "      <td>-0.270422</td>\n",
       "      <td>1.518645</td>\n",
       "      <td>-0.681356</td>\n",
       "      <td>-0.420622</td>\n",
       "      <td>0.492241</td>\n",
       "      <td>-0.663871</td>\n",
       "      <td>-0.759815</td>\n",
       "      <td>-0.408438</td>\n",
       "      <td>-1.641672</td>\n",
       "      <td>-0.361845</td>\n",
       "      <td>-1.841967</td>\n",
       "      <td>0.003814</td>\n",
       "    </tr>\n",
       "    <tr>\n",
       "      <th>919</th>\n",
       "      <td>2.173339</td>\n",
       "      <td>0.515952</td>\n",
       "      <td>-1.345086</td>\n",
       "      <td>0.705085</td>\n",
       "      <td>-0.681356</td>\n",
       "      <td>-0.420622</td>\n",
       "      <td>0.492241</td>\n",
       "      <td>-0.584315</td>\n",
       "      <td>-0.759815</td>\n",
       "      <td>0.122128</td>\n",
       "      <td>-1.641672</td>\n",
       "      <td>-0.361845</td>\n",
       "      <td>0.309338</td>\n",
       "      <td>0.003814</td>\n",
       "    </tr>\n",
       "  </tbody>\n",
       "</table>\n",
       "<p>918 rows × 14 columns</p>\n",
       "</div>"
      ],
      "text/plain": [
       "          Age    Gender  Chest pain type  Resting blood pressure  \\\n",
       "0    1.006537  0.515952         0.804242                0.433898   \n",
       "1   -1.008848  0.515952         0.804242               -0.108475   \n",
       "2    0.688318  0.515952         0.804242                0.000000   \n",
       "3    0.157954  0.515952         0.804242                0.542373   \n",
       "4    1.324756  0.515952        -0.270422               -1.193221   \n",
       "..        ...       ...              ...                     ...   \n",
       "915  1.749048  0.515952         0.804242               -0.922034   \n",
       "916  1.749048  0.515952         0.804242                0.433898   \n",
       "917  1.961193  0.515952        -0.270422                1.518645   \n",
       "918  2.067266 -1.938163        -0.270422                1.518645   \n",
       "919  2.173339  0.515952        -1.345086                0.705085   \n",
       "\n",
       "     Serum cholesterol  Fasting blood sugar  Resting electrocardiographic  \\\n",
       "0             0.413108            -0.420622                      0.492241   \n",
       "1            -0.515773            -0.420622                      0.492241   \n",
       "2            -0.351853            -0.420622                      0.492241   \n",
       "3            -0.169719            -0.420622                      0.492241   \n",
       "4            -0.442920             2.377430                      1.733661   \n",
       "..                 ...                  ...                           ...   \n",
       "915          -0.681356            -0.420622                      0.492241   \n",
       "916          -0.681356             2.377430                     -0.749180   \n",
       "917          -0.681356            -0.420622                      1.733661   \n",
       "918          -0.681356            -0.420622                      0.492241   \n",
       "919          -0.681356            -0.420622                      0.492241   \n",
       "\n",
       "     Maximum heart rate  Exercise induced angina  ST depression  ST segment  \\\n",
       "0             -1.021869                 1.316109       2.141118    0.295417   \n",
       "1             -0.425205                -0.759815      -0.408438    0.295417   \n",
       "2              0.091905                 1.316109       0.359656    2.232505   \n",
       "3              0.449903                 1.316109       1.547298   -1.641672   \n",
       "4             -1.538979                 1.316109       0.122128    0.295417   \n",
       "..                  ...                      ...            ...         ...   \n",
       "915           -1.817422                 1.316109      -0.408438    0.295417   \n",
       "916            0.768124                 1.316109       0.953477    0.295417   \n",
       "917           -0.942314                -0.759815       0.478420    0.295417   \n",
       "918           -0.663871                -0.759815      -0.408438   -1.641672   \n",
       "919           -0.584315                -0.759815       0.122128   -1.641672   \n",
       "\n",
       "     Number of major vessels      Thal     class  \n",
       "0                  -0.361845  0.309338  0.879193  \n",
       "1                  -0.361845  0.309338 -0.871565  \n",
       "2                  -0.361845  0.309338  0.879193  \n",
       "3                  -0.361845  0.309338  0.003814  \n",
       "4                  -0.361845  0.309338 -0.871565  \n",
       "..                       ...       ...       ...  \n",
       "915                -0.361845  1.026440  0.003814  \n",
       "916                -0.361845  1.026440  1.754572  \n",
       "917                 2.816848  0.309338 -0.871565  \n",
       "918                -0.361845 -1.841967  0.003814  \n",
       "919                -0.361845  0.309338  0.003814  \n",
       "\n",
       "[918 rows x 14 columns]"
      ]
     },
     "execution_count": 26,
     "metadata": {},
     "output_type": "execute_result"
    }
   ],
   "source": [
    "from scipy.stats import zscore\n",
    "data.apply(stats.zscore)"
   ]
  },
  {
   "cell_type": "markdown",
   "id": "5bc7d4eb",
   "metadata": {},
   "source": [
    "### Train Test Split"
   ]
  },
  {
   "cell_type": "code",
   "execution_count": 27,
   "id": "618be87e",
   "metadata": {},
   "outputs": [],
   "source": [
    "X = data.drop(['class'], axis='columns')\n",
    "y = data['class']"
   ]
  },
  {
   "cell_type": "code",
   "execution_count": 28,
   "id": "4f58b3a2",
   "metadata": {},
   "outputs": [],
   "source": [
    "# Splitting dataset for hold-out validation\n",
    "X_train, X_test, y_train, y_test = train_test_split(X, y, test_size=0.2, random_state=1)"
   ]
  },
  {
   "cell_type": "code",
   "execution_count": 29,
   "id": "de49dd02",
   "metadata": {},
   "outputs": [],
   "source": [
    "# Pre processing with standard scaler\n",
    "scaler = StandardScaler()\n",
    "scaler.fit(X_train)\n",
    "X_train = scaler.transform(X_train)\n",
    "X_test = scaler.transform(X_test)"
   ]
  },
  {
   "cell_type": "code",
   "execution_count": null,
   "id": "1b8eee40",
   "metadata": {},
   "outputs": [],
   "source": []
  },
  {
   "cell_type": "code",
   "execution_count": 30,
   "id": "752733cc",
   "metadata": {},
   "outputs": [
    {
     "name": "stdout",
     "output_type": "stream",
     "text": [
      "Training Set: (734, 13) (734,)\n",
      "Testing Set: (184, 13) (184,)\n"
     ]
    }
   ],
   "source": [
    "print ('Training Set:', X_train.shape, y_train.shape)\n",
    "print ('Testing Set:', X_test.shape, y_test.shape)"
   ]
  },
  {
   "cell_type": "markdown",
   "id": "108f6f13",
   "metadata": {},
   "source": [
    "### KNN"
   ]
  },
  {
   "cell_type": "code",
   "execution_count": 31,
   "id": "d26baa34",
   "metadata": {},
   "outputs": [
    {
     "data": {
      "text/plain": [
       "0.5706521739130435"
      ]
     },
     "execution_count": 31,
     "metadata": {},
     "output_type": "execute_result"
    }
   ],
   "source": [
    "# Classifier\n",
    "knn = KNeighborsClassifier(n_neighbors=5)\n",
    "\n",
    "# Training model\n",
    "knn = knn.fit(X_train, y_train)\n",
    "\n",
    "# Testing model\n",
    "y_pred = knn.predict(X_test)\n",
    "knn.score(X_test, y_test)"
   ]
  },
  {
   "cell_type": "code",
   "execution_count": 32,
   "id": "f87b2f5c",
   "metadata": {
    "scrolled": true
   },
   "outputs": [
    {
     "data": {
      "image/png": "[encoded data removed]",
      "text/plain": [
       "<Figure size 432x288 with 2 Axes>"
      ]
     },
     "metadata": {
      "needs_background": "light"
     },
     "output_type": "display_data"
    }
   ],
   "source": [
    "# KNN Matrix\n",
    "title = 'Confusion Matrix of KNN'\n",
    "plot_confusion_matrix(y_test, y_pred, title=title)  \n"
   ]
  },
  {
   "cell_type": "code",
   "execution_count": 33,
   "id": "4ed7cc7d",
   "metadata": {},
   "outputs": [
    {
     "name": "stdout",
     "output_type": "stream",
     "text": [
      "              precision    recall  f1-score   support\n",
      "\n",
      "           0       0.77      0.79      0.78        86\n",
      "           1       0.42      0.68      0.52        47\n",
      "           2       0.29      0.19      0.23        21\n",
      "           3       0.20      0.04      0.07        23\n",
      "           4       0.00      0.00      0.00         7\n",
      "\n",
      "    accuracy                           0.57       184\n",
      "   macro avg       0.33      0.34      0.32       184\n",
      "weighted avg       0.52      0.57      0.53       184\n",
      "\n"
     ]
    },
    {
     "name": "stderr",
     "output_type": "stream",
     "text": [
      "C:\\Users\\UniWork\\anaconda3\\lib\\site-packages\\sklearn\\metrics\\_classification.py:1245: UndefinedMetricWarning: Precision and F-score are ill-defined and being set to 0.0 in labels with no predicted samples. Use `zero_division` parameter to control this behavior.\n",
      "  _warn_prf(average, modifier, msg_start, len(result))\n",
      "C:\\Users\\UniWork\\anaconda3\\lib\\site-packages\\sklearn\\metrics\\_classification.py:1245: UndefinedMetricWarning: Precision and F-score are ill-defined and being set to 0.0 in labels with no predicted samples. Use `zero_division` parameter to control this behavior.\n",
      "  _warn_prf(average, modifier, msg_start, len(result))\n",
      "C:\\Users\\UniWork\\anaconda3\\lib\\site-packages\\sklearn\\metrics\\_classification.py:1245: UndefinedMetricWarning: Precision and F-score are ill-defined and being set to 0.0 in labels with no predicted samples. Use `zero_division` parameter to control this behavior.\n",
      "  _warn_prf(average, modifier, msg_start, len(result))\n"
     ]
    }
   ],
   "source": [
    "print (classification_report(y_test, y_pred))"
   ]
  },
  {
   "cell_type": "code",
   "execution_count": 34,
   "id": "61599ebc",
   "metadata": {},
   "outputs": [
    {
     "data": {
      "text/plain": [
       "Text(0, 0.5, 'Accuracy Rate')"
      ]
     },
     "execution_count": 34,
     "metadata": {},
     "output_type": "execute_result"
    },
    {
     "data": {
      "image/png": "[encoded data removed]",
      "text/plain": [
       "<Figure size 720x432 with 1 Axes>"
      ]
     },
     "metadata": {
      "needs_background": "light"
     },
     "output_type": "display_data"
    }
   ],
   "source": [
    "accuracy_rate = []\n",
    "\n",
    "for i in range(1,40):\n",
    "    \n",
    "    knn = KNeighborsClassifier(n_neighbors=i)\n",
    "    score=cross_val_score(knn, X,data['class'],cv=10)\n",
    "    accuracy_rate.append(score.mean())\n",
    "\n",
    "plt.figure(figsize=(10,6))\n",
    "plt.plot(range(1,40),accuracy_rate,color='green', linestyle='dashed', marker='o',\n",
    "         markerfacecolor='blue', markersize=10)\n",
    "plt.title('Accuracy Rate vs. K Value')\n",
    "plt.xlabel('K')\n",
    "plt.ylabel('Accuracy Rate')"
   ]
  },
  {
   "cell_type": "code",
   "execution_count": 35,
   "id": "9c23b280",
   "metadata": {},
   "outputs": [
    {
     "data": {
      "text/plain": [
       "Text(0, 0.5, 'Error Rate')"
      ]
     },
     "execution_count": 35,
     "metadata": {},
     "output_type": "execute_result"
    },
    {
     "data": {
      "image/png": "[encoded data removed]",
      "text/plain": [
       "<Figure size 720x432 with 1 Axes>"
      ]
     },
     "metadata": {
      "needs_background": "light"
     },
     "output_type": "display_data"
    }
   ],
   "source": [
    "error_rate = []\n",
    "\n",
    "for i in range(1,40):\n",
    "    \n",
    "    knn = KNeighborsClassifier(n_neighbors=i)\n",
    "    score=cross_val_score(knn,X,data['class'],cv=10)\n",
    "    error_rate.append(1-score.mean())\n",
    "\n",
    "plt.figure(figsize=(10,6))\n",
    "plt.plot(range(1,40),error_rate, color='green', linestyle='dashed', marker='o',\n",
    "        markerfacecolor='blue', markersize=10)\n",
    "plt.title('Error Rate vs. K Value')\n",
    "plt.xlabel('K Value')\n",
    "plt.ylabel('Error Rate')"
   ]
  },
  {
   "cell_type": "markdown",
   "id": "368f232e",
   "metadata": {},
   "source": [
    "### Random Forest (Without hyper parameters)"
   ]
  },
  {
   "cell_type": "code",
   "execution_count": 36,
   "id": "bf0e1886",
   "metadata": {},
   "outputs": [
    {
     "data": {
      "text/plain": [
       "0.592391304347826"
      ]
     },
     "execution_count": 36,
     "metadata": {},
     "output_type": "execute_result"
    }
   ],
   "source": [
    "# Classifier\n",
    "rf = RandomForestClassifier()\n",
    "\n",
    "# Training model\n",
    "rf = rf.fit(X_train, y_train)\n",
    "\n",
    "# Testing model\n",
    "y_pred = rf.predict(X_test)\n",
    "rf.score(X_test, y_test)"
   ]
  },
  {
   "cell_type": "code",
   "execution_count": 37,
   "id": "7e3e2375",
   "metadata": {},
   "outputs": [
    {
     "data": {
      "image/png": "[encoded data removed]",
      "text/plain": [
       "<Figure size 432x288 with 2 Axes>"
      ]
     },
     "metadata": {
      "needs_background": "light"
     },
     "output_type": "display_data"
    }
   ],
   "source": [
    "# RF matrix\n",
    "title = 'Confusion Matrix of Random forest'\n",
    "plot_confusion_matrix(y_test, y_pred, title=title)  "
   ]
  },
  {
   "cell_type": "code",
   "execution_count": 38,
   "id": "d8b47805",
   "metadata": {
    "scrolled": true
   },
   "outputs": [
    {
     "name": "stdout",
     "output_type": "stream",
     "text": [
      "              precision    recall  f1-score   support\n",
      "\n",
      "           0       0.74      0.84      0.79        86\n",
      "           1       0.45      0.64      0.53        47\n",
      "           2       0.22      0.10      0.13        21\n",
      "           3       0.45      0.22      0.29        23\n",
      "           4       0.00      0.00      0.00         7\n",
      "\n",
      "    accuracy                           0.59       184\n",
      "   macro avg       0.37      0.36      0.35       184\n",
      "weighted avg       0.54      0.59      0.55       184\n",
      "\n"
     ]
    },
    {
     "name": "stderr",
     "output_type": "stream",
     "text": [
      "C:\\Users\\UniWork\\anaconda3\\lib\\site-packages\\sklearn\\metrics\\_classification.py:1245: UndefinedMetricWarning: Precision and F-score are ill-defined and being set to 0.0 in labels with no predicted samples. Use `zero_division` parameter to control this behavior.\n",
      "  _warn_prf(average, modifier, msg_start, len(result))\n",
      "C:\\Users\\UniWork\\anaconda3\\lib\\site-packages\\sklearn\\metrics\\_classification.py:1245: UndefinedMetricWarning: Precision and F-score are ill-defined and being set to 0.0 in labels with no predicted samples. Use `zero_division` parameter to control this behavior.\n",
      "  _warn_prf(average, modifier, msg_start, len(result))\n",
      "C:\\Users\\UniWork\\anaconda3\\lib\\site-packages\\sklearn\\metrics\\_classification.py:1245: UndefinedMetricWarning: Precision and F-score are ill-defined and being set to 0.0 in labels with no predicted samples. Use `zero_division` parameter to control this behavior.\n",
      "  _warn_prf(average, modifier, msg_start, len(result))\n"
     ]
    }
   ],
   "source": [
    "print (classification_report(y_test, y_pred))"
   ]
  },
  {
   "cell_type": "markdown",
   "id": "fab606e2",
   "metadata": {},
   "source": [
    "### Random Forest (With hyper parameters)"
   ]
  },
  {
   "cell_type": "code",
   "execution_count": 53,
   "id": "4aaca735",
   "metadata": {},
   "outputs": [
    {
     "name": "stdout",
     "output_type": "stream",
     "text": [
      "Fitting 3 folds for each of 500 candidates, totalling 1500 fits\n"
     ]
    }
   ],
   "source": [
    "#Setting values for the parameters\n",
    "n_estimators = [100, 300, 500, 800, 1200]\n",
    "max_depth = [5, 10, 15, 25, 30]\n",
    "min_samples_split = [2, 5, 10, 15, 100]\n",
    "min_samples_leaf = [1, 2, 5, 10]\n",
    "\n",
    "#Creating a dictionary for the hyper parameters\n",
    "hyper_rf = dict(n_estimators = n_estimators, max_depth = max_depth, \n",
    "              min_samples_split = min_samples_split, min_samples_leaf = min_samples_leaf)\n",
    "\n",
    "#Applying GridSearchCV to get the best value for hyperparameters\n",
    "gridrf = GridSearchCV(rf, hyper_rf, cv = 3, verbose = 1, n_jobs = -1)\n",
    "bestrf = gridrf.fit(X_train, y_train)"
   ]
  },
  {
   "cell_type": "code",
   "execution_count": 54,
   "id": "2bb3ffe9",
   "metadata": {},
   "outputs": [
    {
     "name": "stdout",
     "output_type": "stream",
     "text": [
      "The best hyper parameters are:\n",
      " {'max_depth': 25, 'min_samples_leaf': 1, 'min_samples_split': 5, 'n_estimators': 300}\n"
     ]
    }
   ],
   "source": [
    "#Printing the best hyper-parameters\n",
    "print('The best hyper parameters are:\\n', gridrf.best_params_)"
   ]
  },
  {
   "cell_type": "code",
   "execution_count": 55,
   "id": "00d554d3",
   "metadata": {},
   "outputs": [],
   "source": [
    "#Fitting the random forest model with the best hyper parameters obtained through GridSearchCV\n",
    "rf_best = RandomForestClassifier(max_depth=5, min_samples_leaf=5, min_samples_split=5, n_estimators=100)\n",
    "rf_best.fit(X_train, y_train)\n",
    "pred_rf_best = rf_best.predict(X_test)"
   ]
  },
  {
   "cell_type": "code",
   "execution_count": 56,
   "id": "e3e9994e",
   "metadata": {},
   "outputs": [
    {
     "name": "stdout",
     "output_type": "stream",
     "text": [
      "Checking different metrics for random forest model after tuning the hyperparameters:\n",
      "\n",
      "Training accuracy:  0.6416893732970027\n",
      "Testing accuracy:  0.5706521739130435\n"
     ]
    }
   ],
   "source": [
    "#Checking different metrics for random forest model after tuning the hyperparameters\n",
    "print('Checking different metrics for random forest model after tuning the hyperparameters:\\n')\n",
    "print(\"Training accuracy: \",rf_best.score(X_train,y_train))\n",
    "acc_score = accuracy_score(y_test, pred_rf_best)\n",
    "print('Testing accuracy: ',acc_score)"
   ]
  },
  {
   "cell_type": "markdown",
   "id": "9e497860",
   "metadata": {},
   "source": [
    "### Decision Tree"
   ]
  },
  {
   "cell_type": "code",
   "execution_count": 43,
   "id": "38a3740d",
   "metadata": {},
   "outputs": [
    {
     "data": {
      "text/plain": [
       "0.46195652173913043"
      ]
     },
     "execution_count": 43,
     "metadata": {},
     "output_type": "execute_result"
    }
   ],
   "source": [
    "# Classifier\n",
    "dt = DecisionTreeClassifier()\n",
    "\n",
    "# Training model\n",
    "dt = dt.fit(X_train, y_train)\n",
    "\n",
    "# Testing model\n",
    "y_pred = dt.predict(X_test)\n",
    "dt.score(X_test, y_test)"
   ]
  },
  {
   "cell_type": "code",
   "execution_count": 44,
   "id": "aba7053e",
   "metadata": {},
   "outputs": [
    {
     "data": {
      "image/png": "[encoded data removed]",
      "text/plain": [
       "<Figure size 432x288 with 2 Axes>"
      ]
     },
     "metadata": {
      "needs_background": "light"
     },
     "output_type": "display_data"
    }
   ],
   "source": [
    "# DT Matrix\n",
    "title = 'Confusion Matrix of Decision Tree'\n",
    "plot_confusion_matrix(y_test, y_pred, title=title)  "
   ]
  },
  {
   "cell_type": "code",
   "execution_count": 45,
   "id": "603ac818",
   "metadata": {},
   "outputs": [
    {
     "name": "stdout",
     "output_type": "stream",
     "text": [
      "              precision    recall  f1-score   support\n",
      "\n",
      "           0       0.69      0.64      0.66        86\n",
      "           1       0.37      0.38      0.37        47\n",
      "           2       0.22      0.29      0.25        21\n",
      "           3       0.25      0.22      0.23        23\n",
      "           4       0.12      0.14      0.13         7\n",
      "\n",
      "    accuracy                           0.46       184\n",
      "   macro avg       0.33      0.33      0.33       184\n",
      "weighted avg       0.48      0.46      0.47       184\n",
      "\n"
     ]
    }
   ],
   "source": [
    "print (classification_report(y_test, y_pred))"
   ]
  },
  {
   "cell_type": "markdown",
   "id": "2b6c7cec",
   "metadata": {},
   "source": [
    "### SVM"
   ]
  },
  {
   "cell_type": "code",
   "execution_count": 46,
   "id": "7028e4a6",
   "metadata": {},
   "outputs": [
    {
     "data": {
      "text/plain": [
       "0.592391304347826"
      ]
     },
     "execution_count": 46,
     "metadata": {},
     "output_type": "execute_result"
    }
   ],
   "source": [
    "# Classifier\n",
    "svm = SVC()\n",
    "\n",
    "# Training model\n",
    "svm = svm.fit(X_train, y_train)\n",
    "\n",
    "# Testing model\n",
    "y_pred = svm.predict(X_test)\n",
    "svm.score(X_test, y_test)"
   ]
  },
  {
   "cell_type": "code",
   "execution_count": 47,
   "id": "0166c7d2",
   "metadata": {},
   "outputs": [
    {
     "data": {
      "image/png": "[encoded data removed]",
      "text/plain": [
       "<Figure size 432x288 with 2 Axes>"
      ]
     },
     "metadata": {
      "needs_background": "light"
     },
     "output_type": "display_data"
    }
   ],
   "source": [
    "# DT Matrix\n",
    "title = 'Confusion Matrix of SVM'\n",
    "plot_confusion_matrix(y_test, y_pred, title=title) "
   ]
  },
  {
   "cell_type": "code",
   "execution_count": 48,
   "id": "671e1e35",
   "metadata": {},
   "outputs": [
    {
     "name": "stdout",
     "output_type": "stream",
     "text": [
      "              precision    recall  f1-score   support\n",
      "\n",
      "           0       0.83      0.83      0.83        86\n",
      "           1       0.40      0.74      0.52        47\n",
      "           2       0.67      0.10      0.17        21\n",
      "           3       0.14      0.04      0.07        23\n",
      "           4       0.00      0.00      0.00         7\n",
      "\n",
      "    accuracy                           0.59       184\n",
      "   macro avg       0.41      0.34      0.32       184\n",
      "weighted avg       0.58      0.59      0.55       184\n",
      "\n"
     ]
    },
    {
     "name": "stderr",
     "output_type": "stream",
     "text": [
      "C:\\Users\\UniWork\\anaconda3\\lib\\site-packages\\sklearn\\metrics\\_classification.py:1245: UndefinedMetricWarning: Precision and F-score are ill-defined and being set to 0.0 in labels with no predicted samples. Use `zero_division` parameter to control this behavior.\n",
      "  _warn_prf(average, modifier, msg_start, len(result))\n",
      "C:\\Users\\UniWork\\anaconda3\\lib\\site-packages\\sklearn\\metrics\\_classification.py:1245: UndefinedMetricWarning: Precision and F-score are ill-defined and being set to 0.0 in labels with no predicted samples. Use `zero_division` parameter to control this behavior.\n",
      "  _warn_prf(average, modifier, msg_start, len(result))\n",
      "C:\\Users\\UniWork\\anaconda3\\lib\\site-packages\\sklearn\\metrics\\_classification.py:1245: UndefinedMetricWarning: Precision and F-score are ill-defined and being set to 0.0 in labels with no predicted samples. Use `zero_division` parameter to control this behavior.\n",
      "  _warn_prf(average, modifier, msg_start, len(result))\n"
     ]
    }
   ],
   "source": [
    "print (classification_report(y_test, y_pred))"
   ]
  },
  {
   "cell_type": "markdown",
   "id": "e8b7374f",
   "metadata": {},
   "source": [
    "### Gradient Boosting"
   ]
  },
  {
   "cell_type": "code",
   "execution_count": 49,
   "id": "6382e002",
   "metadata": {},
   "outputs": [
    {
     "data": {
      "text/plain": [
       "0.5869565217391305"
      ]
     },
     "execution_count": 49,
     "metadata": {},
     "output_type": "execute_result"
    }
   ],
   "source": [
    "# Classifier \n",
    "GB = GradientBoostingClassifier()\n",
    "\n",
    "# Training model\n",
    "GB = GB.fit(X_train, y_train)\n",
    "\n",
    "# Testing model\n",
    "y_pred = GB.predict(X_test)\n",
    "\n",
    "GB.score(X_test, y_test)"
   ]
  },
  {
   "cell_type": "code",
   "execution_count": 50,
   "id": "5a846beb",
   "metadata": {},
   "outputs": [
    {
     "data": {
      "image/png": "[encoded data removed]",
      "text/plain": [
       "<Figure size 432x288 with 2 Axes>"
      ]
     },
     "metadata": {
      "needs_background": "light"
     },
     "output_type": "display_data"
    }
   ],
   "source": [
    "# GRadeint boosting Matrix\n",
    "title = 'Confusion Matrix of Gradient Boosting'\n",
    "plot_confusion_matrix(y_test, y_pred, title=title)"
   ]
  },
  {
   "cell_type": "code",
   "execution_count": 51,
   "id": "18ff45b6",
   "metadata": {},
   "outputs": [
    {
     "name": "stdout",
     "output_type": "stream",
     "text": [
      "              precision    recall  f1-score   support\n",
      "\n",
      "           0       0.82      0.83      0.82        86\n",
      "           1       0.41      0.60      0.49        47\n",
      "           2       0.20      0.10      0.13        21\n",
      "           3       0.35      0.26      0.30        23\n",
      "           4       0.50      0.14      0.22         7\n",
      "\n",
      "    accuracy                           0.59       184\n",
      "   macro avg       0.46      0.38      0.39       184\n",
      "weighted avg       0.57      0.59      0.57       184\n",
      "\n"
     ]
    }
   ],
   "source": [
    "print (classification_report(y_test, y_pred))"
   ]
  },
  {
   "cell_type": "markdown",
   "id": "be1da134",
   "metadata": {},
   "source": [
    "### Comparing ML algorithms performance "
   ]
  },
  {
   "cell_type": "code",
   "execution_count": 52,
   "id": "85857d33",
   "metadata": {},
   "outputs": [
    {
     "data": {
      "image/png": "[encoded data removed]",
      "text/plain": [
       "<Figure size 720x504 with 1 Axes>"
      ]
     },
     "metadata": {
      "needs_background": "light"
     },
     "output_type": "display_data"
    },
    {
     "data": {
      "image/png": "[encoded data removed]",
      "text/plain": [
       "<Figure size 720x504 with 1 Axes>"
      ]
     },
     "metadata": {
      "needs_background": "light"
     },
     "output_type": "display_data"
    }
   ],
   "source": [
    "# Learning curve for Random Forest models\n",
    "title = 'Learning Curves (Random Forest Model)'\n",
    "plot_learning_curve(rf, title, X_train, y_train, ylim=None, \n",
    "                    cv=5, n_jobs=4, train_sizes=np.linspace(0.1, 1.0, 10));\n",
    "\n",
    "title = 'Learning Curves (Random Forest Model with GridSearchCV)'\n",
    "plot_learning_curve(rf_best, title, X_train, y_train, ylim=None, \n",
    "                    cv=5, n_jobs=4, train_sizes=np.linspace(0.1, 1.0, 10));"
   ]
  },
  {
   "cell_type": "code",
   "execution_count": null,
   "id": "08026b4d",
   "metadata": {},
   "outputs": [],
   "source": []
  }
 ],
 "metadata": {
  "kernelspec": {
   "display_name": "Python 3",
   "language": "python",
   "name": "python3"
  },
  "language_info": {
   "codemirror_mode": {
    "name": "ipython",
    "version": 3
   },
   "file_extension": ".py",
   "mimetype": "text/x-python",
   "name": "python",
   "nbconvert_exporter": "python",
   "pygments_lexer": "ipython3",
   "version": "3.8.8"
  }
 },
 "nbformat": 4,
 "nbformat_minor": 5
}
