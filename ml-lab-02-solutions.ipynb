{
 "cells": [
  {
   "cell_type": "markdown",
   "metadata": {},
   "source": [
    "# Machine Learning Lab 02\n",
    "\n",
    "For this lab, you can find sections for NumPy, Pandas, Matplotlib, Exploratory Data Analysis, and an Analysis of Anscombe's Quartet.\n",
    "\n",
    "Please add new cells for your code to expand this notebook.\n",
    "* Insert\n",
    "* Cell Above/Below"
   ]
  },
  {
   "cell_type": "markdown",
   "metadata": {},
   "source": [
    "## Linear Algebra questions\n",
    "\n",
    "### Questions about vectors\n",
    "\n",
    "Q 1.1.1: 5\n",
    "\n",
    "Q 1.1.2: 300\n",
    "\n",
    "Q 1.1.3: [300, 600, 900, 1200, 1500]\n",
    "\n",
    "Q 1.1.4: [0, 100, 200, 300, 400]\n",
    "\n",
    "### Questions about matrices\n",
    "\n",
    "Q 1.2.1: 6\n",
    "\n",
    "Q 1.2.2: ERROR, no such element in the matrix...\n",
    "\n",
    "Q 1.2.3: \n",
    "\n",
    "\\begin{bmatrix}\n",
    "4 & 7 & 12\\\\\n",
    "9 & 10 & 8\n",
    "\\end{bmatrix}\n",
    "\n",
    "Q 1.2.4: \n",
    "\n",
    "\\begin{bmatrix}\n",
    "3 & 18 & 9\\\\\n",
    "21 & 6 & 12\n",
    "\\end{bmatrix}\n",
    "\n",
    "Q 1.2.5: \n",
    "\n",
    "\\begin{bmatrix}\n",
    "1.5 & 0.5 & 4.5\\\\\n",
    "1 & 4 & 2\n",
    "\\end{bmatrix}\n",
    "\n",
    "### Questions about sets\n",
    "\n",
    "Q 1.3.1: {1, 2, 3, 4, 5}\n",
    "\n",
    "Q 1.3.2: Yes\n",
    "\n",
    "Q 1.3.3: {10, 20, 30}\n",
    "\n",
    "Q 1.3.4: {5, 10, 15, 20, 25, 30}"
   ]
  },
  {
   "cell_type": "markdown",
   "metadata": {},
   "source": [
    "## NumPy"
   ]
  },
  {
   "cell_type": "code",
   "execution_count": 1,
   "metadata": {
    "ExecuteTime": {
     "end_time": "2021-10-05T08:46:59.083313Z",
     "start_time": "2021-10-05T08:46:58.967834Z"
    }
   },
   "outputs": [
    {
     "name": "stdout",
     "output_type": "stream",
     "text": [
      "array([0., 1., 2., 3., 4., 3., 2., 1., 0., 3.])\n",
      "array([4, 5, 6, 0, 1, 2, 3, 4, 3, 2, 1, 0, 3])\n"
     ]
    },
    {
     "data": {
      "text/plain": [
       "2.6153846153846154"
      ]
     },
     "execution_count": 1,
     "metadata": {},
     "output_type": "execute_result"
    }
   ],
   "source": [
    "import numpy as np\n",
    "import pprint\n",
    "\n",
    "an_array = np.array([])\n",
    "another_array = np.array([0,1,2,3,4,3,2,1,0,3])\n",
    "a_third_array = np.append(an_array, another_array)\n",
    "\n",
    "pprint.pprint(a_third_array)\n",
    "\n",
    "a_third_array = np.append([4,5,6], another_array)\n",
    "\n",
    "pprint.pprint(a_third_array)\n",
    "\n",
    "a_third_array.mean()"
   ]
  },
  {
   "cell_type": "code",
   "execution_count": 2,
   "metadata": {
    "ExecuteTime": {
     "end_time": "2021-10-05T08:46:59.089283Z",
     "start_time": "2021-10-05T08:46:59.085571Z"
    }
   },
   "outputs": [
    {
     "name": "stdout",
     "output_type": "stream",
     "text": [
      "0\n",
      "0\n",
      "1\n",
      "2\n",
      "3\n",
      "4\n",
      "five\n",
      "6\n",
      "7\n"
     ]
    }
   ],
   "source": [
    "an_array = [0,1,2,3,4]\n",
    "\n",
    "an_array.append(\"five\")\n",
    "an_array.extend([6,7])\n",
    "\n",
    "print(an_array[0])\n",
    "for element in an_array:\n",
    "   print(element)\n"
   ]
  },
  {
   "cell_type": "code",
   "execution_count": 3,
   "metadata": {
    "ExecuteTime": {
     "end_time": "2021-10-05T08:46:59.098326Z",
     "start_time": "2021-10-05T08:46:59.094044Z"
    }
   },
   "outputs": [
    {
     "name": "stdout",
     "output_type": "stream",
     "text": [
      "array([[1, 3, 3, 7],\n",
      "       [4, 2, 4, 2]])\n",
      "c.shape = (2, 4)\n",
      "c.size = 8\n",
      "c.len = 2\n"
     ]
    }
   ],
   "source": [
    "# creates a 2 x 4 array (A MATRIX)\n",
    "c = np.array([(1,3,3,7), (4,2,4,2)])\n",
    "pprint.pprint(c)\n",
    "\n",
    "print(\"c.shape =\", c.shape)\n",
    "print(\"c.size =\", c.size)\n",
    "print(\"c.len =\", len(c))"
   ]
  },
  {
   "cell_type": "code",
   "execution_count": 4,
   "metadata": {
    "ExecuteTime": {
     "end_time": "2021-10-05T08:46:59.103807Z",
     "start_time": "2021-10-05T08:46:59.100849Z"
    }
   },
   "outputs": [
    {
     "name": "stdout",
     "output_type": "stream",
     "text": [
      "3rd value (at index 2): 2\n"
     ]
    }
   ],
   "source": [
    "print('3rd value (at index 2):',another_array[2])"
   ]
  },
  {
   "cell_type": "code",
   "execution_count": 5,
   "metadata": {
    "ExecuteTime": {
     "end_time": "2021-10-05T08:46:59.111124Z",
     "start_time": "2021-10-05T08:46:59.106033Z"
    }
   },
   "outputs": [
    {
     "name": "stdout",
     "output_type": "stream",
     "text": [
      "1st row = [1 3 3 7]\n",
      "Value at (0, 2) = 3\n",
      "2nd column = [3 2]\n"
     ]
    }
   ],
   "source": [
    "print(\"1st row =\", c[0])\n",
    "print(\"Value at (0, 2) =\", c[0][2])\n",
    "print(\"2nd column =\", c[:,1])"
   ]
  },
  {
   "cell_type": "code",
   "execution_count": 6,
   "metadata": {
    "ExecuteTime": {
     "end_time": "2021-10-05T08:46:59.118443Z",
     "start_time": "2021-10-05T08:46:59.112980Z"
    }
   },
   "outputs": [
    {
     "name": "stdout",
     "output_type": "stream",
     "text": [
      "0\n",
      "1\n",
      "2\n",
      "3\n",
      "4\n",
      "3\n",
      "2\n",
      "1\n",
      "0\n",
      "3\n",
      "\n",
      "0\n",
      "1\n",
      "2\n",
      "3\n",
      "4\n",
      "3\n",
      "2\n",
      "1\n",
      "0\n",
      "3\n",
      "\n",
      "[1 3 3 7]\n",
      "[4 2 4 2]\n",
      "\n",
      "Iterating over each element, row by row\n",
      "1 3 3 7 4 2 4 2 \n",
      "\n",
      "Iterating over each element, using flatten function\n",
      "1 3 3 7 4 2 4 2 "
     ]
    }
   ],
   "source": [
    "for i in range(another_array.size):\n",
    "    print(another_array[i])\n",
    "\n",
    "print()\n",
    "\n",
    "for value in another_array:\n",
    "    print(value)\n",
    "\n",
    "print()\n",
    "\n",
    "for value in c:\n",
    "    print(value)\n",
    "\n",
    "print()\n",
    "\n",
    "print(\"Iterating over each element, row by row\")\n",
    "for row in c:\n",
    "    for cell in row:\n",
    "        print(cell, end=' ')\n",
    "\n",
    "print()\n",
    "print()\n",
    "\n",
    "print(\"Iterating over each element, using flatten function\")\n",
    "for cell in c.flatten():\n",
    "    print(cell, end=' ')"
   ]
  },
  {
   "cell_type": "code",
   "execution_count": 7,
   "metadata": {
    "ExecuteTime": {
     "end_time": "2021-10-05T08:46:59.126872Z",
     "start_time": "2021-10-05T08:46:59.119966Z"
    }
   },
   "outputs": [
    {
     "name": "stdout",
     "output_type": "stream",
     "text": [
      "np.arrange()\n",
      "array([ 0,  1,  2,  3,  4,  5,  6,  7,  8,  9, 10, 11, 12, 13, 14, 15, 16,\n",
      "       17, 18, 19])\n",
      "\n",
      "np.zeros()\n",
      "array([[0., 0.],\n",
      "       [0., 0.]])\n",
      "\n",
      "np.ones()\n",
      "array([[1., 1., 1., 1.],\n",
      "       [1., 1., 1., 1.],\n",
      "       [1., 1., 1., 1.],\n",
      "       [1., 1., 1., 1.]])\n",
      "\n",
      "np.full()\n",
      "array([[nan, nan, nan],\n",
      "       [nan, nan, nan],\n",
      "       [nan, nan, nan]])\n",
      "\n",
      "np.eye()\n",
      "array([[1., 0., 0., 0., 0.],\n",
      "       [0., 1., 0., 0., 0.],\n",
      "       [0., 0., 1., 0., 0.],\n",
      "       [0., 0., 0., 1., 0.],\n",
      "       [0., 0., 0., 0., 1.]])\n",
      "\n",
      "np.random.random()\n",
      "array([[0.08343353, 0.98464194],\n",
      "       [0.02012506, 0.13441229]])\n"
     ]
    }
   ],
   "source": [
    "# create a vector with numbers 1-19\n",
    "a = np.arange(20)\n",
    "print(\"np.arrange()\")\n",
    "pprint.pprint(a)\n",
    "\n",
    "# create a 2x2 matrix of zeros\n",
    "b = np.zeros((2,2))\n",
    "print(\"\\nnp.zeros()\")\n",
    "pprint.pprint(b)\n",
    "\n",
    "# create a 4x4 matrix of ones\n",
    "c = np.ones((4,4))\n",
    "print(\"\\nnp.ones()\")\n",
    "pprint.pprint(c)\n",
    "\n",
    "# create a 3x3 matrix of NaN\n",
    "d = np.full((3,3), np.nan)\n",
    "print(\"\\nnp.full()\")\n",
    "pprint.pprint(d)\n",
    "\n",
    "# create a 5x5 identity matrix (1s down the diagonal)\n",
    "e = np.eye(5)\n",
    "print(\"\\nnp.eye()\")\n",
    "pprint.pprint(e)\n",
    "\n",
    "# create a 2x2 matrix of random numbers\n",
    "f = np.random.random((2,2))\n",
    "print(\"\\nnp.random.random()\")\n",
    "pprint.pprint(f)"
   ]
  },
  {
   "cell_type": "code",
   "execution_count": 1,
   "metadata": {
    "ExecuteTime": {
     "end_time": "2021-10-05T11:31:57.556460Z",
     "start_time": "2021-10-05T11:31:57.547783Z"
    }
   },
   "outputs": [
    {
     "name": "stdout",
     "output_type": "stream",
     "text": [
      "v     = [0 1 2 3]\n",
      "v + 5 = [5 6 7 8]\n",
      "v - 5 = [-5 -4 -3 -2]\n",
      "v * 2 = [0 2 4 6]\n",
      "v / 2 = [0.  0.5 1.  1.5]\n"
     ]
    }
   ],
   "source": [
    "v = np.arange(4)\n",
    "print(\"v     =\", v)\n",
    "print(\"v + 5 =\", v + 5)\n",
    "print(\"v - 5 =\", v - 5)\n",
    "print(\"v * 2 =\", v * 2)\n",
    "print(\"v / 2 =\", v / 2)"
   ]
  },
  {
   "cell_type": "markdown",
   "metadata": {},
   "source": [
    "## SciPy"
   ]
  },
  {
   "cell_type": "code",
   "execution_count": 9,
   "metadata": {
    "ExecuteTime": {
     "end_time": "2021-10-05T08:46:59.454414Z",
     "start_time": "2021-10-05T08:46:59.138030Z"
    }
   },
   "outputs": [
    {
     "name": "stdout",
     "output_type": "stream",
     "text": [
      "\n",
      "Descriptive statistics:\n",
      "\tshape = (10,)\n",
      "\tsize = 10\n",
      "\tmin = 0\n",
      "\tmax = 4\n",
      "\tmean = 1.9\n",
      "\tmedian = 2.0\n",
      "\tmode = 3 - ModeResult(mode=array([3]), count=array([3]))\n",
      "\tvariance = 1.69\n",
      "\tstandard_deviation = 1.3\n"
     ]
    }
   ],
   "source": [
    "from scipy import stats\n",
    "\n",
    "print(\"\\nDescriptive statistics:\")\n",
    "print(\"\\tshape =\", another_array.shape)\n",
    "print(\"\\tsize =\", another_array.size)\n",
    "print(\"\\tmin =\", another_array.min())\n",
    "print(\"\\tmax =\", another_array.max())\n",
    "print(\"\\tmean =\", another_array.mean()) # can also use np.mean(another_array)\n",
    "print(\"\\tmedian =\", np.median(another_array)) # can also use another_array.median()\n",
    "print(\"\\tmode =\", stats.mode(another_array)[0][0],\"-\",stats.mode(another_array))\n",
    "print(\"\\tvariance =\", np.var(another_array))\n",
    "print(\"\\tstandard_deviation =\", np.std(another_array))"
   ]
  },
  {
   "cell_type": "code",
   "execution_count": 10,
   "metadata": {
    "ExecuteTime": {
     "end_time": "2021-10-05T08:46:59.460813Z",
     "start_time": "2021-10-05T08:46:59.456277Z"
    }
   },
   "outputs": [
    {
     "name": "stdout",
     "output_type": "stream",
     "text": [
      "ModeResult(mode=array([[1., 1., 1., 1.]]), count=array([[4, 4, 4, 4]]))\n",
      "[1. 1. 1. 1.]\n",
      "1.0\n",
      "ModeResult(mode=array([1.]), count=array([16]))\n",
      "1.0\n"
     ]
    }
   ],
   "source": [
    "# Calculating mode of a matrix (c from above)\n",
    "mode1 = stats.mode(c)\n",
    "print(mode1)\n",
    "\n",
    "print(mode1.mode[0])\n",
    "print(mode1.mode[0][0])\n",
    "\n",
    "# can calculate the mode across the entire matrix\n",
    "mode2 = stats.mode(c, axis=None)\n",
    "print(mode2)\n",
    "print(mode2.mode[0])"
   ]
  },
  {
   "cell_type": "code",
   "execution_count": 11,
   "metadata": {
    "ExecuteTime": {
     "end_time": "2021-10-05T08:46:59.465400Z",
     "start_time": "2021-10-05T08:46:59.462267Z"
    }
   },
   "outputs": [
    {
     "data": {
      "text/plain": [
       "DescribeResult(nobs=10, minmax=(0, 4), mean=1.9, variance=1.8777777777777775, skewness=-0.08739189804278537, kurtosis=-1.2067504639193305)"
      ]
     },
     "execution_count": 11,
     "metadata": {},
     "output_type": "execute_result"
    }
   ],
   "source": [
    "# can also use a function from SciPy to generate a bunch of stats\n",
    "\n",
    "stats.describe(another_array)"
   ]
  },
  {
   "cell_type": "markdown",
   "metadata": {},
   "source": [
    "## Pandas"
   ]
  },
  {
   "cell_type": "code",
   "execution_count": 12,
   "metadata": {
    "ExecuteTime": {
     "end_time": "2021-10-05T08:46:59.710393Z",
     "start_time": "2021-10-05T08:46:59.466625Z"
    }
   },
   "outputs": [
    {
     "data": {
      "text/html": [
       "<div>\n",
       "<style scoped>\n",
       "    .dataframe tbody tr th:only-of-type {\n",
       "        vertical-align: middle;\n",
       "    }\n",
       "\n",
       "    .dataframe tbody tr th {\n",
       "        vertical-align: top;\n",
       "    }\n",
       "\n",
       "    .dataframe thead th {\n",
       "        text-align: right;\n",
       "    }\n",
       "</style>\n",
       "<table border=\"1\" class=\"dataframe\">\n",
       "  <thead>\n",
       "    <tr style=\"text-align: right;\">\n",
       "      <th></th>\n",
       "      <th>apples</th>\n",
       "      <th>oranges</th>\n",
       "    </tr>\n",
       "  </thead>\n",
       "  <tbody>\n",
       "    <tr>\n",
       "      <th>0</th>\n",
       "      <td>3</td>\n",
       "      <td>0</td>\n",
       "    </tr>\n",
       "    <tr>\n",
       "      <th>1</th>\n",
       "      <td>2</td>\n",
       "      <td>3</td>\n",
       "    </tr>\n",
       "    <tr>\n",
       "      <th>2</th>\n",
       "      <td>0</td>\n",
       "      <td>7</td>\n",
       "    </tr>\n",
       "    <tr>\n",
       "      <th>3</th>\n",
       "      <td>1</td>\n",
       "      <td>2</td>\n",
       "    </tr>\n",
       "  </tbody>\n",
       "</table>\n",
       "</div>"
      ],
      "text/plain": [
       "   apples  oranges\n",
       "0       3        0\n",
       "1       2        3\n",
       "2       0        7\n",
       "3       1        2"
      ]
     },
     "execution_count": 12,
     "metadata": {},
     "output_type": "execute_result"
    }
   ],
   "source": [
    "import pandas as pd\n",
    "\n",
    "# a hardcoded dictionary\n",
    "data = {\n",
    "    'apples': [3, 2, 0, 1], \n",
    "    'oranges': [0, 3, 7, 2]\n",
    "}\n",
    "\n",
    "# load into a DataFrame (will use default index values - see next example for specifying an index)\n",
    "purchases_dataframe = pd.DataFrame(data)\n",
    "purchases_dataframe  # will print in a Jupyter Notebook with nice formattign"
   ]
  },
  {
   "cell_type": "code",
   "execution_count": 13,
   "metadata": {
    "ExecuteTime": {
     "end_time": "2021-10-05T08:46:59.725675Z",
     "start_time": "2021-10-05T08:46:59.712501Z"
    }
   },
   "outputs": [
    {
     "data": {
      "text/html": [
       "<div>\n",
       "<style scoped>\n",
       "    .dataframe tbody tr th:only-of-type {\n",
       "        vertical-align: middle;\n",
       "    }\n",
       "\n",
       "    .dataframe tbody tr th {\n",
       "        vertical-align: top;\n",
       "    }\n",
       "\n",
       "    .dataframe thead th {\n",
       "        text-align: right;\n",
       "    }\n",
       "</style>\n",
       "<table border=\"1\" class=\"dataframe\">\n",
       "  <thead>\n",
       "    <tr style=\"text-align: right;\">\n",
       "      <th></th>\n",
       "      <th>L4 mean mark</th>\n",
       "      <th>Did formative assessment</th>\n",
       "      <th>Submitted</th>\n",
       "      <th>Plagiarism</th>\n",
       "      <th>VLE content visited</th>\n",
       "      <th>Lecture engagement</th>\n",
       "      <th>Lab engagement</th>\n",
       "      <th>Classifier impl</th>\n",
       "      <th>Code mark</th>\n",
       "      <th>Report mark</th>\n",
       "      <th>Total mark</th>\n",
       "      <th>Class</th>\n",
       "    </tr>\n",
       "  </thead>\n",
       "  <tbody>\n",
       "    <tr>\n",
       "      <th>0</th>\n",
       "      <td>87</td>\n",
       "      <td>0</td>\n",
       "      <td>1</td>\n",
       "      <td>0</td>\n",
       "      <td>0.15</td>\n",
       "      <td>0.30</td>\n",
       "      <td>0.20</td>\n",
       "      <td>Ensemble</td>\n",
       "      <td>10</td>\n",
       "      <td>35</td>\n",
       "      <td>45</td>\n",
       "      <td>1</td>\n",
       "    </tr>\n",
       "    <tr>\n",
       "      <th>1</th>\n",
       "      <td>83</td>\n",
       "      <td>1</td>\n",
       "      <td>1</td>\n",
       "      <td>0</td>\n",
       "      <td>0.42</td>\n",
       "      <td>0.75</td>\n",
       "      <td>0.50</td>\n",
       "      <td>K-NN</td>\n",
       "      <td>28</td>\n",
       "      <td>68</td>\n",
       "      <td>96</td>\n",
       "      <td>1</td>\n",
       "    </tr>\n",
       "    <tr>\n",
       "      <th>2</th>\n",
       "      <td>75</td>\n",
       "      <td>0</td>\n",
       "      <td>1</td>\n",
       "      <td>0</td>\n",
       "      <td>0.38</td>\n",
       "      <td>1.00</td>\n",
       "      <td>0.80</td>\n",
       "      <td>Ensemble</td>\n",
       "      <td>28</td>\n",
       "      <td>55</td>\n",
       "      <td>83</td>\n",
       "      <td>1</td>\n",
       "    </tr>\n",
       "    <tr>\n",
       "      <th>3</th>\n",
       "      <td>77</td>\n",
       "      <td>1</td>\n",
       "      <td>1</td>\n",
       "      <td>0</td>\n",
       "      <td>0.80</td>\n",
       "      <td>1.00</td>\n",
       "      <td>0.90</td>\n",
       "      <td>Ensemble</td>\n",
       "      <td>30</td>\n",
       "      <td>62</td>\n",
       "      <td>92</td>\n",
       "      <td>1</td>\n",
       "    </tr>\n",
       "    <tr>\n",
       "      <th>4</th>\n",
       "      <td>65</td>\n",
       "      <td>0</td>\n",
       "      <td>1</td>\n",
       "      <td>1</td>\n",
       "      <td>0.34</td>\n",
       "      <td>0.50</td>\n",
       "      <td>0.15</td>\n",
       "      <td>K-NN</td>\n",
       "      <td>0</td>\n",
       "      <td>35</td>\n",
       "      <td>35</td>\n",
       "      <td>0</td>\n",
       "    </tr>\n",
       "  </tbody>\n",
       "</table>\n",
       "</div>"
      ],
      "text/plain": [
       "   L4 mean mark  Did formative assessment  Submitted  Plagiarism  \\\n",
       "0            87                         0          1           0   \n",
       "1            83                         1          1           0   \n",
       "2            75                         0          1           0   \n",
       "3            77                         1          1           0   \n",
       "4            65                         0          1           1   \n",
       "\n",
       "   VLE content visited  Lecture engagement  Lab engagement Classifier impl  \\\n",
       "0                 0.15                0.30            0.20        Ensemble   \n",
       "1                 0.42                0.75            0.50            K-NN   \n",
       "2                 0.38                1.00            0.80        Ensemble   \n",
       "3                 0.80                1.00            0.90        Ensemble   \n",
       "4                 0.34                0.50            0.15            K-NN   \n",
       "\n",
       "   Code mark  Report mark  Total mark  Class  \n",
       "0         10           35          45      1  \n",
       "1         28           68          96      1  \n",
       "2         28           55          83      1  \n",
       "3         30           62          92      1  \n",
       "4          0           35          35      0  "
      ]
     },
     "execution_count": 13,
     "metadata": {},
     "output_type": "execute_result"
    }
   ],
   "source": [
    "dataset = pd.read_csv('data/ml-assessment-dataset.csv')\n",
    "dataset.head() # displays the header and top half of the dataset"
   ]
  },
  {
   "cell_type": "code",
   "execution_count": 14,
   "metadata": {
    "ExecuteTime": {
     "end_time": "2021-10-05T08:46:59.737260Z",
     "start_time": "2021-10-05T08:46:59.727015Z"
    }
   },
   "outputs": [
    {
     "data": {
      "text/html": [
       "<div>\n",
       "<style scoped>\n",
       "    .dataframe tbody tr th:only-of-type {\n",
       "        vertical-align: middle;\n",
       "    }\n",
       "\n",
       "    .dataframe tbody tr th {\n",
       "        vertical-align: top;\n",
       "    }\n",
       "\n",
       "    .dataframe thead th {\n",
       "        text-align: right;\n",
       "    }\n",
       "</style>\n",
       "<table border=\"1\" class=\"dataframe\">\n",
       "  <thead>\n",
       "    <tr style=\"text-align: right;\">\n",
       "      <th></th>\n",
       "      <th>L4 mean mark</th>\n",
       "      <th>Did formative assessment</th>\n",
       "      <th>Submitted</th>\n",
       "      <th>Plagiarism</th>\n",
       "      <th>VLE content visited</th>\n",
       "      <th>Lecture engagement</th>\n",
       "      <th>Lab engagement</th>\n",
       "      <th>Classifier impl</th>\n",
       "      <th>Code mark</th>\n",
       "      <th>Report mark</th>\n",
       "      <th>Total mark</th>\n",
       "      <th>Class</th>\n",
       "    </tr>\n",
       "  </thead>\n",
       "  <tbody>\n",
       "    <tr>\n",
       "      <th>50</th>\n",
       "      <td>76</td>\n",
       "      <td>1</td>\n",
       "      <td>1</td>\n",
       "      <td>0</td>\n",
       "      <td>0.37</td>\n",
       "      <td>1.00</td>\n",
       "      <td>0.40</td>\n",
       "      <td>Ensemble</td>\n",
       "      <td>18</td>\n",
       "      <td>63</td>\n",
       "      <td>81</td>\n",
       "      <td>1</td>\n",
       "    </tr>\n",
       "    <tr>\n",
       "      <th>51</th>\n",
       "      <td>91</td>\n",
       "      <td>1</td>\n",
       "      <td>1</td>\n",
       "      <td>0</td>\n",
       "      <td>0.55</td>\n",
       "      <td>0.75</td>\n",
       "      <td>0.75</td>\n",
       "      <td>Ensemble</td>\n",
       "      <td>15</td>\n",
       "      <td>65</td>\n",
       "      <td>80</td>\n",
       "      <td>1</td>\n",
       "    </tr>\n",
       "    <tr>\n",
       "      <th>52</th>\n",
       "      <td>53</td>\n",
       "      <td>0</td>\n",
       "      <td>1</td>\n",
       "      <td>0</td>\n",
       "      <td>0.28</td>\n",
       "      <td>0.75</td>\n",
       "      <td>0.10</td>\n",
       "      <td>None</td>\n",
       "      <td>10</td>\n",
       "      <td>20</td>\n",
       "      <td>30</td>\n",
       "      <td>0</td>\n",
       "    </tr>\n",
       "    <tr>\n",
       "      <th>53</th>\n",
       "      <td>69</td>\n",
       "      <td>1</td>\n",
       "      <td>1</td>\n",
       "      <td>0</td>\n",
       "      <td>0.38</td>\n",
       "      <td>0.75</td>\n",
       "      <td>0.25</td>\n",
       "      <td>K-NN</td>\n",
       "      <td>10</td>\n",
       "      <td>40</td>\n",
       "      <td>50</td>\n",
       "      <td>1</td>\n",
       "    </tr>\n",
       "    <tr>\n",
       "      <th>54</th>\n",
       "      <td>55</td>\n",
       "      <td>0</td>\n",
       "      <td>0</td>\n",
       "      <td>1</td>\n",
       "      <td>0.00</td>\n",
       "      <td>0.00</td>\n",
       "      <td>0.00</td>\n",
       "      <td>NaN</td>\n",
       "      <td>0</td>\n",
       "      <td>0</td>\n",
       "      <td>0</td>\n",
       "      <td>0</td>\n",
       "    </tr>\n",
       "    <tr>\n",
       "      <th>55</th>\n",
       "      <td>73</td>\n",
       "      <td>0</td>\n",
       "      <td>1</td>\n",
       "      <td>0</td>\n",
       "      <td>0.28</td>\n",
       "      <td>0.20</td>\n",
       "      <td>0.10</td>\n",
       "      <td>None</td>\n",
       "      <td>0</td>\n",
       "      <td>55</td>\n",
       "      <td>55</td>\n",
       "      <td>0</td>\n",
       "    </tr>\n",
       "    <tr>\n",
       "      <th>56</th>\n",
       "      <td>68</td>\n",
       "      <td>0</td>\n",
       "      <td>1</td>\n",
       "      <td>0</td>\n",
       "      <td>0.49</td>\n",
       "      <td>0.75</td>\n",
       "      <td>0.40</td>\n",
       "      <td>K-NN</td>\n",
       "      <td>20</td>\n",
       "      <td>35</td>\n",
       "      <td>55</td>\n",
       "      <td>1</td>\n",
       "    </tr>\n",
       "    <tr>\n",
       "      <th>57</th>\n",
       "      <td>62</td>\n",
       "      <td>0</td>\n",
       "      <td>1</td>\n",
       "      <td>0</td>\n",
       "      <td>0.37</td>\n",
       "      <td>0.25</td>\n",
       "      <td>0.00</td>\n",
       "      <td>Ensemble</td>\n",
       "      <td>25</td>\n",
       "      <td>10</td>\n",
       "      <td>35</td>\n",
       "      <td>0</td>\n",
       "    </tr>\n",
       "    <tr>\n",
       "      <th>58</th>\n",
       "      <td>70</td>\n",
       "      <td>0</td>\n",
       "      <td>1</td>\n",
       "      <td>1</td>\n",
       "      <td>0.39</td>\n",
       "      <td>0.60</td>\n",
       "      <td>0.30</td>\n",
       "      <td>K-NN</td>\n",
       "      <td>5</td>\n",
       "      <td>5</td>\n",
       "      <td>10</td>\n",
       "      <td>0</td>\n",
       "    </tr>\n",
       "    <tr>\n",
       "      <th>59</th>\n",
       "      <td>74</td>\n",
       "      <td>0</td>\n",
       "      <td>1</td>\n",
       "      <td>0</td>\n",
       "      <td>0.50</td>\n",
       "      <td>0.75</td>\n",
       "      <td>0.75</td>\n",
       "      <td>Ensemble</td>\n",
       "      <td>25</td>\n",
       "      <td>45</td>\n",
       "      <td>70</td>\n",
       "      <td>1</td>\n",
       "    </tr>\n",
       "  </tbody>\n",
       "</table>\n",
       "</div>"
      ],
      "text/plain": [
       "    L4 mean mark  Did formative assessment  Submitted  Plagiarism  \\\n",
       "50            76                         1          1           0   \n",
       "51            91                         1          1           0   \n",
       "52            53                         0          1           0   \n",
       "53            69                         1          1           0   \n",
       "54            55                         0          0           1   \n",
       "55            73                         0          1           0   \n",
       "56            68                         0          1           0   \n",
       "57            62                         0          1           0   \n",
       "58            70                         0          1           1   \n",
       "59            74                         0          1           0   \n",
       "\n",
       "    VLE content visited  Lecture engagement  Lab engagement Classifier impl  \\\n",
       "50                 0.37                1.00            0.40        Ensemble   \n",
       "51                 0.55                0.75            0.75        Ensemble   \n",
       "52                 0.28                0.75            0.10            None   \n",
       "53                 0.38                0.75            0.25            K-NN   \n",
       "54                 0.00                0.00            0.00             NaN   \n",
       "55                 0.28                0.20            0.10            None   \n",
       "56                 0.49                0.75            0.40            K-NN   \n",
       "57                 0.37                0.25            0.00        Ensemble   \n",
       "58                 0.39                0.60            0.30            K-NN   \n",
       "59                 0.50                0.75            0.75        Ensemble   \n",
       "\n",
       "    Code mark  Report mark  Total mark  Class  \n",
       "50         18           63          81      1  \n",
       "51         15           65          80      1  \n",
       "52         10           20          30      0  \n",
       "53         10           40          50      1  \n",
       "54          0            0           0      0  \n",
       "55          0           55          55      0  \n",
       "56         20           35          55      1  \n",
       "57         25           10          35      0  \n",
       "58          5            5          10      0  \n",
       "59         25           45          70      1  "
      ]
     },
     "execution_count": 14,
     "metadata": {},
     "output_type": "execute_result"
    }
   ],
   "source": [
    "dataset.tail(10)"
   ]
  },
  {
   "cell_type": "code",
   "execution_count": 15,
   "metadata": {
    "ExecuteTime": {
     "end_time": "2021-10-05T08:46:59.772753Z",
     "start_time": "2021-10-05T08:46:59.738598Z"
    }
   },
   "outputs": [
    {
     "name": "stdout",
     "output_type": "stream",
     "text": [
      "Shape: (60, 12)\n",
      "\n",
      "<class 'pandas.core.frame.DataFrame'>\n",
      "RangeIndex: 60 entries, 0 to 59\n",
      "Data columns (total 12 columns):\n",
      " #   Column                    Non-Null Count  Dtype  \n",
      "---  ------                    --------------  -----  \n",
      " 0   L4 mean mark              60 non-null     int64  \n",
      " 1   Did formative assessment  60 non-null     int64  \n",
      " 2   Submitted                 60 non-null     int64  \n",
      " 3   Plagiarism                60 non-null     int64  \n",
      " 4   VLE content visited       60 non-null     float64\n",
      " 5   Lecture engagement        60 non-null     float64\n",
      " 6   Lab engagement            60 non-null     float64\n",
      " 7   Classifier impl           46 non-null     object \n",
      " 8   Code mark                 60 non-null     int64  \n",
      " 9   Report mark               60 non-null     int64  \n",
      " 10  Total mark                60 non-null     int64  \n",
      " 11  Class                     60 non-null     int64  \n",
      "dtypes: float64(3), int64(8), object(1)\n",
      "memory usage: 5.8+ KB\n",
      "None\n",
      "\n",
      "       L4 mean mark  Did formative assessment  Submitted  Plagiarism  \\\n",
      "count     60.000000                 60.000000  60.000000   60.000000   \n",
      "mean      71.583333                  0.300000   0.766667    0.100000   \n",
      "std       10.817894                  0.462125   0.426522    0.302532   \n",
      "min       48.000000                  0.000000   0.000000    0.000000   \n",
      "25%       65.000000                  0.000000   1.000000    0.000000   \n",
      "50%       71.500000                  0.000000   1.000000    0.000000   \n",
      "75%       77.250000                  1.000000   1.000000    0.000000   \n",
      "max       93.000000                  1.000000   1.000000    1.000000   \n",
      "\n",
      "       VLE content visited  Lecture engagement  Lab engagement  Code mark  \\\n",
      "count            60.000000           60.000000       60.000000  60.000000   \n",
      "mean              0.357000            0.590000        0.360833  12.700000   \n",
      "std               0.201404            0.322438        0.289519  11.119231   \n",
      "min               0.000000            0.000000        0.000000   0.000000   \n",
      "25%               0.272500            0.250000        0.100000   0.000000   \n",
      "50%               0.340000            0.750000        0.300000  11.000000   \n",
      "75%               0.412500            0.862500        0.500000  23.000000   \n",
      "max               1.000000            1.000000        1.000000  30.000000   \n",
      "\n",
      "       Report mark  Total mark      Class  \n",
      "count    60.000000   60.000000  60.000000  \n",
      "mean     31.800000   44.500000   0.500000  \n",
      "std      24.778203   34.374064   0.504219  \n",
      "min       0.000000    0.000000   0.000000  \n",
      "25%       5.000000    9.500000   0.000000  \n",
      "50%      33.500000   43.000000   0.500000  \n",
      "75%      55.500000   78.500000   1.000000  \n",
      "max      70.000000  100.000000   1.000000  \n"
     ]
    }
   ],
   "source": [
    "print(\"Shape:\",dataset.shape)\n",
    "print()\n",
    "print(dataset.info())\n",
    "print()\n",
    "print(dataset.describe())"
   ]
  },
  {
   "cell_type": "code",
   "execution_count": 16,
   "metadata": {
    "ExecuteTime": {
     "end_time": "2021-10-05T08:46:59.780722Z",
     "start_time": "2021-10-05T08:46:59.775101Z"
    }
   },
   "outputs": [
    {
     "name": "stdout",
     "output_type": "stream",
     "text": [
      "\n",
      "Info about the class\n",
      "\n",
      "count    60.000000\n",
      "mean      0.500000\n",
      "std       0.504219\n",
      "min       0.000000\n",
      "25%       0.000000\n",
      "50%       0.500000\n",
      "75%       1.000000\n",
      "max       1.000000\n",
      "Name: Class, dtype: float64 \n",
      "\n"
     ]
    }
   ],
   "source": [
    "print(\"\\nInfo about the class\\n\")\n",
    "print(dataset['Class'].describe(),\"\\n\")"
   ]
  },
  {
   "cell_type": "code",
   "execution_count": 17,
   "metadata": {
    "ExecuteTime": {
     "end_time": "2021-10-05T08:46:59.785897Z",
     "start_time": "2021-10-05T08:46:59.782346Z"
    }
   },
   "outputs": [
    {
     "name": "stdout",
     "output_type": "stream",
     "text": [
      "1    30\n",
      "0    30\n",
      "Name: Class, dtype: int64\n"
     ]
    }
   ],
   "source": [
    "print(dataset['Class'].value_counts())"
   ]
  },
  {
   "cell_type": "markdown",
   "metadata": {},
   "source": [
    "## Matplotlib"
   ]
  },
  {
   "cell_type": "code",
   "execution_count": 18,
   "metadata": {
    "ExecuteTime": {
     "end_time": "2021-10-05T08:47:00.171079Z",
     "start_time": "2021-10-05T08:46:59.787505Z"
    }
   },
   "outputs": [
    {
     "data": {
      "image/png": "[encoded data removed]",
      "text/plain": [
       "<Figure size 432x288 with 1 Axes>"
      ]
     },
     "metadata": {
      "needs_background": "light"
     },
     "output_type": "display_data"
    }
   ],
   "source": [
    "# a histogram for the 'Age' feature\n",
    "dataset['L4 mean mark'].plot(kind='hist', title='Level 4 mean mark distribution');"
   ]
  },
  {
   "cell_type": "code",
   "execution_count": 19,
   "metadata": {
    "ExecuteTime": {
     "end_time": "2021-10-05T08:47:00.314445Z",
     "start_time": "2021-10-05T08:47:00.172566Z"
    }
   },
   "outputs": [
    {
     "data": {
      "image/png": "[encoded data removed]",
      "text/plain": [
       "<Figure size 432x288 with 1 Axes>"
      ]
     },
     "metadata": {
      "needs_background": "light"
     },
     "output_type": "display_data"
    }
   ],
   "source": [
    "# a simple scatter plot for 'Resting blood pressure' vs 'Maximum heart rate'\n",
    "dataset.plot(kind='scatter', x='L4 mean mark', y='Total mark', title='Level 4 mean mark vs unit mark');"
   ]
  },
  {
   "cell_type": "code",
   "execution_count": 20,
   "metadata": {
    "ExecuteTime": {
     "end_time": "2021-10-05T08:47:00.423470Z",
     "start_time": "2021-10-05T08:47:00.316538Z"
    }
   },
   "outputs": [
    {
     "data": {
      "image/png": "[encoded data removed]",
      "text/plain": [
       "<Figure size 432x288 with 1 Axes>"
      ]
     },
     "metadata": {
      "needs_background": "light"
     },
     "output_type": "display_data"
    }
   ],
   "source": [
    "# a bar chart for the 'class' distribution\n",
    "dataset['Class'].value_counts().plot(kind='bar', title='Class distribution');"
   ]
  },
  {
   "cell_type": "markdown",
   "metadata": {},
   "source": [
    "## Exploratory Data Analysis\n",
    "\n",
    "This is a Jupyter Notebook for exploreing a medial dataset\n",
    "\n",
    "Some of the cells below already got code doing things for you.\n",
    "\n",
    "Some cells are empty for you to do _stuff_ in to **answer questions**!\n",
    "\n",
    "See lab task notes for the list of questions if you want to see them all in one place."
   ]
  },
  {
   "cell_type": "markdown",
   "metadata": {},
   "source": [
    "## Loading the dataset\n",
    "\n",
    "First, we load the dataset, then we can execute various functions to explore the data, calculate statistics and plot graphs."
   ]
  },
  {
   "cell_type": "code",
   "execution_count": 21,
   "metadata": {
    "ExecuteTime": {
     "end_time": "2021-10-05T08:47:00.437343Z",
     "start_time": "2021-10-05T08:47:00.424700Z"
    }
   },
   "outputs": [
    {
     "data": {
      "text/html": [
       "<div>\n",
       "<style scoped>\n",
       "    .dataframe tbody tr th:only-of-type {\n",
       "        vertical-align: middle;\n",
       "    }\n",
       "\n",
       "    .dataframe tbody tr th {\n",
       "        vertical-align: top;\n",
       "    }\n",
       "\n",
       "    .dataframe thead th {\n",
       "        text-align: right;\n",
       "    }\n",
       "</style>\n",
       "<table border=\"1\" class=\"dataframe\">\n",
       "  <thead>\n",
       "    <tr style=\"text-align: right;\">\n",
       "      <th></th>\n",
       "      <th>L4 mean mark</th>\n",
       "      <th>Did formative assessment</th>\n",
       "      <th>Submitted</th>\n",
       "      <th>Plagiarism</th>\n",
       "      <th>VLE content visited</th>\n",
       "      <th>Lecture engagement</th>\n",
       "      <th>Lab engagement</th>\n",
       "      <th>Classifier impl</th>\n",
       "      <th>Code mark</th>\n",
       "      <th>Report mark</th>\n",
       "      <th>Total mark</th>\n",
       "      <th>Class</th>\n",
       "    </tr>\n",
       "  </thead>\n",
       "  <tbody>\n",
       "    <tr>\n",
       "      <th>0</th>\n",
       "      <td>87</td>\n",
       "      <td>0</td>\n",
       "      <td>1</td>\n",
       "      <td>0</td>\n",
       "      <td>0.15</td>\n",
       "      <td>0.30</td>\n",
       "      <td>0.20</td>\n",
       "      <td>Ensemble</td>\n",
       "      <td>10</td>\n",
       "      <td>35</td>\n",
       "      <td>45</td>\n",
       "      <td>1</td>\n",
       "    </tr>\n",
       "    <tr>\n",
       "      <th>1</th>\n",
       "      <td>83</td>\n",
       "      <td>1</td>\n",
       "      <td>1</td>\n",
       "      <td>0</td>\n",
       "      <td>0.42</td>\n",
       "      <td>0.75</td>\n",
       "      <td>0.50</td>\n",
       "      <td>K-NN</td>\n",
       "      <td>28</td>\n",
       "      <td>68</td>\n",
       "      <td>96</td>\n",
       "      <td>1</td>\n",
       "    </tr>\n",
       "    <tr>\n",
       "      <th>2</th>\n",
       "      <td>75</td>\n",
       "      <td>0</td>\n",
       "      <td>1</td>\n",
       "      <td>0</td>\n",
       "      <td>0.38</td>\n",
       "      <td>1.00</td>\n",
       "      <td>0.80</td>\n",
       "      <td>Ensemble</td>\n",
       "      <td>28</td>\n",
       "      <td>55</td>\n",
       "      <td>83</td>\n",
       "      <td>1</td>\n",
       "    </tr>\n",
       "    <tr>\n",
       "      <th>3</th>\n",
       "      <td>77</td>\n",
       "      <td>1</td>\n",
       "      <td>1</td>\n",
       "      <td>0</td>\n",
       "      <td>0.80</td>\n",
       "      <td>1.00</td>\n",
       "      <td>0.90</td>\n",
       "      <td>Ensemble</td>\n",
       "      <td>30</td>\n",
       "      <td>62</td>\n",
       "      <td>92</td>\n",
       "      <td>1</td>\n",
       "    </tr>\n",
       "    <tr>\n",
       "      <th>4</th>\n",
       "      <td>65</td>\n",
       "      <td>0</td>\n",
       "      <td>1</td>\n",
       "      <td>1</td>\n",
       "      <td>0.34</td>\n",
       "      <td>0.50</td>\n",
       "      <td>0.15</td>\n",
       "      <td>K-NN</td>\n",
       "      <td>0</td>\n",
       "      <td>35</td>\n",
       "      <td>35</td>\n",
       "      <td>0</td>\n",
       "    </tr>\n",
       "  </tbody>\n",
       "</table>\n",
       "</div>"
      ],
      "text/plain": [
       "   L4 mean mark  Did formative assessment  Submitted  Plagiarism  \\\n",
       "0            87                         0          1           0   \n",
       "1            83                         1          1           0   \n",
       "2            75                         0          1           0   \n",
       "3            77                         1          1           0   \n",
       "4            65                         0          1           1   \n",
       "\n",
       "   VLE content visited  Lecture engagement  Lab engagement Classifier impl  \\\n",
       "0                 0.15                0.30            0.20        Ensemble   \n",
       "1                 0.42                0.75            0.50            K-NN   \n",
       "2                 0.38                1.00            0.80        Ensemble   \n",
       "3                 0.80                1.00            0.90        Ensemble   \n",
       "4                 0.34                0.50            0.15            K-NN   \n",
       "\n",
       "   Code mark  Report mark  Total mark  Class  \n",
       "0         10           35          45      1  \n",
       "1         28           68          96      1  \n",
       "2         28           55          83      1  \n",
       "3         30           62          92      1  \n",
       "4          0           35          35      0  "
      ]
     },
     "execution_count": 21,
     "metadata": {},
     "output_type": "execute_result"
    }
   ],
   "source": [
    "import pandas as pd\n",
    "\n",
    "dataset = pd.read_csv('data/ml-assessment-dataset.csv')\n",
    "dataset.head()"
   ]
  },
  {
   "cell_type": "markdown",
   "metadata": {},
   "source": [
    "## Exploring the dataset\n",
    "\n",
    "The overall aim for the data exploration here is to get a feel for some of the influences on the machine learning marks for past students.\n",
    "\n",
    "Let's focus on two features for this:\n",
    " * Class (1 = pass, 0 = fail)\n",
    " * Total mark (the total unit mark, range 0-100)\n",
    " * L4 mean mark (to mean mark across all 6 level 4 units)"
   ]
  },
  {
   "cell_type": "markdown",
   "metadata": {},
   "source": [
    "### General information\n",
    "\n",
    "Questions to answer:\n",
    "* How many instances are there in the dataset? --> 60 (from dataset.info())\n",
    "* What is the mean mark (total), including non-submissions? --> 44.50 (from dataset['Total mark'].describe())"
   ]
  },
  {
   "cell_type": "code",
   "execution_count": 22,
   "metadata": {
    "ExecuteTime": {
     "end_time": "2021-10-05T08:47:00.448260Z",
     "start_time": "2021-10-05T08:47:00.438862Z"
    }
   },
   "outputs": [
    {
     "name": "stdout",
     "output_type": "stream",
     "text": [
      "<class 'pandas.core.frame.DataFrame'>\n",
      "RangeIndex: 60 entries, 0 to 59\n",
      "Data columns (total 12 columns):\n",
      " #   Column                    Non-Null Count  Dtype  \n",
      "---  ------                    --------------  -----  \n",
      " 0   L4 mean mark              60 non-null     int64  \n",
      " 1   Did formative assessment  60 non-null     int64  \n",
      " 2   Submitted                 60 non-null     int64  \n",
      " 3   Plagiarism                60 non-null     int64  \n",
      " 4   VLE content visited       60 non-null     float64\n",
      " 5   Lecture engagement        60 non-null     float64\n",
      " 6   Lab engagement            60 non-null     float64\n",
      " 7   Classifier impl           46 non-null     object \n",
      " 8   Code mark                 60 non-null     int64  \n",
      " 9   Report mark               60 non-null     int64  \n",
      " 10  Total mark                60 non-null     int64  \n",
      " 11  Class                     60 non-null     int64  \n",
      "dtypes: float64(3), int64(8), object(1)\n",
      "memory usage: 5.8+ KB\n",
      "None\n",
      "count     60.000000\n",
      "mean      44.500000\n",
      "std       34.374064\n",
      "min        0.000000\n",
      "25%        9.500000\n",
      "50%       43.000000\n",
      "75%       78.500000\n",
      "max      100.000000\n",
      "Name: Total mark, dtype: float64\n"
     ]
    }
   ],
   "source": [
    "# TODO: answer the two questions with the following functions\n",
    "# .info()\n",
    "# .describe()\n",
    "\n",
    "print(dataset.info())\n",
    "print(dataset['Total mark'].describe())"
   ]
  },
  {
   "cell_type": "markdown",
   "metadata": {},
   "source": [
    "### Class (pass/fail) analysis\n",
    "\n",
    "Questions to answer:\n",
    "* Is the class balance equal? --> Yes\n",
    "* Which class is the MOST represented in the dataset? --> Neither, the classes are equally represented\n",
    "* How many students passed? 30 (out of 60)"
   ]
  },
  {
   "cell_type": "code",
   "execution_count": 23,
   "metadata": {
    "ExecuteTime": {
     "end_time": "2021-10-05T08:47:00.459233Z",
     "start_time": "2021-10-05T08:47:00.454635Z"
    }
   },
   "outputs": [
    {
     "name": "stdout",
     "output_type": "stream",
     "text": [
      "1    30\n",
      "0    30\n",
      "Name: Class, dtype: int64\n",
      "\n",
      "The number of students passing: 30\n"
     ]
    }
   ],
   "source": [
    "# NUMERIC OUTPUT FOR CLASS BALANCE (NUMBER OF VALUES/INSTANCES FOR EACH CLASS)\n",
    "print(dataset['Class'].value_counts())\n",
    "\n",
    "# Or, alternatively if you know which class you want\n",
    "print(\"\\nThe number of students passing:\",dataset['Class'].value_counts()[1])"
   ]
  },
  {
   "cell_type": "code",
   "execution_count": 24,
   "metadata": {
    "ExecuteTime": {
     "end_time": "2021-10-05T08:47:00.574979Z",
     "start_time": "2021-10-05T08:47:00.463020Z"
    }
   },
   "outputs": [
    {
     "data": {
      "image/png": "[encoded data removed]",
      "text/plain": [
       "<Figure size 576x360 with 1 Axes>"
      ]
     },
     "metadata": {
      "needs_background": "light"
     },
     "output_type": "display_data"
    }
   ],
   "source": [
    "# CHART FOR CLASS DISTRIBUTION\n",
    "import matplotlib.pyplot as plt\n",
    "\n",
    "plt.rcParams.update({'font.size': 12, 'figure.figsize': (8, 5)}) # set font and plot size for chart\n",
    "plt.ylabel('Frequency') # label for y axis\n",
    "dataset['Class'].value_counts().plot(kind=\"bar\"); # plots a bar chart for the two classes"
   ]
  },
  {
   "cell_type": "markdown",
   "metadata": {},
   "source": [
    "### Mark analysis\n",
    "\n",
    "Questions to answer:\n",
    "\n",
    "* What is the mean mark (total), including non-submissions?  -->  44.05\n",
    "* What is the mean mark (total), excluding non-submissions?  -->  58.04\n",
    "* What is the mean level 4 mark for the students who passed?  -->  64.10\n",
    "* What is the mean level 4 mark for the students who failed?  -->  79.07"
   ]
  },
  {
   "cell_type": "code",
   "execution_count": 25,
   "metadata": {
    "ExecuteTime": {
     "end_time": "2021-10-05T08:47:00.579683Z",
     "start_time": "2021-10-05T08:47:00.576565Z"
    }
   },
   "outputs": [
    {
     "name": "stdout",
     "output_type": "stream",
     "text": [
      "44.5\n"
     ]
    }
   ],
   "source": [
    "# To get the mean of a specific feature/column, you can use this format:\n",
    "#   dataset['COLUMN_NAME'].mean()\n",
    "\n",
    "print(dataset['Total mark'].mean())"
   ]
  },
  {
   "cell_type": "code",
   "execution_count": 26,
   "metadata": {
    "ExecuteTime": {
     "end_time": "2021-10-05T08:47:00.587465Z",
     "start_time": "2021-10-05T08:47:00.581325Z"
    }
   },
   "outputs": [
    {
     "name": "stdout",
     "output_type": "stream",
     "text": [
      "58.04347826086956\n",
      "Class\n",
      "0    64.100000\n",
      "1    79.066667\n",
      "Name: L4 mean mark, dtype: float64\n"
     ]
    }
   ],
   "source": [
    "# TODO: Have a go at using one of these functions for the first 2 questions\n",
    "#\n",
    "#    dataset['COLUMN_NAME_FOR_THE_VALUES_YOU_WANT'][dataset['COLUMN_NAME_TO_FILTER_BY'] == FILTER_VALUE_YOU_WANT].mean()\n",
    "#    dataset.groupby('COLUMN_NAME_TO_GROUP_BY')['COLUMN_NAME_FOR_THE_VALUES_YOU_WANT'].mean()\n",
    "#\n",
    "# For example, the following would print out the mean age of ANYBODY (female and male) without heart diseas\n",
    "#   \n",
    "#    print(dataset['Total mark'][dataset['Class'] == 0].mean())\n",
    "#    print(dataset.groupby('Class')['Total mark'].mean())\n",
    "#\n",
    "# In the examples above, you want to find out the mean ages for genders, not the class (for the first 2 questions)\n",
    "# Remember, column names are case sensitive\n",
    "\n",
    "# Mean mark for those submitted (excluding non-submissions)\n",
    "print(dataset['Total mark'][dataset['Submitted'] == 1].mean())\n",
    "\n",
    "# Mean level 4 mark for those students who passed vs failed\n",
    "print(dataset.groupby('Class')['L4 mean mark'].mean())"
   ]
  },
  {
   "cell_type": "markdown",
   "metadata": {},
   "source": [
    "### BONUS\n",
    "\n",
    "Plotting an overlapping histogram can be really insightful!"
   ]
  },
  {
   "cell_type": "code",
   "execution_count": 27,
   "metadata": {
    "ExecuteTime": {
     "end_time": "2021-10-05T08:47:00.822598Z",
     "start_time": "2021-10-05T08:47:00.589132Z"
    }
   },
   "outputs": [
    {
     "data": {
      "image/png": "[encoded data removed]",
      "text/plain": [
       "<Figure size 576x360 with 2 Axes>"
      ]
     },
     "metadata": {
      "needs_background": "light"
     },
     "output_type": "display_data"
    }
   ],
   "source": [
    "# This will give you two diagrams, which will look similar until you notice the different scales on the y axis!\n",
    "dataset['L4 mean mark'].hist(by=dataset['Class'], alpha=0.5);"
   ]
  },
  {
   "cell_type": "code",
   "execution_count": 28,
   "metadata": {
    "ExecuteTime": {
     "end_time": "2021-10-05T08:47:01.034143Z",
     "start_time": "2021-10-05T08:47:00.824503Z"
    }
   },
   "outputs": [
    {
     "data": {
      "image/png": "[encoded data removed]",
      "text/plain": [
       "<Figure size 576x360 with 1 Axes>"
      ]
     },
     "metadata": {
      "needs_background": "light"
     },
     "output_type": "display_data"
    }
   ],
   "source": [
    "# So, check out this one... What does this tell you?\n",
    "dataset.groupby('Class')['L4 mean mark'].plot(kind='hist', alpha=0.5, title='L4 mark distribution based on passing (1) or failing (0) this unit', legend=True);"
   ]
  },
  {
   "cell_type": "markdown",
   "metadata": {},
   "source": [
    "If you want to calculate pass rates, you could do something like this"
   ]
  },
  {
   "cell_type": "code",
   "execution_count": 53,
   "metadata": {
    "ExecuteTime": {
     "end_time": "2021-10-05T09:03:51.033723Z",
     "start_time": "2021-10-05T09:03:51.027755Z"
    }
   },
   "outputs": [
    {
     "name": "stdout",
     "output_type": "stream",
     "text": [
      "Number of students (total):   60\n",
      "Number of students submitted: 46\n",
      "Number of students passed:    30\n",
      "Pass rate (including NS):     0.5\n",
      "Pass rate (excluding NS):     0.6521739130434783\n"
     ]
    }
   ],
   "source": [
    "# Get the number of students (i.e., the number of rows in the pandas dataframe)\n",
    "num_students_tot = len(dataset.index)\n",
    "print(\"Number of students (total):  \", num_students_tot)\n",
    "\n",
    "# Get the number of students who submitted\n",
    "num_students_sub = dataset['Submitted'].value_counts()[1]\n",
    "print(\"Number of students submitted:\", num_students_sub)\n",
    "\n",
    "# Get the number of students who passed (we did this above already)\n",
    "num_students_pass = dataset['Class'].value_counts()[1]\n",
    "print(\"Number of students passed:   \", num_students_pass)\n",
    "\n",
    "# And, from that, we get the pass rates ^_^\n",
    "print(\"Pass rate (including NS):    \", num_students_pass/num_students_tot)\n",
    "print(\"Pass rate (excluding NS):    \", num_students_pass/num_students_sub)"
   ]
  },
  {
   "cell_type": "markdown",
   "metadata": {},
   "source": [
    "## Analysis of Anscombe's Quartet\n",
    "\n",
    "There are many ways you can play around with the data and have a look at it, e.g.,\n",
    "\n",
    "1. a hardcoded approach using numpy and matplotlib\n",
    "2. an approach using pandas and reading directly from Excel\n",
    "\n",
    "The example code below uses option 1 just to keep it simpler here."
   ]
  },
  {
   "cell_type": "code",
   "execution_count": 29,
   "metadata": {
    "ExecuteTime": {
     "end_time": "2021-10-05T08:47:01.041761Z",
     "start_time": "2021-10-05T08:47:01.035930Z"
    }
   },
   "outputs": [],
   "source": [
    "import numpy as np\n",
    "from scipy import stats\n",
    "from numpy.polynomial.polynomial import polyfit\n",
    "import matplotlib.pyplot as plt\n",
    "\n",
    "# Anscombe's 1st data set\n",
    "x1 = np.array([10, 8, 13, 9, 11, 14, 6, 4, 12, 7, 5])\n",
    "y1 = np.array([8.04, 6.95, 7.58, 8.81, 8.33, 9.96, 7.24, 4.26, 10.84, 4.82, 5.68])\n",
    "\n",
    "# Anscombe's 2nd data set\n",
    "x2 = np.array([10, 8, 13, 9, 11, 14, 6, 4, 12, 7, 5])\n",
    "y2 = np.array([9.14, 8.14, 8.74, 8.77, 9.26, 8.1, 6.13, 3.1, 9.13, 7.26, 4.74])\n",
    "\n",
    "# TODO: Anscombe's 3rd dataset\n",
    "x3 = np.array([10, 8, 13, 9, 11, 14, 6, 4, 12, 7, 5])\n",
    "y3 = np.array([7.46, 6.77, 12.74, 7.11, 7.81, 8.84, 6.08, 5.39, 8.15, 6.42, 5.73])\n",
    "\n",
    "# TODO: Anscombe's 4th dataset\n",
    "x4 = np.array([8, 8, 8, 8, 8, 8, 8, 19, 8, 8, 8])\n",
    "y4 = np.array([6.58, 5.76, 7.71, 8.84, 8.47, 7.04, 5.25, 12.5, 5.56, 7.91, 6.89])"
   ]
  },
  {
   "cell_type": "markdown",
   "metadata": {},
   "source": [
    "### Print out the stats\n",
    "\n",
    "* mean\n",
    "* median\n",
    "* mode\n",
    "* variance\n",
    "* standard deviation"
   ]
  },
  {
   "cell_type": "code",
   "execution_count": 30,
   "metadata": {
    "ExecuteTime": {
     "end_time": "2021-10-05T08:47:01.050950Z",
     "start_time": "2021-10-05T08:47:01.043036Z"
    }
   },
   "outputs": [
    {
     "name": "stdout",
     "output_type": "stream",
     "text": [
      "Anscombe stats\n",
      "\n",
      "\t\t\t Ans-1 \t Ans-2 \t Ans-3 \t Ans-4\n",
      "\t mean \t\t 7.501 \t 7.501 \t 7.5 \t 7.501\n",
      "\t median \t 7.58 \t 8.14 \t 7.11 \t 7.04\n",
      "\t mode \t\t 4.26 \t 3.1 \t 5.39 \t 5.25\n",
      "\t variance \t 3.752 \t 3.752 \t 3.748 \t 3.748\n",
      "\t stdev \t\t 1.937 \t 1.937 \t 1.936 \t 1.936\n"
     ]
    }
   ],
   "source": [
    "print(\"Anscombe stats\\n\")\n",
    "print(\"\\t\\t\\t Ans-1 \\t Ans-2 \\t Ans-3 \\t Ans-4\")\n",
    "print(\"\\t mean \\t\\t\", round(y1.mean(),3), \"\\t\", round(y2.mean(),3), \"\\t\", round(y3.mean(),3), \"\\t\", round(y4.mean(),3))\n",
    "print(\"\\t median \\t\", round(np.median(y1),3), \"\\t\", round(np.median(y2),3), \"\\t\", round(np.median(y3),3), \"\\t\", round(np.median(y4),3))\n",
    "print(\"\\t mode \\t\\t\", round(stats.mode(y1)[0][0],3), \"\\t\", round(stats.mode(y2)[0][0],3), \"\\t\", round(stats.mode(y3)[0][0],3), \"\\t\", round(stats.mode(y4)[0][0],3))\n",
    "print(\"\\t variance \\t\", round(np.var(y1),3), \"\\t\", round(np.var(y2),3), \"\\t\", round(np.var(y3),3), \"\\t\", round(np.var(y4),3))\n",
    "print(\"\\t stdev \\t\\t\", round(np.std(y1),3), \"\\t\", round(np.std(y2),3), \"\\t\", round(np.std(y3),3), \"\\t\", round(np.std(y4),3))"
   ]
  },
  {
   "cell_type": "markdown",
   "metadata": {},
   "source": [
    "The above is a great example of something that's repetitive, with a lot of copy-paste, which is error prone.\n",
    "\n",
    "So, how about something a bit more programmatic / automatic?"
   ]
  },
  {
   "cell_type": "code",
   "execution_count": 31,
   "metadata": {
    "ExecuteTime": {
     "end_time": "2021-10-05T08:47:01.057962Z",
     "start_time": "2021-10-05T08:47:01.052227Z"
    }
   },
   "outputs": [
    {
     "name": "stdout",
     "output_type": "stream",
     "text": [
      "Anscombe stats\n",
      "\n",
      "\t\t\tAns-1 \tAns-2 \tAns-3 \tAns-4\n",
      "\t mean \t\t7.501\t7.501\t7.5\t7.501\n",
      "\t median \t7.58\t8.14\t7.11\t7.04\n",
      "\t mode \t\t4.26\t3.1\t5.39\t5.25\n",
      "\t variance \t3.752\t3.752\t3.748\t3.748\n",
      "\t stdev \t\t1.937\t1.937\t1.936\t1.936\n"
     ]
    }
   ],
   "source": [
    "# First, let's just put our y datasets into a list, so we can iterate over them in a bit\n",
    "y_list = [y1, y2, y3, y4]\n",
    "\n",
    "# Second, let's build a string since Python prints a new line by default\n",
    "# We need to add new lines specifically then using \\n\n",
    "output_string  = \"Anscombe stats\\n\\n\"\n",
    "output_string += \"\\t\\t\\tAns-1 \\tAns-2 \\tAns-3 \\tAns-4\\n\"\n",
    "\n",
    "output_string += \"\\t mean \\t\"\n",
    "for y in y_list:\n",
    "    output_string += \"\\t\" + str(round(y.mean(),3))\n",
    "\n",
    "output_string += \"\\n\\t median \"\n",
    "for y in y_list:\n",
    "    output_string += \"\\t\" + str(round(np.median(y),3))\n",
    "\n",
    "output_string += \"\\n\\t mode \\t\"\n",
    "for y in y_list:\n",
    "    output_string += \"\\t\" + str(round(stats.mode(y)[0][0],3))\n",
    "\n",
    "output_string += \"\\n\\t variance \"\n",
    "for y in y_list:\n",
    "    output_string += \"\\t\" + str(round(np.var(y),3))\n",
    "\n",
    "output_string += \"\\n\\t stdev \\t\"\n",
    "for y in y_list:\n",
    "    output_string += \"\\t\" + str(round(np.std(y),3))\n",
    "\n",
    "print(output_string)"
   ]
  },
  {
   "cell_type": "markdown",
   "metadata": {},
   "source": [
    "### Plot regression lines\n",
    "\n",
    "This is more challenging, but you can use the following code as the basis for:\n",
    "\n",
    "* Calculate/create regression lines for the 3rd and 4th datasets (that you added above)\n",
    "* Change the subplot configuration to a 2 x 2 grid (currently 1 x 2)\n",
    "* Plot the 3rd and 4th datasets (as subplots with the 1st and 2nd datasets)\n",
    "\n",
    "**REFLECT** on the stats above and what you see in the images."
   ]
  },
  {
   "cell_type": "code",
   "execution_count": 32,
   "metadata": {
    "ExecuteTime": {
     "end_time": "2021-10-05T08:47:01.414450Z",
     "start_time": "2021-10-05T08:47:01.059426Z"
    }
   },
   "outputs": [
    {
     "data": {
      "text/plain": [
       "Text(0, 0.5, 'y')"
      ]
     },
     "execution_count": 32,
     "metadata": {},
     "output_type": "execute_result"
    },
    {
     "data": {
      "image/png": "[encoded data removed]",
      "text/plain": [
       "<Figure size 1152x432 with 4 Axes>"
      ]
     },
     "metadata": {
      "needs_background": "light"
     },
     "output_type": "display_data"
    }
   ],
   "source": [
    "# Linear regression lines\n",
    "b1, m1 = polyfit(x1, y1, 1)\n",
    "b2, m2 = polyfit(x2, y2, 1)\n",
    "b3, m3 = polyfit(x3, y3, 1)\n",
    "b4, m4 = polyfit(x4, y4, 1)\n",
    "\n",
    "# Setting up figure with two sub-plots\n",
    "fig, axs = plt.subplots(1, 4, figsize=(16, 6), sharey=True) # changed here to 4 sub-lots (second argument)\n",
    "fig.suptitle(\"Anscombe's Quartet\")\n",
    "\n",
    "# Adding figure for Ans-1\n",
    "axs[0].plot(x1, y1, '.')\n",
    "axs[0].plot(x1, b1 + m1 * x1, '-')\n",
    "axs[0].set_xlabel('x')\n",
    "axs[0].set_ylabel('y')\n",
    "\n",
    "# Adding figure for Ans-2\n",
    "axs[1].plot(x2, y2, '.')\n",
    "axs[1].plot(x2, b2 + m2 * x2, '-')\n",
    "axs[1].set_xlabel('x')\n",
    "axs[1].set_ylabel('y')\n",
    "\n",
    "# Adding figure for Ans-3\n",
    "axs[2].plot(x3, y3, '.')\n",
    "axs[2].plot(x3, b3 + m3 * x3, '-')\n",
    "axs[2].set_xlabel('x')\n",
    "axs[2].set_ylabel('y')\n",
    "\n",
    "# Adding figure for Ans-4\n",
    "axs[3].plot(x4, y4, '.')\n",
    "axs[3].plot(x4, b4 + m4 * x4, '-')\n",
    "axs[3].set_xlabel('x')\n",
    "axs[3].set_ylabel('y')"
   ]
  },
  {
   "cell_type": "markdown",
   "metadata": {},
   "source": [
    "### ALTERNATIVE - PROGRAMMATIC APPROACH!\n",
    "\n",
    "The above approach was manual. Time consuming to do something repetitive!\n",
    "\n",
    "And the 4 plots in a row wasn't great, was it?\n",
    "\n",
    "So, let's do some code that automates this for us, reading in the data from excel to begin with.\n",
    "\n",
    "You need to install ``xlrd`` for this, e.g.,\n",
    "\n",
    "```\n",
    "$ pip3 install xlrd\n",
    "```\n",
    "\n",
    "The following code then processes each dataset (excel sheet) and creates plots, and adds them to a 2x2 grid visualisation."
   ]
  },
  {
   "cell_type": "code",
   "execution_count": 33,
   "metadata": {
    "ExecuteTime": {
     "end_time": "2021-10-05T08:47:01.844869Z",
     "start_time": "2021-10-05T08:47:01.415830Z"
    }
   },
   "outputs": [
    {
     "name": "stdout",
     "output_type": "stream",
     "text": [
      "Sheet names: ['Info', 'Ans-1', 'Ans-2', 'Ans-3', 'Ans-4']\n"
     ]
    },
    {
     "data": {
      "image/png": "[encoded data removed]",
      "text/plain": [
       "<Figure size 1152x864 with 4 Axes>"
      ]
     },
     "metadata": {
      "needs_background": "light"
     },
     "output_type": "display_data"
    }
   ],
   "source": [
    "import numpy as np\n",
    "from numpy.polynomial.polynomial import polyfit\n",
    "import pandas as pd\n",
    "import matplotlib.pyplot as plt\n",
    "\n",
    "def get_plot_indices(idx):\n",
    "    \"\"\"\n",
    "    A functio nto get the sub-plot indices (based on the idx of the dataset)\n",
    "    \"\"\"\n",
    "    \n",
    "    if idx == 0:\n",
    "        return 0, 0 # top left\n",
    "    elif idx == 1:\n",
    "        return 0, 1 # top right\n",
    "    elif idx == 2:\n",
    "        return 1, 0 # bottom left\n",
    "    else:\n",
    "        return 1, 1 # bottom right\n",
    "    \n",
    "\n",
    "def generate_sub_plot(excel_file, axs, idx):\n",
    "    \"\"\"\n",
    "    A function to generate a sub plot...\n",
    "    \"\"\"\n",
    "    \n",
    "    # Getting the data frame for the sheet\n",
    "    anscombe_df = excel_file.parse(\"Ans-\"+str(idx+1))\n",
    "    # print(anscombe_df)\n",
    "    \n",
    "    # Getting x and y vectors for the sheet\n",
    "    x = anscombe_df[\"x\"+str(idx+1)].values\n",
    "    y = anscombe_df[\"y\"+str(idx+1)].values\n",
    "    \n",
    "    # Linear regression line\n",
    "    b, m = polyfit(x, y, 1)\n",
    "    \n",
    "    # Adding figure\n",
    "    plot_row, plot_col = get_plot_indices(idx)\n",
    "    axs[plot_row, plot_col].plot(x, y, '.')\n",
    "    axs[plot_row, plot_col].plot(x, b + m * x, '-')\n",
    "    axs[plot_row, plot_col].set_xlabel('x')\n",
    "    axs[plot_row, plot_col].set_ylabel('y')\n",
    "    \n",
    "\n",
    "# main logic here, starting with reading the Excel file\n",
    "excel_file = pd.ExcelFile(\"data/anscombe-data.xlsx\")\n",
    "print(\"Sheet names:\",excel_file.sheet_names)\n",
    "\n",
    "# Setting up a figure with 4 sub-plots\n",
    "fig, axs = plt.subplots(2, 2, figsize=(16, 12), sharey=True)\n",
    "fig.suptitle(\"Anscombe's Quartet\")\n",
    "plt.axis([0, 20, 0, 15])\n",
    "\n",
    "# iterate over the sheets (-1 to avoid the info sheet) and generate sub-plots\n",
    "for i in range(len(excel_file.sheet_names)-1):\n",
    "    \n",
    "    generate_sub_plot(excel_file, axs, i)"
   ]
  },
  {
   "cell_type": "code",
   "execution_count": null,
   "metadata": {},
   "outputs": [],
   "source": []
  }
 ],
 "metadata": {
  "kernelspec": {
   "display_name": "Python 3",
   "language": "python",
   "name": "python3"
  },
  "language_info": {
   "codemirror_mode": {
    "name": "ipython",
    "version": 3
   },
   "file_extension": ".py",
   "mimetype": "text/x-python",
   "name": "python",
   "nbconvert_exporter": "python",
   "pygments_lexer": "ipython3",
   "version": "3.8.8"
  },
  "toc": {
   "base_numbering": 1,
   "nav_menu": {},
   "number_sections": true,
   "sideBar": true,
   "skip_h1_title": false,
   "title_cell": "Table of Contents",
   "title_sidebar": "Contents",
   "toc_cell": false,
   "toc_position": {
    "height": "calc(100% - 180px)",
    "left": "10px",
    "top": "150px",
    "width": "384px"
   },
   "toc_section_display": true,
   "toc_window_display": true
  },
  "varInspector": {
   "cols": {
    "lenName": 16,
    "lenType": 16,
    "lenVar": 40
   },
   "kernels_config": {
    "python": {
     "delete_cmd_postfix": "",
     "delete_cmd_prefix": "del ",
     "library": "var_list.py",
     "varRefreshCmd": "print(var_dic_list())"
    },
    "r": {
     "delete_cmd_postfix": ") ",
     "delete_cmd_prefix": "rm(",
     "library": "var_list.r",
     "varRefreshCmd": "cat(var_dic_list()) "
    }
   },
   "types_to_exclude": [
    "module",
    "function",
    "builtin_function_or_method",
    "instance",
    "_Feature"
   ],
   "window_display": false
  }
 },
 "nbformat": 4,
 "nbformat_minor": 2
}
