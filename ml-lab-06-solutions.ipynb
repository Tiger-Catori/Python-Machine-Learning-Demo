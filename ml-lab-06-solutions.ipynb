{
 "cells": [
  {
   "cell_type": "markdown",
   "metadata": {},
   "source": [
    "# Machine Learning Lab 6\n",
    "\n",
    "Classification and group coding exercise.\n",
    "\n",
    "## Imports"
   ]
  },
  {
   "cell_type": "code",
   "execution_count": null,
   "metadata": {},
   "outputs": [],
   "source": []
  },
  {
   "cell_type": "code",
   "execution_count": 4,
   "metadata": {
    "ExecuteTime": {
     "end_time": "2021-11-03T11:33:50.402968Z",
     "start_time": "2021-11-03T11:33:48.877725Z"
    }
   },
   "outputs": [
    {
     "ename": "ModuleNotFoundError",
     "evalue": "No module named 'classifiers'",
     "output_type": "error",
     "traceback": [
      "\u001b[1;31m---------------------------------------------------------------------------\u001b[0m",
      "\u001b[1;31mModuleNotFoundError\u001b[0m                       Traceback (most recent call last)",
      "\u001b[1;32m<ipython-input-4-bd890fe5a4fd>\u001b[0m in \u001b[0;36m<module>\u001b[1;34m\u001b[0m\n\u001b[0;32m     16\u001b[0m \u001b[1;31m# Classifiers\u001b[0m\u001b[1;33m\u001b[0m\u001b[1;33m\u001b[0m\u001b[1;33m\u001b[0m\u001b[0m\n\u001b[0;32m     17\u001b[0m \u001b[1;32mfrom\u001b[0m \u001b[0msklearn\u001b[0m\u001b[1;33m.\u001b[0m\u001b[0mneighbors\u001b[0m \u001b[1;32mimport\u001b[0m \u001b[0mKNeighborsClassifier\u001b[0m\u001b[1;33m\u001b[0m\u001b[1;33m\u001b[0m\u001b[0m\n\u001b[1;32m---> 18\u001b[1;33m \u001b[1;32mfrom\u001b[0m \u001b[0mclassifiers\u001b[0m \u001b[1;32mimport\u001b[0m \u001b[0mk_nearest_neighbour\u001b[0m \u001b[1;31m# the K-NN python file in the 'classifiers' folder\u001b[0m\u001b[1;33m\u001b[0m\u001b[1;33m\u001b[0m\u001b[0m\n\u001b[0m\u001b[0;32m     19\u001b[0m \u001b[1;32mfrom\u001b[0m \u001b[0mclassifiers\u001b[0m \u001b[1;32mimport\u001b[0m \u001b[0mrandom_classifier\u001b[0m \u001b[1;31m# the Random Classifier python file in the 'classifiers' folder\u001b[0m\u001b[1;33m\u001b[0m\u001b[1;33m\u001b[0m\u001b[0m\n\u001b[0;32m     20\u001b[0m \u001b[1;33m\u001b[0m\u001b[0m\n",
      "\u001b[1;31mModuleNotFoundError\u001b[0m: No module named 'classifiers'"
     ]
    }
   ],
   "source": [
    "# Data and Datasets\n",
    "import pandas as pd\n",
    "from sklearn.datasets import load_iris\n",
    "from sklearn.datasets import load_wine\n",
    "\n",
    "# Validation methods\n",
    "from sklearn.model_selection import train_test_split\n",
    "from sklearn.model_selection import cross_val_score\n",
    "from sklearn.model_selection import cross_validate\n",
    "\n",
    "# Metrics\n",
    "from sklearn import metrics\n",
    "from sklearn.metrics import make_scorer\n",
    "from sklearn.metrics import accuracy_score\n",
    "\n",
    "# Classifiers\n",
    "from sklearn.neighbors import KNeighborsClassifier\n",
    "from classifiers import k_nearest_neighbour # the K-NN python file in the 'classifiers' folder\n",
    "from classifiers import random_classifier # the Random Classifier python file in the 'classifiers' folder\n",
    "\n",
    "# Plotting & utils\n",
    "import pprint\n",
    "import matplotlib.pyplot as plt\n",
    "import numpy as np\n",
    "from time import time"
   ]
  },
  {
   "cell_type": "code",
   "execution_count": 5,
   "metadata": {
    "ExecuteTime": {
     "end_time": "2021-11-03T11:33:50.410689Z",
     "start_time": "2021-11-03T11:33:50.405297Z"
    }
   },
   "outputs": [],
   "source": [
    "# Loading dataset\n",
    "dataset = load_iris()\n",
    "X = dataset.data\n",
    "y = dataset.target"
   ]
  },
  {
   "cell_type": "markdown",
   "metadata": {},
   "source": [
    "## Random Classifier"
   ]
  },
  {
   "cell_type": "code",
   "execution_count": 6,
   "metadata": {
    "ExecuteTime": {
     "end_time": "2021-11-03T11:33:50.420919Z",
     "start_time": "2021-11-03T11:33:50.412422Z"
    }
   },
   "outputs": [
    {
     "ename": "NameError",
     "evalue": "name 'random_classifier' is not defined",
     "output_type": "error",
     "traceback": [
      "\u001b[1;31m---------------------------------------------------------------------------\u001b[0m",
      "\u001b[1;31mNameError\u001b[0m                                 Traceback (most recent call last)",
      "\u001b[1;32m<ipython-input-6-ec36ef5dca16>\u001b[0m in \u001b[0;36m<module>\u001b[1;34m\u001b[0m\n\u001b[0;32m      8\u001b[0m \u001b[1;33m\u001b[0m\u001b[0m\n\u001b[0;32m      9\u001b[0m \u001b[1;31m# Instantiating model\u001b[0m\u001b[1;33m\u001b[0m\u001b[1;33m\u001b[0m\u001b[1;33m\u001b[0m\u001b[0m\n\u001b[1;32m---> 10\u001b[1;33m \u001b[0mmodel\u001b[0m \u001b[1;33m=\u001b[0m \u001b[0mrandom_classifier\u001b[0m\u001b[1;33m.\u001b[0m\u001b[0mRandomClassifier\u001b[0m\u001b[1;33m(\u001b[0m\u001b[1;33m)\u001b[0m\u001b[1;33m\u001b[0m\u001b[1;33m\u001b[0m\u001b[0m\n\u001b[0m\u001b[0;32m     11\u001b[0m \u001b[1;33m\u001b[0m\u001b[0m\n\u001b[0;32m     12\u001b[0m \u001b[1;31m# Training model\u001b[0m\u001b[1;33m\u001b[0m\u001b[1;33m\u001b[0m\u001b[1;33m\u001b[0m\u001b[0m\n",
      "\u001b[1;31mNameError\u001b[0m: name 'random_classifier' is not defined"
     ]
    }
   ],
   "source": [
    "# Splitting dataset for hold-out validation\n",
    "X_train, X_test, y_train, y_test = train_test_split(X, # feature matrix\n",
    "                                                    y, # label vector\n",
    "                                                    test_size=0.2, # 20% test / 80% traing\n",
    "                                                    random_state=1, # fixed random seed\n",
    "                                                    stratify=dataset.target # split dataset proportional to classes\n",
    "                                                   )\n",
    "\n",
    "# Instantiating model\n",
    "model = random_classifier.RandomClassifier()\n",
    "\n",
    "# Training model\n",
    "model = model.fit(X_train, y_train)\n",
    "\n",
    "# Testing model\n",
    "y_pred = model.predict(X_test)\n",
    "\n",
    "# Printing out confusion matrix and accuracy\n",
    "print(metrics.confusion_matrix(y_test, y_pred))\n",
    "print(\"\\nAccuracy (Testing):  %0.2f \" % (metrics.accuracy_score(y_test, y_pred)))"
   ]
  },
  {
   "cell_type": "markdown",
   "metadata": {},
   "source": [
    "## Bespoke K-NN"
   ]
  },
  {
   "cell_type": "code",
   "execution_count": 9,
   "metadata": {
    "ExecuteTime": {
     "end_time": "2021-11-03T11:33:50.457915Z",
     "start_time": "2021-11-03T11:33:50.423194Z"
    }
   },
   "outputs": [
    {
     "name": "stdout",
     "output_type": "stream",
     "text": [
      "[[10  0  0]\n",
      " [ 0 15  0]\n",
      " [ 0  0 13]]\n",
      "\n",
      "Accuracy (Testing):  1.00 \n"
     ]
    }
   ],
   "source": [
    "# Splitting dataset for hold-out validation\n",
    "X_train, X_test, y_train, y_test = train_test_split(X,y)\n",
    "\n",
    "# Instantiating model\n",
    "model = KNeighborsClassifier(n_neighbors=k)\n",
    "\n",
    "# Training model\n",
    "model = model.fit(X_train, y_train)\n",
    "\n",
    "# Testing model\n",
    "y_pred = model.predict(X_test)\n",
    "\n",
    "# Printing out confusion matrix and accuracy\n",
    "print(metrics.confusion_matrix(y_test, y_pred))\n",
    "print(\"\\nAccuracy (Testing):  %0.2f \" % (metrics.accuracy_score(y_test, y_pred)))"
   ]
  },
  {
   "cell_type": "markdown",
   "metadata": {},
   "source": [
    "## Evaluation\n",
    "\n",
    "Lab tasks on hold-out and cross-validation, etc.\n",
    "\n",
    "Doing this on the ``wine`` dataset only."
   ]
  },
  {
   "cell_type": "code",
   "execution_count": null,
   "metadata": {
    "ExecuteTime": {
     "end_time": "2021-11-03T11:33:50.485879Z",
     "start_time": "2021-11-03T11:33:50.462313Z"
    }
   },
   "outputs": [],
   "source": [
    "# Loading dataset\n",
    "dataset = load_wine()\n",
    "X = dataset.data\n",
    "y = dataset.target\n",
    "\n",
    "# Converting into a Pandas DataFrame\n",
    "wine_df = pd.DataFrame(data= np.c_[X, y], columns= dataset['feature_names'] + ['target'])\n",
    "\n",
    "# Converting the target column to int (from float)\n",
    "wine_df['target'] = pd.to_numeric(wine_df['target'], downcast='integer')\n",
    "\n",
    "# Printing out the top 5 rows of the DataFrame\n",
    "wine_df.head()"
   ]
  },
  {
   "cell_type": "code",
   "execution_count": null,
   "metadata": {
    "ExecuteTime": {
     "end_time": "2021-11-03T11:33:50.497970Z",
     "start_time": "2021-11-03T11:33:50.488515Z"
    }
   },
   "outputs": [],
   "source": [
    "wine_df.info()"
   ]
  },
  {
   "cell_type": "code",
   "execution_count": null,
   "metadata": {
    "ExecuteTime": {
     "end_time": "2021-11-03T11:33:50.551289Z",
     "start_time": "2021-11-03T11:33:50.501553Z"
    }
   },
   "outputs": [],
   "source": [
    "wine_df.describe()"
   ]
  },
  {
   "cell_type": "code",
   "execution_count": null,
   "metadata": {
    "ExecuteTime": {
     "end_time": "2021-11-03T11:33:50.734794Z",
     "start_time": "2021-11-03T11:33:50.554089Z"
    }
   },
   "outputs": [],
   "source": [
    "plt.figure()\n",
    "plt.suptitle('Class Distribution')\n",
    "plt.ylabel('Frequency')\n",
    "plt.xlabel('Class')\n",
    "wine_df['target'].value_counts().plot(kind=\"bar\")"
   ]
  },
  {
   "cell_type": "markdown",
   "metadata": {},
   "source": [
    "### Utility functions"
   ]
  },
  {
   "cell_type": "code",
   "execution_count": null,
   "metadata": {
    "ExecuteTime": {
     "end_time": "2021-11-03T11:33:50.741994Z",
     "start_time": "2021-11-03T11:33:50.736420Z"
    }
   },
   "outputs": [],
   "source": [
    "result_df = pd.DataFrame(columns=['Model','Validation Method','Accuracy','STDEV', 'Training time (s)', 'Testing time (s)'])\n",
    "\n",
    "def add_result(model_name, validation_method, accuracy_list, fit_time_list, predict_time_list):\n",
    "    \"\"\"\n",
    "    Add a result row to a pandas dataframe (created above) for a model with name (model_name),\n",
    "    the validation method used, and the results (accuracy_list, fit_time_list, and predict_time_list).\n",
    "    \"\"\"\n",
    "    global result_df # doing this to be able to access the gloval dataframe defined above the function\n",
    "    \n",
    "    new_row = {'Model':model_name, \n",
    "               'Validation Method':validation_method, \n",
    "               'Accuracy':accuracy_list.mean(), \n",
    "               'STDEV':accuracy_list.std(),\n",
    "               'Training time (s)':fit_time_list.mean(), \n",
    "               'Testing time (s)':predict_time_list.mean()}\n",
    "    result_df = result_df.append(new_row, ignore_index=True)\n",
    "    \n",
    "    return result_df"
   ]
  },
  {
   "cell_type": "code",
   "execution_count": null,
   "metadata": {
    "ExecuteTime": {
     "end_time": "2021-11-03T11:33:50.747902Z",
     "start_time": "2021-11-03T11:33:50.743717Z"
    }
   },
   "outputs": [],
   "source": [
    "def hold_out_validation(X, y, model, num_runs=1000, test_size=0.2):\n",
    "    \"\"\"\n",
    "    Performs hold-out validation of a given model on the dataset provided (X, y).\n",
    "    The default number of runs is 1000, and the default training/test split is 80/20.\n",
    "    Returns 3 lists: accuracy, training time and testing time\n",
    "    \"\"\"\n",
    "    \n",
    "    # array(s) for storing performance metrics\n",
    "    accuracy_list = np.array([])\n",
    "    fit_time_list = np.array([])\n",
    "    predict_time_list = np.array([])\n",
    "    \n",
    "    for x in range(num_runs):\n",
    "        # Hold-out validation - 80% training and 20% testing\n",
    "        X_train, X_test, y_train, y_test = train_test_split(X, y, test_size=test_size, random_state=None)\n",
    "\n",
    "        # Training and testing the model\n",
    "        start_time = time()\n",
    "        model.fit(X_train, y_train)\n",
    "        end_time = time()\n",
    "        fit_time_list = np.append(fit_time_list, end_time-start_time)\n",
    "        \n",
    "        # Testing the model\n",
    "        start_time = time()\n",
    "        y_pred = model.predict(X_test)\n",
    "        end_time = time()\n",
    "        predict_time_list = np.append(predict_time_list, end_time-start_time)\n",
    "\n",
    "        # Appending performance metrics to arrays created above\n",
    "        accuracy_list = np.append(accuracy_list, accuracy_score(y_test, y_pred))\n",
    "    \n",
    "    return accuracy_list, fit_time_list, predict_time_list"
   ]
  },
  {
   "cell_type": "markdown",
   "metadata": {},
   "source": [
    "### Hold-out validation"
   ]
  },
  {
   "cell_type": "code",
   "execution_count": null,
   "metadata": {
    "ExecuteTime": {
     "end_time": "2021-11-03T11:33:50.856444Z",
     "start_time": "2021-11-03T11:33:50.749255Z"
    }
   },
   "outputs": [],
   "source": [
    "# Instantiating model\n",
    "model = random_classifier.RandomClassifier()\n",
    "\n",
    "# Hold-out-validation\n",
    "scores_random, fit_time_list, predict_time_list = hold_out_validation(X, y, model, 100, 0.2)\n",
    "\n",
    "add_result('Random', 'Hold-Out', scores_random, fit_time_list, predict_time_list)\n",
    "\n",
    "print(\"Accuracy (Testing):  %0.2f (+/- %0.2f)\" % (scores_random.mean(), scores_random.std() * 2))"
   ]
  },
  {
   "cell_type": "code",
   "execution_count": null,
   "metadata": {
    "ExecuteTime": {
     "end_time": "2021-11-03T11:33:56.681640Z",
     "start_time": "2021-11-03T11:33:50.858583Z"
    }
   },
   "outputs": [],
   "source": [
    "# Instantiating model\n",
    "k = 10\n",
    "model = k_nearest_neighbour.KNNClassifier(k=k)\n",
    "\n",
    "# Hold-out-validation\n",
    "scores_knn_bespoke, fit_time_list, predict_time_list = hold_out_validation(X, y, model, 100, 0.2)\n",
    "\n",
    "add_result('K-NN (bespoke)', 'Hold-Out', scores_knn_bespoke, fit_time_list, predict_time_list)\n",
    "\n",
    "print(\"Accuracy (Testing):  %0.2f (+/- %0.2f)\" % (scores_knn_bespoke.mean(), scores_knn_bespoke.std() * 2))"
   ]
  },
  {
   "cell_type": "code",
   "execution_count": 3,
   "metadata": {
    "ExecuteTime": {
     "end_time": "2021-11-03T11:33:56.918588Z",
     "start_time": "2021-11-03T11:33:56.683140Z"
    }
   },
   "outputs": [
    {
     "ename": "NameError",
     "evalue": "name 'hold_out_validation' is not defined",
     "output_type": "error",
     "traceback": [
      "\u001b[1;31m---------------------------------------------------------------------------\u001b[0m",
      "\u001b[1;31mNameError\u001b[0m                                 Traceback (most recent call last)",
      "\u001b[1;32m<ipython-input-3-075a65c952f6>\u001b[0m in \u001b[0;36m<module>\u001b[1;34m\u001b[0m\n\u001b[0;32m      4\u001b[0m \u001b[1;33m\u001b[0m\u001b[0m\n\u001b[0;32m      5\u001b[0m \u001b[1;31m# Hold-out-validation\u001b[0m\u001b[1;33m\u001b[0m\u001b[1;33m\u001b[0m\u001b[1;33m\u001b[0m\u001b[0m\n\u001b[1;32m----> 6\u001b[1;33m \u001b[0mscores_knn_sklearn\u001b[0m\u001b[1;33m,\u001b[0m \u001b[0mfit_time_list\u001b[0m\u001b[1;33m,\u001b[0m \u001b[0mpredict_time_list\u001b[0m \u001b[1;33m=\u001b[0m \u001b[0mhold_out_validation\u001b[0m\u001b[1;33m(\u001b[0m\u001b[0mX\u001b[0m\u001b[1;33m,\u001b[0m \u001b[0my\u001b[0m\u001b[1;33m,\u001b[0m \u001b[0mmodel\u001b[0m\u001b[1;33m,\u001b[0m \u001b[1;36m100\u001b[0m\u001b[1;33m,\u001b[0m \u001b[1;36m0.2\u001b[0m\u001b[1;33m)\u001b[0m\u001b[1;33m\u001b[0m\u001b[1;33m\u001b[0m\u001b[0m\n\u001b[0m\u001b[0;32m      7\u001b[0m \u001b[1;33m\u001b[0m\u001b[0m\n\u001b[0;32m      8\u001b[0m \u001b[0madd_result\u001b[0m\u001b[1;33m(\u001b[0m\u001b[1;34m'K-NN (sklearn)'\u001b[0m\u001b[1;33m,\u001b[0m \u001b[1;34m'Hold-Out'\u001b[0m\u001b[1;33m,\u001b[0m \u001b[0mscores_knn_sklearn\u001b[0m\u001b[1;33m,\u001b[0m \u001b[0mfit_time_list\u001b[0m\u001b[1;33m,\u001b[0m \u001b[0mpredict_time_list\u001b[0m\u001b[1;33m)\u001b[0m\u001b[1;33m\u001b[0m\u001b[1;33m\u001b[0m\u001b[0m\n",
      "\u001b[1;31mNameError\u001b[0m: name 'hold_out_validation' is not defined"
     ]
    }
   ],
   "source": [
    "# Instantiating model\n",
    "k = 10\n",
    "model = KNeighborsClassifier(n_neighbors=k)\n",
    "\n",
    "# Hold-out-validation\n",
    "scores_knn_sklearn, fit_time_list, predict_time_list = hold_out_validation(X, y, model, 100, 0.2)\n",
    "\n",
    "add_result('K-NN (sklearn)', 'Hold-Out', scores_knn_sklearn, fit_time_list, predict_time_list)\n",
    "\n",
    "print(\"Accuracy (Testing):  %0.2f (+/- %0.2f)\" % (scores_knn_sklearn.mean(), scores_knn_sklearn.std() * 2))"
   ]
  },
  {
   "cell_type": "code",
   "execution_count": null,
   "metadata": {
    "ExecuteTime": {
     "end_time": "2021-11-03T11:33:57.110332Z",
     "start_time": "2021-11-03T11:33:56.919886Z"
    }
   },
   "outputs": [],
   "source": [
    "# plotting a histogram of the accuracy for the 3 classifiers\n",
    "plt.figure()\n",
    "plt.hist(scores_random, bins=10, alpha=0.5, label='Random')\n",
    "plt.hist(scores_knn_bespoke, bins=10, alpha=0.5, label='K-NN (bespoke)')\n",
    "plt.hist(scores_knn_sklearn, bins=10, alpha=0.5, label='K-NN (sklearn)')\n",
    "plt.legend(loc='upper right')\n",
    "plt.xlabel('Accuracy')\n",
    "plt.ylabel('Frequency')\n",
    "plt.show()"
   ]
  },
  {
   "cell_type": "markdown",
   "metadata": {},
   "source": [
    "### Cross-validation"
   ]
  },
  {
   "cell_type": "code",
   "execution_count": null,
   "metadata": {
    "ExecuteTime": {
     "end_time": "2021-11-03T11:33:57.135297Z",
     "start_time": "2021-11-03T11:33:57.112130Z"
    }
   },
   "outputs": [],
   "source": [
    "# Instantiating model\n",
    "model = model = random_classifier.RandomClassifier()\n",
    "\n",
    "# 5-fold cross validation\n",
    "# StratifiedKFold is used when cv is set to None or an Integer (with a classification model)\n",
    "scores = cross_validate(model, X, y, cv=5, return_train_score=True, return_estimator=True)\n",
    "\n",
    "add_result('Random', 'CV', scores['test_score'], scores['fit_time'], scores['score_time'])\n",
    "\n",
    "# Printing results\n",
    "print(\"Accuracy (Training): %0.2f (+/- %0.2f)\" % (scores['train_score'].mean(), scores['train_score'].std() * 2))\n",
    "print(\"Accuracy (Testing):  %0.2f (+/- %0.2f)\" % (scores['test_score'].mean(), scores['test_score'].std() * 2))"
   ]
  },
  {
   "cell_type": "code",
   "execution_count": null,
   "metadata": {
    "ExecuteTime": {
     "end_time": "2021-11-03T11:33:58.592568Z",
     "start_time": "2021-11-03T11:33:57.136972Z"
    }
   },
   "outputs": [],
   "source": [
    "# Instantiating model\n",
    "k = 10\n",
    "model = k_nearest_neighbour.KNNClassifier(k=k)\n",
    "\n",
    "# 5-fold cross validation\n",
    "# StratifiedKFold is used when cv is set to None or an Integer (with a classification model)\n",
    "scores = cross_validate(model, X, y, cv=5, return_train_score=True, return_estimator=True)\n",
    "\n",
    "add_result('K-NN (bespoke)', 'CV', scores['test_score'], scores['fit_time'], scores['score_time'])\n",
    "\n",
    "# Printing results\n",
    "print(\"Accuracy (Training): %0.2f (+/- %0.2f)\" % (scores['train_score'].mean(), scores['train_score'].std() * 2))\n",
    "print(\"Accuracy (Testing):  %0.2f (+/- %0.2f)\" % (scores['test_score'].mean(), scores['test_score'].std() * 2))"
   ]
  },
  {
   "cell_type": "code",
   "execution_count": null,
   "metadata": {
    "ExecuteTime": {
     "end_time": "2021-11-03T11:33:58.644190Z",
     "start_time": "2021-11-03T11:33:58.595048Z"
    }
   },
   "outputs": [],
   "source": [
    "# Instantiating model\n",
    "k = 10\n",
    "model = KNeighborsClassifier(n_neighbors=k)\n",
    "\n",
    "# 5-fold cross validation\n",
    "# StratifiedKFold is used when cv is set to None or an Integer (with a classification model)\n",
    "scores = cross_validate(model, X, y, cv=5, return_train_score=True, return_estimator=True)\n",
    "\n",
    "add_result('K-NN (sklearn)', 'CV', scores['test_score'], scores['fit_time'], scores['score_time'])\n",
    "\n",
    "# Printing results\n",
    "print(\"Accuracy (Training): %0.2f (+/- %0.2f)\" % (scores['train_score'].mean(), scores['train_score'].std() * 2))\n",
    "print(\"Accuracy (Testing):  %0.2f (+/- %0.2f)\" % (scores['test_score'].mean(), scores['test_score'].std() * 2))"
   ]
  },
  {
   "cell_type": "code",
   "execution_count": null,
   "metadata": {
    "ExecuteTime": {
     "end_time": "2021-11-03T11:33:58.653917Z",
     "start_time": "2021-11-03T11:33:58.645894Z"
    }
   },
   "outputs": [],
   "source": [
    "result_df"
   ]
  },
  {
   "cell_type": "code",
   "execution_count": null,
   "metadata": {},
   "outputs": [],
   "source": []
  }
 ],
 "metadata": {
  "kernelspec": {
   "display_name": "Python 3",
   "language": "python",
   "name": "python3"
  },
  "language_info": {
   "codemirror_mode": {
    "name": "ipython",
    "version": 3
   },
   "file_extension": ".py",
   "mimetype": "text/x-python",
   "name": "python",
   "nbconvert_exporter": "python",
   "pygments_lexer": "ipython3",
   "version": "3.8.8"
  },
  "toc": {
   "base_numbering": 1,
   "nav_menu": {},
   "number_sections": true,
   "sideBar": true,
   "skip_h1_title": false,
   "title_cell": "Table of Contents",
   "title_sidebar": "Contents",
   "toc_cell": false,
   "toc_position": {},
   "toc_section_display": true,
   "toc_window_display": true
  },
  "varInspector": {
   "cols": {
    "lenName": 16,
    "lenType": 16,
    "lenVar": 40
   },
   "kernels_config": {
    "python": {
     "delete_cmd_postfix": "",
     "delete_cmd_prefix": "del ",
     "library": "var_list.py",
     "varRefreshCmd": "print(var_dic_list())"
    },
    "r": {
     "delete_cmd_postfix": ") ",
     "delete_cmd_prefix": "rm(",
     "library": "var_list.r",
     "varRefreshCmd": "cat(var_dic_list()) "
    }
   },
   "types_to_exclude": [
    "module",
    "function",
    "builtin_function_or_method",
    "instance",
    "_Feature"
   ],
   "window_display": false
  }
 },
 "nbformat": 4,
 "nbformat_minor": 4
}
