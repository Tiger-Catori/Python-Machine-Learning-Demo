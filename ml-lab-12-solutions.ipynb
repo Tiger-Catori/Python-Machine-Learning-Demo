{
 "cells": [
  {
   "cell_type": "markdown",
   "metadata": {},
   "source": [
    "# Machine Learning Lab 12 \"solutions\"\n",
    "\n",
    "Focuses on MLPs in Keras.\n",
    "\n",
    "## Imports\n"
   ]
  },
  {
   "cell_type": "code",
   "execution_count": 17,
   "metadata": {
    "ExecuteTime": {
     "end_time": "2021-12-10T10:39:34.524612Z",
     "start_time": "2021-12-10T10:39:34.516342Z"
    }
   },
   "outputs": [],
   "source": [
    "# Data and Datasets\n",
    "import pandas as pd\n",
    "from sklearn.datasets import load_iris\n",
    "from sklearn.datasets import load_wine\n",
    "from sklearn.preprocessing import LabelEncoder\n",
    "from sklearn.preprocessing import OneHotEncoder\n",
    "\n",
    "# Validation methods\n",
    "from sklearn.model_selection import train_test_split\n",
    "from sklearn.model_selection import cross_val_score\n",
    "from sklearn.model_selection import cross_validate\n",
    "from sklearn.model_selection import StratifiedKFold\n",
    "from tensorflow.keras.wrappers.scikit_learn import KerasClassifier\n",
    "\n",
    "# Metrics\n",
    "from sklearn import metrics\n",
    "from sklearn.metrics import make_scorer\n",
    "from sklearn.metrics import accuracy_score\n",
    "from sklearn.metrics import precision_score\n",
    "from sklearn.metrics import recall_score\n",
    "\n",
    "# Tensorflow (and Keras)\n",
    "import tensorflow\n",
    "from tensorflow.keras.models import Sequential\n",
    "from tensorflow.keras.layers import Dense, SimpleRNN\n",
    "from tensorflow.keras.utils import to_categorical\n",
    "\n",
    "# Classifiers\n",
    "from sklearn import tree\n",
    "from sklearn.tree import DecisionTreeClassifier\n",
    "from sklearn.ensemble import RandomForestClassifier\n",
    "from sklearn.naive_bayes import GaussianNB\n",
    "from sklearn.naive_bayes import MultinomialNB\n",
    "from sklearn.naive_bayes import BernoulliNB\n",
    "\n",
    "# Hyper-parameter optimisation\n",
    "from sklearn.model_selection import GridSearchCV\n",
    "from sklearn.model_selection import RandomizedSearchCV\n",
    "\n",
    "# Feature selection & feature engineering\n",
    "from sklearn.feature_selection import RFE\n",
    "from sklearn.feature_selection import RFECV\n",
    "from sklearn.decomposition import PCA\n",
    "from sklearn.preprocessing import StandardScaler\n",
    "from sklearn.preprocessing import Normalizer\n",
    "\n",
    "# Stats\n",
    "from scipy.stats import randint as sp_randint\n",
    "from scipy.stats import pearsonr\n",
    "from scipy.stats import spearmanr\n",
    "from scipy.stats import shapiro     # Shapiro Wilk\n",
    "from scipy.stats import normaltest  # D’Agostino’s K^2\n",
    "from scipy.stats import anderson    # Anderson-Darling\n",
    "from scipy.stats import ttest_ind    # independent student t-test; assumes normality\n",
    "from scipy.stats import mannwhitneyu # non-parametric; doesn't assume normality\n",
    "\n",
    "# Visualisation\n",
    "import matplotlib.pyplot as plt\n",
    "import seaborn as sns\n",
    "from IPython.display import SVG\n",
    "from graphviz import Source\n",
    "from IPython.display import display\n",
    "from sklearn.tree import export_graphviz\n",
    "\n",
    "# Utils\n",
    "import pprint\n",
    "import numpy as np\n",
    "from time import time"
   ]
  },
  {
   "cell_type": "markdown",
   "metadata": {},
   "source": [
    "## Loading the datasets\n",
    "\n",
    "### Banknote dataset"
   ]
  },
  {
   "cell_type": "code",
   "execution_count": 2,
   "metadata": {
    "ExecuteTime": {
     "end_time": "2021-12-10T09:30:40.176624Z",
     "start_time": "2021-12-10T09:30:40.163005Z"
    }
   },
   "outputs": [
    {
     "data": {
      "text/html": [
       "<div>\n",
       "<style scoped>\n",
       "    .dataframe tbody tr th:only-of-type {\n",
       "        vertical-align: middle;\n",
       "    }\n",
       "\n",
       "    .dataframe tbody tr th {\n",
       "        vertical-align: top;\n",
       "    }\n",
       "\n",
       "    .dataframe thead th {\n",
       "        text-align: right;\n",
       "    }\n",
       "</style>\n",
       "<table border=\"1\" class=\"dataframe\">\n",
       "  <thead>\n",
       "    <tr style=\"text-align: right;\">\n",
       "      <th></th>\n",
       "      <th>var</th>\n",
       "      <th>skew</th>\n",
       "      <th>curt</th>\n",
       "      <th>ent</th>\n",
       "      <th>class</th>\n",
       "    </tr>\n",
       "  </thead>\n",
       "  <tbody>\n",
       "    <tr>\n",
       "      <th>0</th>\n",
       "      <td>3.62160</td>\n",
       "      <td>8.6661</td>\n",
       "      <td>-2.8073</td>\n",
       "      <td>-0.44699</td>\n",
       "      <td>0</td>\n",
       "    </tr>\n",
       "    <tr>\n",
       "      <th>1</th>\n",
       "      <td>4.54590</td>\n",
       "      <td>8.1674</td>\n",
       "      <td>-2.4586</td>\n",
       "      <td>-1.46210</td>\n",
       "      <td>0</td>\n",
       "    </tr>\n",
       "    <tr>\n",
       "      <th>2</th>\n",
       "      <td>3.86600</td>\n",
       "      <td>-2.6383</td>\n",
       "      <td>1.9242</td>\n",
       "      <td>0.10645</td>\n",
       "      <td>0</td>\n",
       "    </tr>\n",
       "    <tr>\n",
       "      <th>3</th>\n",
       "      <td>3.45660</td>\n",
       "      <td>9.5228</td>\n",
       "      <td>-4.0112</td>\n",
       "      <td>-3.59440</td>\n",
       "      <td>0</td>\n",
       "    </tr>\n",
       "    <tr>\n",
       "      <th>4</th>\n",
       "      <td>0.32924</td>\n",
       "      <td>-4.4552</td>\n",
       "      <td>4.5718</td>\n",
       "      <td>-0.98880</td>\n",
       "      <td>0</td>\n",
       "    </tr>\n",
       "  </tbody>\n",
       "</table>\n",
       "</div>"
      ],
      "text/plain": [
       "       var    skew    curt      ent  class\n",
       "0  3.62160  8.6661 -2.8073 -0.44699      0\n",
       "1  4.54590  8.1674 -2.4586 -1.46210      0\n",
       "2  3.86600 -2.6383  1.9242  0.10645      0\n",
       "3  3.45660  9.5228 -4.0112 -3.59440      0\n",
       "4  0.32924 -4.4552  4.5718 -0.98880      0"
      ]
     },
     "execution_count": 2,
     "metadata": {},
     "output_type": "execute_result"
    }
   ],
   "source": [
    "bank_df = pd.read_csv('data/data_banknote_authentication.csv')\n",
    "bank_df.head()"
   ]
  },
  {
   "cell_type": "code",
   "execution_count": 3,
   "metadata": {
    "ExecuteTime": {
     "end_time": "2021-12-10T09:30:40.189238Z",
     "start_time": "2021-12-10T09:30:40.180943Z"
    }
   },
   "outputs": [
    {
     "name": "stdout",
     "output_type": "stream",
     "text": [
      "<class 'pandas.core.frame.DataFrame'>\n",
      "RangeIndex: 1372 entries, 0 to 1371\n",
      "Data columns (total 5 columns):\n",
      " #   Column  Non-Null Count  Dtype  \n",
      "---  ------  --------------  -----  \n",
      " 0   var     1372 non-null   float64\n",
      " 1   skew    1372 non-null   float64\n",
      " 2   curt    1372 non-null   float64\n",
      " 3   ent     1372 non-null   float64\n",
      " 4   class   1372 non-null   int64  \n",
      "dtypes: float64(4), int64(1)\n",
      "memory usage: 53.7 KB\n"
     ]
    }
   ],
   "source": [
    "bank_df.info()"
   ]
  },
  {
   "cell_type": "code",
   "execution_count": 4,
   "metadata": {
    "ExecuteTime": {
     "end_time": "2021-12-10T09:30:40.206652Z",
     "start_time": "2021-12-10T09:30:40.190484Z"
    }
   },
   "outputs": [
    {
     "data": {
      "text/html": [
       "<div>\n",
       "<style scoped>\n",
       "    .dataframe tbody tr th:only-of-type {\n",
       "        vertical-align: middle;\n",
       "    }\n",
       "\n",
       "    .dataframe tbody tr th {\n",
       "        vertical-align: top;\n",
       "    }\n",
       "\n",
       "    .dataframe thead th {\n",
       "        text-align: right;\n",
       "    }\n",
       "</style>\n",
       "<table border=\"1\" class=\"dataframe\">\n",
       "  <thead>\n",
       "    <tr style=\"text-align: right;\">\n",
       "      <th></th>\n",
       "      <th>var</th>\n",
       "      <th>skew</th>\n",
       "      <th>curt</th>\n",
       "      <th>ent</th>\n",
       "      <th>class</th>\n",
       "    </tr>\n",
       "  </thead>\n",
       "  <tbody>\n",
       "    <tr>\n",
       "      <th>count</th>\n",
       "      <td>1372.000000</td>\n",
       "      <td>1372.000000</td>\n",
       "      <td>1372.000000</td>\n",
       "      <td>1372.000000</td>\n",
       "      <td>1372.000000</td>\n",
       "    </tr>\n",
       "    <tr>\n",
       "      <th>mean</th>\n",
       "      <td>0.433735</td>\n",
       "      <td>1.922353</td>\n",
       "      <td>1.397627</td>\n",
       "      <td>-1.191657</td>\n",
       "      <td>0.444606</td>\n",
       "    </tr>\n",
       "    <tr>\n",
       "      <th>std</th>\n",
       "      <td>2.842763</td>\n",
       "      <td>5.869047</td>\n",
       "      <td>4.310030</td>\n",
       "      <td>2.101013</td>\n",
       "      <td>0.497103</td>\n",
       "    </tr>\n",
       "    <tr>\n",
       "      <th>min</th>\n",
       "      <td>-7.042100</td>\n",
       "      <td>-13.773100</td>\n",
       "      <td>-5.286100</td>\n",
       "      <td>-8.548200</td>\n",
       "      <td>0.000000</td>\n",
       "    </tr>\n",
       "    <tr>\n",
       "      <th>25%</th>\n",
       "      <td>-1.773000</td>\n",
       "      <td>-1.708200</td>\n",
       "      <td>-1.574975</td>\n",
       "      <td>-2.413450</td>\n",
       "      <td>0.000000</td>\n",
       "    </tr>\n",
       "    <tr>\n",
       "      <th>50%</th>\n",
       "      <td>0.496180</td>\n",
       "      <td>2.319650</td>\n",
       "      <td>0.616630</td>\n",
       "      <td>-0.586650</td>\n",
       "      <td>0.000000</td>\n",
       "    </tr>\n",
       "    <tr>\n",
       "      <th>75%</th>\n",
       "      <td>2.821475</td>\n",
       "      <td>6.814625</td>\n",
       "      <td>3.179250</td>\n",
       "      <td>0.394810</td>\n",
       "      <td>1.000000</td>\n",
       "    </tr>\n",
       "    <tr>\n",
       "      <th>max</th>\n",
       "      <td>6.824800</td>\n",
       "      <td>12.951600</td>\n",
       "      <td>17.927400</td>\n",
       "      <td>2.449500</td>\n",
       "      <td>1.000000</td>\n",
       "    </tr>\n",
       "  </tbody>\n",
       "</table>\n",
       "</div>"
      ],
      "text/plain": [
       "               var         skew         curt          ent        class\n",
       "count  1372.000000  1372.000000  1372.000000  1372.000000  1372.000000\n",
       "mean      0.433735     1.922353     1.397627    -1.191657     0.444606\n",
       "std       2.842763     5.869047     4.310030     2.101013     0.497103\n",
       "min      -7.042100   -13.773100    -5.286100    -8.548200     0.000000\n",
       "25%      -1.773000    -1.708200    -1.574975    -2.413450     0.000000\n",
       "50%       0.496180     2.319650     0.616630    -0.586650     0.000000\n",
       "75%       2.821475     6.814625     3.179250     0.394810     1.000000\n",
       "max       6.824800    12.951600    17.927400     2.449500     1.000000"
      ]
     },
     "execution_count": 4,
     "metadata": {},
     "output_type": "execute_result"
    }
   ],
   "source": [
    "bank_df.describe()"
   ]
  },
  {
   "cell_type": "code",
   "execution_count": 5,
   "metadata": {
    "ExecuteTime": {
     "end_time": "2021-12-10T09:30:40.211343Z",
     "start_time": "2021-12-10T09:30:40.208231Z"
    }
   },
   "outputs": [],
   "source": [
    "X_bank = bank_df.iloc[:,:len(bank_df.columns)-1].to_numpy()\n",
    "y_bank = bank_df.iloc[:,len(bank_df.columns)-1].to_numpy()"
   ]
  },
  {
   "cell_type": "markdown",
   "metadata": {},
   "source": [
    "### Wine dataset"
   ]
  },
  {
   "cell_type": "code",
   "execution_count": 6,
   "metadata": {
    "ExecuteTime": {
     "end_time": "2021-12-10T09:30:40.233545Z",
     "start_time": "2021-12-10T09:30:40.213015Z"
    }
   },
   "outputs": [
    {
     "name": "stdout",
     "output_type": "stream",
     "text": [
      "Shape of feature matrix: (178, 13)\n"
     ]
    },
    {
     "data": {
      "text/html": [
       "<div>\n",
       "<style scoped>\n",
       "    .dataframe tbody tr th:only-of-type {\n",
       "        vertical-align: middle;\n",
       "    }\n",
       "\n",
       "    .dataframe tbody tr th {\n",
       "        vertical-align: top;\n",
       "    }\n",
       "\n",
       "    .dataframe thead th {\n",
       "        text-align: right;\n",
       "    }\n",
       "</style>\n",
       "<table border=\"1\" class=\"dataframe\">\n",
       "  <thead>\n",
       "    <tr style=\"text-align: right;\">\n",
       "      <th></th>\n",
       "      <th>alcohol</th>\n",
       "      <th>malic_acid</th>\n",
       "      <th>ash</th>\n",
       "      <th>alcalinity_of_ash</th>\n",
       "      <th>magnesium</th>\n",
       "      <th>total_phenols</th>\n",
       "      <th>flavanoids</th>\n",
       "      <th>nonflavanoid_phenols</th>\n",
       "      <th>proanthocyanins</th>\n",
       "      <th>color_intensity</th>\n",
       "      <th>hue</th>\n",
       "      <th>od280/od315_of_diluted_wines</th>\n",
       "      <th>proline</th>\n",
       "      <th>target</th>\n",
       "    </tr>\n",
       "  </thead>\n",
       "  <tbody>\n",
       "    <tr>\n",
       "      <th>0</th>\n",
       "      <td>14.23</td>\n",
       "      <td>1.71</td>\n",
       "      <td>2.43</td>\n",
       "      <td>15.6</td>\n",
       "      <td>127.0</td>\n",
       "      <td>2.80</td>\n",
       "      <td>3.06</td>\n",
       "      <td>0.28</td>\n",
       "      <td>2.29</td>\n",
       "      <td>5.64</td>\n",
       "      <td>1.04</td>\n",
       "      <td>3.92</td>\n",
       "      <td>1065.0</td>\n",
       "      <td>0</td>\n",
       "    </tr>\n",
       "    <tr>\n",
       "      <th>1</th>\n",
       "      <td>13.20</td>\n",
       "      <td>1.78</td>\n",
       "      <td>2.14</td>\n",
       "      <td>11.2</td>\n",
       "      <td>100.0</td>\n",
       "      <td>2.65</td>\n",
       "      <td>2.76</td>\n",
       "      <td>0.26</td>\n",
       "      <td>1.28</td>\n",
       "      <td>4.38</td>\n",
       "      <td>1.05</td>\n",
       "      <td>3.40</td>\n",
       "      <td>1050.0</td>\n",
       "      <td>0</td>\n",
       "    </tr>\n",
       "    <tr>\n",
       "      <th>2</th>\n",
       "      <td>13.16</td>\n",
       "      <td>2.36</td>\n",
       "      <td>2.67</td>\n",
       "      <td>18.6</td>\n",
       "      <td>101.0</td>\n",
       "      <td>2.80</td>\n",
       "      <td>3.24</td>\n",
       "      <td>0.30</td>\n",
       "      <td>2.81</td>\n",
       "      <td>5.68</td>\n",
       "      <td>1.03</td>\n",
       "      <td>3.17</td>\n",
       "      <td>1185.0</td>\n",
       "      <td>0</td>\n",
       "    </tr>\n",
       "    <tr>\n",
       "      <th>3</th>\n",
       "      <td>14.37</td>\n",
       "      <td>1.95</td>\n",
       "      <td>2.50</td>\n",
       "      <td>16.8</td>\n",
       "      <td>113.0</td>\n",
       "      <td>3.85</td>\n",
       "      <td>3.49</td>\n",
       "      <td>0.24</td>\n",
       "      <td>2.18</td>\n",
       "      <td>7.80</td>\n",
       "      <td>0.86</td>\n",
       "      <td>3.45</td>\n",
       "      <td>1480.0</td>\n",
       "      <td>0</td>\n",
       "    </tr>\n",
       "    <tr>\n",
       "      <th>4</th>\n",
       "      <td>13.24</td>\n",
       "      <td>2.59</td>\n",
       "      <td>2.87</td>\n",
       "      <td>21.0</td>\n",
       "      <td>118.0</td>\n",
       "      <td>2.80</td>\n",
       "      <td>2.69</td>\n",
       "      <td>0.39</td>\n",
       "      <td>1.82</td>\n",
       "      <td>4.32</td>\n",
       "      <td>1.04</td>\n",
       "      <td>2.93</td>\n",
       "      <td>735.0</td>\n",
       "      <td>0</td>\n",
       "    </tr>\n",
       "  </tbody>\n",
       "</table>\n",
       "</div>"
      ],
      "text/plain": [
       "   alcohol  malic_acid   ash  alcalinity_of_ash  magnesium  total_phenols  \\\n",
       "0    14.23        1.71  2.43               15.6      127.0           2.80   \n",
       "1    13.20        1.78  2.14               11.2      100.0           2.65   \n",
       "2    13.16        2.36  2.67               18.6      101.0           2.80   \n",
       "3    14.37        1.95  2.50               16.8      113.0           3.85   \n",
       "4    13.24        2.59  2.87               21.0      118.0           2.80   \n",
       "\n",
       "   flavanoids  nonflavanoid_phenols  proanthocyanins  color_intensity   hue  \\\n",
       "0        3.06                  0.28             2.29             5.64  1.04   \n",
       "1        2.76                  0.26             1.28             4.38  1.05   \n",
       "2        3.24                  0.30             2.81             5.68  1.03   \n",
       "3        3.49                  0.24             2.18             7.80  0.86   \n",
       "4        2.69                  0.39             1.82             4.32  1.04   \n",
       "\n",
       "   od280/od315_of_diluted_wines  proline  target  \n",
       "0                          3.92   1065.0       0  \n",
       "1                          3.40   1050.0       0  \n",
       "2                          3.17   1185.0       0  \n",
       "3                          3.45   1480.0       0  \n",
       "4                          2.93    735.0       0  "
      ]
     },
     "execution_count": 6,
     "metadata": {},
     "output_type": "execute_result"
    }
   ],
   "source": [
    "# Loading the dataset\n",
    "dataset = load_wine()\n",
    "\n",
    "# Convert to Pandas DataFrame\n",
    "dataset_df = pd.DataFrame(data=np.c_[dataset['data'], dataset['target']],\n",
    "                     columns=dataset['feature_names'] + ['target'])\n",
    "\n",
    "# Converting class labels to int\n",
    "dataset_df['target'] = dataset_df['target'].astype('int')\n",
    "\n",
    "# Storing references to feature names and (unique) class labels\n",
    "feature_names = dataset['feature_names']\n",
    "class_labels = dataset_df['target'].unique().astype('str')\n",
    "\n",
    "# Get the X (feature matrix) and y (class label vector) from the data\n",
    "X_wine, y_wine = dataset.data, dataset.target\n",
    "\n",
    "print(\"Shape of feature matrix:\", X_wine.shape)\n",
    "\n",
    "# And just to ensure we've loaded what we expect..\n",
    "dataset_df.head()"
   ]
  },
  {
   "cell_type": "markdown",
   "metadata": {},
   "source": [
    "## Keras MLP on the bank dataset\n",
    "\n",
    "Example of binary classification.\n",
    "\n",
    "### Data processing"
   ]
  },
  {
   "cell_type": "code",
   "execution_count": 7,
   "metadata": {
    "ExecuteTime": {
     "end_time": "2021-12-10T09:30:40.238434Z",
     "start_time": "2021-12-10T09:30:40.234876Z"
    }
   },
   "outputs": [],
   "source": [
    "# scaling feature matrix\n",
    "scaler = StandardScaler()\n",
    "scaler.fit(X_bank)\n",
    "X_bank_scaled = scaler.transform(X_bank)"
   ]
  },
  {
   "cell_type": "markdown",
   "metadata": {},
   "source": [
    "### Predict utility function"
   ]
  },
  {
   "cell_type": "code",
   "execution_count": 8,
   "metadata": {
    "ExecuteTime": {
     "end_time": "2021-12-10T09:30:40.242388Z",
     "start_time": "2021-12-10T09:30:40.239785Z"
    }
   },
   "outputs": [],
   "source": [
    "def predict_classes(model, X_test):\n",
    "    \"\"\"\n",
    "    A function that simulates a recently deprecated function from Keras,\n",
    "    to be able to get discrete class label predictions, rather than\n",
    "    real-valued outputs. That will then allow us to use metric\n",
    "    calculation functions from Scikit-Learn directly.\n",
    "    \n",
    "    This has been adapted from Jason Brownlee.\n",
    "    \"\"\"\n",
    "    # predict test set and convert to class label\n",
    "    y_pred_raw = model.predict(X_test)\n",
    "    y_pred = (y_pred_raw > 0.5).flatten().astype(int)\n",
    "    \n",
    "    return y_pred"
   ]
  },
  {
   "cell_type": "markdown",
   "metadata": {},
   "source": [
    "### Hold-out validation\n",
    "\n",
    "#### With simoid output"
   ]
  },
  {
   "cell_type": "code",
   "execution_count": 9,
   "metadata": {
    "ExecuteTime": {
     "end_time": "2021-12-10T09:30:40.282615Z",
     "start_time": "2021-12-10T09:30:40.245353Z"
    }
   },
   "outputs": [
    {
     "name": "stdout",
     "output_type": "stream",
     "text": [
      "Model: \"sequential\"\n",
      "_________________________________________________________________\n",
      " Layer (type)                Output Shape              Param #   \n",
      "=================================================================\n",
      " dense (Dense)               (None, 4)                 20        \n",
      "                                                                 \n",
      " dense_1 (Dense)             (None, 8)                 40        \n",
      "                                                                 \n",
      " dense_2 (Dense)             (None, 1)                 9         \n",
      "                                                                 \n",
      "=================================================================\n",
      "Total params: 69\n",
      "Trainable params: 69\n",
      "Non-trainable params: 0\n",
      "_________________________________________________________________\n"
     ]
    },
    {
     "name": "stderr",
     "output_type": "stream",
     "text": [
      "2021-12-10 09:30:40.250358: I tensorflow/core/platform/cpu_feature_guard.cc:151] This TensorFlow binary is optimized with oneAPI Deep Neural Network Library (oneDNN) to use the following CPU instructions in performance-critical operations:  AVX2 FMA\n",
      "To enable them in other operations, rebuild TensorFlow with the appropriate compiler flags.\n"
     ]
    }
   ],
   "source": [
    "# Creating the model\n",
    "model = Sequential()\n",
    "model.add(Dense(X_bank.shape[1], input_dim=X_bank.shape[1], activation='relu'))\n",
    "model.add(Dense(8, activation='relu'))\n",
    "model.add(Dense(1, activation='sigmoid'))\n",
    "\n",
    "# Compiling the model\n",
    "model.compile(loss='binary_crossentropy', optimizer='adam', metrics=['accuracy'])\n",
    "\n",
    "# Summary information about the model\n",
    "model.summary()"
   ]
  },
  {
   "cell_type": "code",
   "execution_count": 10,
   "metadata": {
    "ExecuteTime": {
     "end_time": "2021-12-10T09:30:43.331739Z",
     "start_time": "2021-12-10T09:30:40.283881Z"
    }
   },
   "outputs": [
    {
     "name": "stdout",
     "output_type": "stream",
     "text": [
      "Training started\n",
      "Training complete\n",
      "Testing complete\n",
      "\n",
      "Confusion matrix:\n",
      "\n",
      "[[229   0]\n",
      " [  0 183]]\n",
      "\n",
      "Accuracy (Training): 1.000 \n",
      "Accuracy (Testing):  1.000 \n"
     ]
    }
   ],
   "source": [
    "# Setting up hold-out validation\n",
    "X_train, X_test, y_train, y_test = train_test_split(X_bank_scaled, y_bank, test_size=0.3, random_state=None, stratify=y_bank)\n",
    "\n",
    "# Training the model\n",
    "print(\"Training started\")\n",
    "model.fit(X_train, y_train, epochs=50, batch_size=10, verbose=0)\n",
    "print(\"Training complete\")\n",
    "\n",
    "# Performance on the training data\n",
    "y_pred_tr = predict_classes(model, X_train)\n",
    "\n",
    "# Testing model\n",
    "y_pred = predict_classes(model, X_test)\n",
    "print(\"Testing complete\")\n",
    "\n",
    "# Printing out confusion matrix and accuracy (on the training and test sets)\n",
    "print(\"\\nConfusion matrix:\\n\")\n",
    "print(metrics.confusion_matrix(y_test, y_pred))\n",
    "print(\"\\nAccuracy (Training): %0.3f \" % (metrics.accuracy_score(y_train, y_pred_tr)))\n",
    "print(\"Accuracy (Testing):  %0.3f \" % (metrics.accuracy_score(y_test, y_pred)))"
   ]
  },
  {
   "cell_type": "markdown",
   "metadata": {},
   "source": [
    "#### With tanh output"
   ]
  },
  {
   "cell_type": "code",
   "execution_count": 15,
   "metadata": {
    "ExecuteTime": {
     "end_time": "2021-12-10T09:32:03.151680Z",
     "start_time": "2021-12-10T09:32:00.455645Z"
    }
   },
   "outputs": [
    {
     "name": "stdout",
     "output_type": "stream",
     "text": [
      "Training started\n",
      "Training complete\n",
      "Testing complete\n",
      "\n",
      "Confusion matrix:\n",
      "\n",
      "[[229   0]\n",
      " [  0 183]]\n",
      "\n",
      "Accuracy (Training): 1.000 \n",
      "Accuracy (Testing):  1.000 \n"
     ]
    }
   ],
   "source": [
    "# Creating the model\n",
    "model = Sequential()\n",
    "model.add(Dense(X_bank.shape[1], input_dim=X_bank.shape[1], activation='relu'))\n",
    "model.add(Dense(8, activation='relu'))\n",
    "model.add(Dense(1, activation='tanh'))\n",
    "\n",
    "# Compiling the model\n",
    "model.compile(loss='binary_crossentropy', optimizer='adam', metrics=['accuracy'])\n",
    "\n",
    "# Setting up hold-out validation\n",
    "X_train, X_test, y_train, y_test = train_test_split(X_bank_scaled, y_bank, test_size=0.3, random_state=None, stratify=y_bank)\n",
    "\n",
    "# Training the model\n",
    "print(\"Training started\")\n",
    "model.fit(X_train, y_train, epochs=50, batch_size=10, verbose=0)\n",
    "print(\"Training complete\")\n",
    "\n",
    "# Performance on the training data\n",
    "y_pred_tr = predict_classes(model, X_train)\n",
    "\n",
    "# Testing model\n",
    "y_pred = predict_classes(model, X_test)\n",
    "print(\"Testing complete\")\n",
    "\n",
    "# Printing out confusion matrix and accuracy (on the training and test sets)\n",
    "print(\"\\nConfusion matrix:\\n\")\n",
    "print(metrics.confusion_matrix(y_test, y_pred))\n",
    "print(\"\\nAccuracy (Training): %0.3f \" % (metrics.accuracy_score(y_train, y_pred_tr)))\n",
    "print(\"Accuracy (Testing):  %0.3f \" % (metrics.accuracy_score(y_test, y_pred)))"
   ]
  },
  {
   "cell_type": "markdown",
   "metadata": {},
   "source": [
    "### Cross-validation\n",
    "\n",
    "For this example, we wrap the Keras model into a KerasClassifier object from Scikit-Learn, so we can use it like a \"normal\" Scikit-Learn classifier. Thus, able to use functions like the ``cross_validate`` function from Scikit-Learn.\n",
    "\n",
    "PS: the ``KerasClassifier`` from the tensorflow wrapper library has been deprecated, so showing use of Sci-Keras as well, below."
   ]
  },
  {
   "cell_type": "code",
   "execution_count": 11,
   "metadata": {
    "ExecuteTime": {
     "end_time": "2021-12-10T09:31:00.477184Z",
     "start_time": "2021-12-10T09:30:43.333155Z"
    }
   },
   "outputs": [
    {
     "name": "stderr",
     "output_type": "stream",
     "text": [
      "/var/folders/qp/d1_frzps0yng65xlbb1yrp480000gn/T/ipykernel_85486/3695244079.py:18: DeprecationWarning: KerasClassifier is deprecated, use Sci-Keras (https://github.com/adriangb/scikeras) instead.\n",
      "  model = KerasClassifier(build_fn=mlp_model, epochs=50, batch_size=10, verbose=0)\n"
     ]
    },
    {
     "name": "stdout",
     "output_type": "stream",
     "text": [
      "Accuracy:          1.00 (+/- 0.00)\n",
      "Training time (s): 3.28 (+/- 0.09)\n",
      "Testing time (s):  0.15 (+/- 0.11)\n"
     ]
    }
   ],
   "source": [
    "from tensorflow.keras.wrappers.scikit_learn import KerasClassifier\n",
    "\n",
    "# Creating the model - same as above\n",
    "# This needs to be in a function when using the KerasClassifier wrapper to turn this\n",
    "# into a Scikit-Learn classifier\n",
    "def mlp_model():\n",
    "    model = Sequential()\n",
    "    model.add(Dense(12, input_dim=X_bank.shape[1], activation='relu'))\n",
    "    model.add(Dense(8, activation='relu'))\n",
    "    model.add(Dense(1, activation='sigmoid'))\n",
    "\n",
    "    # Compiling the model\n",
    "    model.compile(loss='binary_crossentropy', optimizer='adam', metrics=['accuracy'])\n",
    "    \n",
    "    return model\n",
    "\n",
    "# Wrapping Keras model into a Scikit-Learn Classifier (estimator)\n",
    "model = KerasClassifier(build_fn=mlp_model, epochs=50, batch_size=10, verbose=0)\n",
    "\n",
    "# 5-fold cross-validation\n",
    "scores = cross_validate(model, X_bank_scaled, y_bank, cv=5)\n",
    "print(\"Accuracy:          %0.2f (+/- %0.2f)\" % (scores['test_score'].mean(), scores['test_score'].std() * 2))\n",
    "print(\"Training time (s): %0.2f (+/- %0.2f)\" % (scores['fit_time'].mean(), scores['fit_time'].std() * 2))\n",
    "print(\"Testing time (s):  %0.2f (+/- %0.2f)\" % (scores['score_time'].mean(), scores['score_time'].std() * 2))"
   ]
  },
  {
   "cell_type": "markdown",
   "metadata": {},
   "source": [
    "## Keras MLP on wine dataset\n",
    "\n",
    "Example of multi-class classification.\n",
    "\n",
    "### Data processing"
   ]
  },
  {
   "cell_type": "code",
   "execution_count": 12,
   "metadata": {
    "ExecuteTime": {
     "end_time": "2021-12-10T09:31:00.482209Z",
     "start_time": "2021-12-10T09:31:00.478666Z"
    }
   },
   "outputs": [],
   "source": [
    "# One-hot encoding of the class labels\n",
    "y_wine_encoded = to_categorical(y_wine)\n",
    "\n",
    "# scaling feature matrix\n",
    "scaler = StandardScaler().fit(X_wine)\n",
    "X_wine_scaled = scaler.transform(X_wine)"
   ]
  },
  {
   "cell_type": "markdown",
   "metadata": {},
   "source": [
    "### Cross-validation\n",
    "\n",
    "For this example, we also wrap the Keras model into a KerasClassifier object from Scikit-Learn, so we can use it like a \"normal\" Scikit-Learn classifier."
   ]
  },
  {
   "cell_type": "code",
   "execution_count": 13,
   "metadata": {
    "ExecuteTime": {
     "end_time": "2021-12-10T09:31:14.330940Z",
     "start_time": "2021-12-10T09:31:00.483421Z"
    }
   },
   "outputs": [
    {
     "name": "stderr",
     "output_type": "stream",
     "text": [
      "/var/folders/qp/d1_frzps0yng65xlbb1yrp480000gn/T/ipykernel_85486/2758278237.py:14: DeprecationWarning: KerasClassifier is deprecated, use Sci-Keras (https://github.com/adriangb/scikeras) instead.\n",
      "  model = KerasClassifier(build_fn=mlp_one_hot_model, epochs=150, batch_size=5, verbose=0)\n"
     ]
    },
    {
     "name": "stdout",
     "output_type": "stream",
     "text": [
      "Accuracy:          0.97 (+/- 0.04)\n",
      "Training time (s): 2.66 (+/- 0.10)\n",
      "Testing time (s):  0.11 (+/- 0.01)\n"
     ]
    }
   ],
   "source": [
    "# Creating the model\n",
    "def mlp_one_hot_model():\n",
    "    model = Sequential()\n",
    "    model.add(Dense(X_wine.shape[1], input_dim=X_wine.shape[1], activation='relu'))\n",
    "    model.add(Dense(8, activation='relu'))\n",
    "    model.add(Dense(3, activation='softmax'))\n",
    "\n",
    "    # Compiling the model\n",
    "    model.compile(loss='categorical_crossentropy', optimizer='adam', metrics=['accuracy'])\n",
    "    \n",
    "    return model\n",
    "\n",
    "# Wrapping Keras model into a Scikit-Learn Classifier (estimator)\n",
    "model = KerasClassifier(build_fn=mlp_one_hot_model, epochs=150, batch_size=5, verbose=0)\n",
    "\n",
    "# 5-fold cross-validation\n",
    "scores = cross_validate(model, X_wine_scaled, y_wine_encoded, cv=5)\n",
    "\n",
    "print(\"Accuracy:          %0.2f (+/- %0.2f)\" % (scores['test_score'].mean(), scores['test_score'].std() * 2))\n",
    "print(\"Training time (s): %0.2f (+/- %0.2f)\" % (scores['fit_time'].mean(), scores['fit_time'].std() * 2))\n",
    "print(\"Testing time (s):  %0.2f (+/- %0.2f)\" % (scores['score_time'].mean(), scores['score_time'].std() * 2))"
   ]
  },
  {
   "cell_type": "markdown",
   "metadata": {},
   "source": [
    "## Deep MLP\n",
    "\n",
    "### Wine dataset (multi-class)\n",
    "This example uses the Wine dataset, following from the shallow MLP used above on this dataset.\n",
    "\n",
    "**PS**: also using the new KerasClassifier wrapper from SCI-KERAS here. Most of the code is identical, just the name of the argument refering to the model function has been renamed from ``build_fn`` to ``model``."
   ]
  },
  {
   "cell_type": "code",
   "execution_count": 14,
   "metadata": {
    "ExecuteTime": {
     "end_time": "2021-12-10T09:31:28.932760Z",
     "start_time": "2021-12-10T09:31:14.332598Z"
    }
   },
   "outputs": [
    {
     "name": "stdout",
     "output_type": "stream",
     "text": [
      "Accuracy:          0.94 (+/- 0.10)\n",
      "Training time (s): 2.81 (+/- 0.07)\n",
      "Testing time (s):  0.11 (+/- 0.20)\n"
     ]
    }
   ],
   "source": [
    "# USING SCI-KERAS\n",
    "# !pip3 install scikeras\n",
    "from scikeras.wrappers import KerasClassifier\n",
    "\n",
    "# Creating the model\n",
    "def mlp_one_hot_deep_model():\n",
    "    model = Sequential()\n",
    "    model.add(Dense(X_wine.shape[1], input_dim=X_wine.shape[1], activation='relu'))\n",
    "    model.add(Dense(8, activation='relu'))\n",
    "    model.add(Dense(8, activation='relu'))\n",
    "    model.add(Dense(3, activation='softmax'))\n",
    "\n",
    "    # Compiling the model\n",
    "    model.compile(loss='categorical_crossentropy', optimizer='adam', metrics=['accuracy'])\n",
    "    \n",
    "    return model\n",
    "\n",
    "# Wrapping Keras model into a Scikit-Learn Classifier (estimator)\n",
    "model = KerasClassifier(model=mlp_one_hot_deep_model, epochs=150, batch_size=5, verbose=0)\n",
    "\n",
    "# 5-fold cross-validation\n",
    "scores = cross_validate(model, X_wine_scaled, y_wine_encoded, cv=5)\n",
    "print(\"Accuracy:          %0.2f (+/- %0.2f)\" % (scores['test_score'].mean(), scores['test_score'].std() * 2))\n",
    "print(\"Training time (s): %0.2f (+/- %0.2f)\" % (scores['fit_time'].mean(), scores['fit_time'].std() * 2))\n",
    "print(\"Testing time (s):  %0.2f (+/- %0.2f)\" % (scores['score_time'].mean(), scores['score_time'].std() * 2))"
   ]
  }
 ],
 "metadata": {
  "kernelspec": {
   "display_name": "Python 3",
   "language": "python",
   "name": "python3"
  },
  "language_info": {
   "codemirror_mode": {
    "name": "ipython",
    "version": 3
   },
   "file_extension": ".py",
   "mimetype": "text/x-python",
   "name": "python",
   "nbconvert_exporter": "python",
   "pygments_lexer": "ipython3",
   "version": "3.8.8"
  },
  "toc": {
   "base_numbering": 1,
   "nav_menu": {},
   "number_sections": true,
   "sideBar": true,
   "skip_h1_title": false,
   "title_cell": "Table of Contents",
   "title_sidebar": "Contents",
   "toc_cell": false,
   "toc_position": {
    "height": "calc(100% - 180px)",
    "left": "10px",
    "top": "150px",
    "width": "256px"
   },
   "toc_section_display": true,
   "toc_window_display": true
  },
  "varInspector": {
   "cols": {
    "lenName": 16,
    "lenType": 16,
    "lenVar": 40
   },
   "kernels_config": {
    "python": {
     "delete_cmd_postfix": "",
     "delete_cmd_prefix": "del ",
     "library": "var_list.py",
     "varRefreshCmd": "print(var_dic_list())"
    },
    "r": {
     "delete_cmd_postfix": ") ",
     "delete_cmd_prefix": "rm(",
     "library": "var_list.r",
     "varRefreshCmd": "cat(var_dic_list()) "
    }
   },
   "types_to_exclude": [
    "module",
    "function",
    "builtin_function_or_method",
    "instance",
    "_Feature"
   ],
   "window_display": false
  }
 },
 "nbformat": 4,
 "nbformat_minor": 2
}
